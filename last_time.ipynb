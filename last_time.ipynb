{
 "cells": [
  {
   "cell_type": "markdown",
   "metadata": {},
   "source": [
    "### last time\n",
    "\n",
    "https://leetcode.com/problems/missing-ranges/description/\n",
    "\n",
    "https://leetcode.com/problems/merge-intervals/description/\n",
    "\n",
    "https://leetcode.com/problems/insert-interval/description/\n",
    "\n",
    "http://www.lintcode.com/zh-cn/problem/first-position-unique-character/\n",
    "\n",
    "https://leetcode.com/problems/find-all-anagrams-in-a-string/description/\n",
    "\n",
    "https://leetcode.com/problems/unique-word-abbreviation/description/\n",
    "\n",
    "https://leetcode.com/problems/longest-consecutive-sequence/description/\n",
    "\n",
    "http://www.lintcode.com/en/problem/load-balancer/"
   ]
  },
  {
   "cell_type": "markdown",
   "metadata": {},
   "source": [
    "### today\n",
    "\n",
    "https://leetcode.com/problems/search-a-2d-matrix/description/\n",
    "\n",
    "https://leetcode.com/problems/search-a-2d-matrix-ii/description/\n",
    "\n",
    "https://leetcode.com/problems/rotate-image/description/\n",
    "\n",
    "https://leetcode.com/problems/sparse-matrix-multiplication/description/\n",
    "\n",
    "https://leetcode.com/problems/add-strings/description/\n",
    "\n",
    "https://leetcode.com/problems/add-two-numbers/description/\n",
    "\n",
    "https://leetcode.com/problems/add-two-numbers-ii/description/\n",
    "\n",
    "https://leetcode.com/problems/multiply-strings/description/\n",
    "\n",
    "https://leetcode.com/problems/powx-n/description/"
   ]
  },
  {
   "cell_type": "code",
   "execution_count": null,
   "metadata": {
    "collapsed": true
   },
   "outputs": [],
   "source": []
  }
 ],
 "metadata": {
  "kernelspec": {
   "display_name": "Python 3",
   "language": "python",
   "name": "python3"
  },
  "language_info": {
   "codemirror_mode": {
    "name": "ipython",
    "version": 3
   },
   "file_extension": ".py",
   "mimetype": "text/x-python",
   "name": "python",
   "nbconvert_exporter": "python",
   "pygments_lexer": "ipython3",
   "version": "3.6.1"
  }
 },
 "nbformat": 4,
 "nbformat_minor": 2
}
