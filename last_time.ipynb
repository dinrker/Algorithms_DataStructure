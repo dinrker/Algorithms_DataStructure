{
 "cells": [
  {
   "cell_type": "markdown",
   "metadata": {},
   "source": [
    "### last time\n",
    "\n",
    "https://leetcode.com/problems/one-edit-distance/description/\n"
   ]
  },
  {
   "cell_type": "markdown",
   "metadata": {},
   "source": [
    "### today\n",
    "\n",
    "https://leetcode.com/problems/moving-average-from-data-stream/description/\n",
    "\n",
    "https://leetcode.com/problems/read-n-characters-given-read4/description/\n",
    "\n",
    "https://leetcode.com/problems/read-n-characters-given-read4-ii-call-multiple-times/description/"
   ]
  },
  {
   "cell_type": "code",
   "execution_count": null,
   "metadata": {
    "collapsed": true
   },
   "outputs": [],
   "source": []
  }
 ],
 "metadata": {
  "kernelspec": {
   "display_name": "Python 3",
   "language": "python",
   "name": "python3"
  },
  "language_info": {
   "codemirror_mode": {
    "name": "ipython",
    "version": 3
   },
   "file_extension": ".py",
   "mimetype": "text/x-python",
   "name": "python",
   "nbconvert_exporter": "python",
   "pygments_lexer": "ipython3",
   "version": "3.6.2"
  }
 },
 "nbformat": 4,
 "nbformat_minor": 2
}
