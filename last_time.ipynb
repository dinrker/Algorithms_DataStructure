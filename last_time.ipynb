{
 "cells": [
  {
   "cell_type": "markdown",
   "metadata": {},
   "source": [
    "### last time\n",
    "\n",
    "https://leetcode.com/problems/moving-average-from-data-stream/description/\n",
    "\n",
    "http://www.lintcode.com/zh-cn/problem/edit-distance-ii/#\n",
    "\n",
    "https://leetcode.com/problems/read-n-characters-given-read4/description/\n",
    "\n",
    "https://leetcode.com/problems/read-n-characters-given-read4-ii-call-multiple-times/description/\n",
    "\n",
    "http://www.lintcode.com/zh-cn/problem/strings-serialization/\n",
    "\n",
    "https://leetcode.com/problems/longest-absolute-file-path/description/\n",
    "\n",
    "https://leetcode.com/problems/roman-to-integer/description/\n",
    "\n",
    "https://leetcode.com/problems/integer-to-roman/description/\n",
    "\n",
    "http://www.lintcode.com/zh-cn/problem/identify-celebrity/"
   ]
  },
  {
   "cell_type": "markdown",
   "metadata": {},
   "source": [
    "### today\n",
    "\n",
    "https://leetcode.com/problems/missing-ranges/description/\n",
    "\n",
    "https://leetcode.com/problems/merge-intervals/description/\n",
    "\n",
    "https://leetcode.com/problems/insert-interval/description/\n",
    "\n",
    "http://www.lintcode.com/zh-cn/problem/first-position-unique-character/\n",
    "\n",
    "https://leetcode.com/problems/find-all-anagrams-in-a-string/description/\n",
    "\n",
    "https://leetcode.com/problems/unique-word-abbreviation/description/"
   ]
  },
  {
   "cell_type": "code",
   "execution_count": null,
   "metadata": {
    "collapsed": true
   },
   "outputs": [],
   "source": []
  }
 ],
 "metadata": {
  "kernelspec": {
   "display_name": "Python 3",
   "language": "python",
   "name": "python3"
  },
  "language_info": {
   "codemirror_mode": {
    "name": "ipython",
    "version": 3
   },
   "file_extension": ".py",
   "mimetype": "text/x-python",
   "name": "python",
   "nbconvert_exporter": "python",
   "pygments_lexer": "ipython3",
   "version": "3.6.1"
  }
 },
 "nbformat": 4,
 "nbformat_minor": 2
}
