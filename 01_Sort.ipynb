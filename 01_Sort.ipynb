{
 "cells": [
  {
   "cell_type": "markdown",
   "metadata": {},
   "source": [
    "# 1. Wiggle sort & K-th largest number"
   ]
  },
  {
   "cell_type": "markdown",
   "metadata": {},
   "source": [
    "*  **Wiggle sort**\n",
    "\n",
    "Given an unsorted array nums, reorder it in-place such that nums[0] <= nums[1] >= nums[2] <= nums[3]....\n",
    "\n",
    "For example, given nums = [3, 5, 2, 1, 6, 4], one possible answer is [1, 6, 2, 5, 3, 4].\n"
   ]
  },
  {
   "cell_type": "code",
   "execution_count": 1,
   "metadata": {
    "collapsed": true
   },
   "outputs": [],
   "source": [
    "class Solution(object):\n",
    "    def wiggleSort(self, nums):\n",
    "        \"\"\"\n",
    "        :type nums: List[int]\n",
    "        :rtype: void Do not return anything, modify nums in-place instead.\n",
    "        \"\"\"\n",
    "        \n",
    "        for i in range(len(nums)-1):\n",
    "            if (i%2 == 0 and nums[i] > nums[i+1]) or (i%2 ==1 and nums[i] < nums[i+1]):\n",
    "                nums[i], nums[i+1] = nums[i+1], nums[i]         "
   ]
  },
  {
   "cell_type": "markdown",
   "metadata": {},
   "source": [
    "* **Wiggle sort II**\n",
    "\n",
    "https://leetcode.com/problems/wiggle-sort-ii/?tab=Description\n",
    "\n",
    "Given an unsorted array nums, reorder it such that nums[0] < nums[1] > nums[2] < nums[3]....\n",
    "\n",
    "Example:\n",
    "(1) Given nums = [1, 5, 1, 1, 6, 4], one possible answer is [1, 4, 1, 5, 1, 6]. \n",
    "(2) Given nums = [1, 3, 2, 2, 3, 1], one possible answer is [2, 3, 1, 3, 1, 2].\n",
    "\n",
    "Note:\n",
    "You may assume all input has valid answer."
   ]
  },
  {
   "cell_type": "code",
   "execution_count": 2,
   "metadata": {
    "collapsed": true
   },
   "outputs": [],
   "source": [
    "class Solution(object):\n",
    "    def wiggleSort(self, nums):\n",
    "        \"\"\"\n",
    "        :type nums: List[int]\n",
    "        :rtype: void Do not return anything, modify nums in-place instead.\n",
    "        \"\"\"\n",
    "        \n",
    "        nums.sort()\n",
    "        half = len(nums[::2]) - 1\n",
    "        nums[::2], nums[1::2] = nums[half::-1], nums[:half:-1]"
   ]
  },
  {
   "cell_type": "markdown",
   "metadata": {},
   "source": [
    "* **Follow Up**\n",
    "\n",
    "Can you do it in O(n) time and/or in-place with O(1) extra space? \n"
   ]
  },
  {
   "cell_type": "code",
   "execution_count": 82,
   "metadata": {
    "collapsed": false
   },
   "outputs": [],
   "source": [
    "class Solution(object):\n",
    "    def wiggleSort(self, nums):\n",
    "        \"\"\"\n",
    "        :type nums: List[int]\n",
    "        :rtype: void Do not return anything, modify nums in-place instead.\n",
    "        \"\"\"\n",
    "        \n",
    "        # O(n) by partition\n",
    "        n = len(nums)\n",
    "        med = self.findKthLargest(nums, (n+1)/2)\n",
    "        idx = lambda x: (1 + 2*x) % (n|1)\n",
    "        i, j , k = 0, 0 , n-1\n",
    "        while j <= k:\n",
    "            if nums[idx(j)] > med:\n",
    "                nums[idx(j)], nums[idx(i)] = nums[idx(i)], nums[idx(j)]\n",
    "                i += 1\n",
    "                j += 1\n",
    "            elif nums[idx(j)] < med:\n",
    "                nums[idx(j)], nums[idx(k)] = nums[idx(k)], nums[idx(j)]\n",
    "                k -= 1\n",
    "            else:\n",
    "                j += 1\n",
    "        \n",
    "        print nums\n",
    "\n",
    "        \n",
    "    def partition(self, nums, l, r):\n",
    "        pivot = l\n",
    "        while l < r:\n",
    "            if nums[l] < nums[r]:\n",
    "                nums[l], nums[pivot] = nums[pivot], nums[l]\n",
    "                pivot += 1\n",
    "            l += 1\n",
    "        \n",
    "        nums[pivot], nums[r] = nums[r], nums[pivot]\n",
    "        \n",
    "        return pivot\n",
    "    \n",
    "    def findKthLargest(self, nums, k):  # k can't be 0, 1<=k <= n\n",
    "        n = len(nums)\n",
    "        pivot = self.partition(nums, 0, n-1)\n",
    "        if pivot > n-k:\n",
    "            return self.findKthLargest(nums[:pivot], pivot-(n-k)) \n",
    "        elif pivot < n-k:\n",
    "            return self.findKthLargest(nums[pivot+1:], k)\n",
    "        else:\n",
    "            return nums[pivot]"
   ]
  },
  {
   "cell_type": "code",
   "execution_count": 83,
   "metadata": {
    "collapsed": false
   },
   "outputs": [
    {
     "name": "stdout",
     "output_type": "stream",
     "text": [
      "[1, 2, 1, 2, 1, 2]\n"
     ]
    }
   ],
   "source": [
    "s = Solution()\n",
    "s.wiggleSort([1,1,2,2,2,1])"
   ]
  },
  {
   "cell_type": "code",
   "execution_count": 92,
   "metadata": {
    "collapsed": false
   },
   "outputs": [],
   "source": [
    "nums = [100 - i for i in range(100)]"
   ]
  },
  {
   "cell_type": "code",
   "execution_count": 93,
   "metadata": {
    "collapsed": false
   },
   "outputs": [
    {
     "name": "stdout",
     "output_type": "stream",
     "text": [
      "[1, 99, 3, 97, 5, 95, 7, 93, 9, 91, 11, 89, 13, 87, 15, 85, 17, 83, 19, 81, 21, 79, 23, 77, 25, 75, 27, 73, 29, 71, 31, 69, 33, 67, 35, 65, 37, 63, 39, 61, 41, 59, 43, 57, 45, 55, 47, 53, 50, 52, 48, 54, 46, 56, 44, 58, 42, 60, 40, 62, 38, 64, 36, 66, 34, 68, 32, 70, 30, 72, 28, 74, 26, 76, 24, 78, 22, 80, 20, 82, 18, 84, 16, 86, 14, 88, 12, 90, 10, 92, 8, 94, 6, 96, 4, 98, 2, 100, 49, 51]\n"
     ]
    }
   ],
   "source": [
    "s.wiggleSort(nums)"
   ]
  },
  {
   "cell_type": "markdown",
   "metadata": {},
   "source": [
    "* **K-th largest number**\n",
    "\n",
    "Find the kth largest element in an unsorted array. Note that it is the kth largest element in the sorted order, not the kth distinct element.\n",
    "\n",
    "For example,\n",
    "Given [3,2,1,5,6,4] and k = 2, return 5.\n",
    "\n",
    "Note: \n",
    "You may assume k is always valid, 1 ≤ k ≤ array's length.\n",
    "\n",
    "O(n): partition --> k-th "
   ]
  },
  {
   "cell_type": "code",
   "execution_count": 3,
   "metadata": {
    "collapsed": true
   },
   "outputs": [],
   "source": [
    "# O(nlgn) time\n",
    "def findKthLargest1(self, nums, k):\n",
    "    return sorted(nums, reverse=True)[k-1]\n",
    "    \n",
    "# O(nk) time, bubble sort idea, TLE\n",
    "def findKthLargest2(self, nums, k):\n",
    "    for i in xrange(k):\n",
    "        for j in xrange(len(nums)-i-1):\n",
    "            if nums[j] > nums[j+1]:\n",
    "                # exchange elements, time consuming\n",
    "                nums[j], nums[j+1] = nums[j+1], nums[j]\n",
    "    return nums[len(nums)-k]\n",
    "    \n",
    "# O(nk) time, selection sort idea\n",
    "def findKthLargest3(self, nums, k):\n",
    "    for i in xrange(len(nums), len(nums)-k, -1):\n",
    "        tmp = 0\n",
    "        for j in xrange(i):\n",
    "            if nums[j] > nums[tmp]:\n",
    "                tmp = j\n",
    "        nums[tmp], nums[i-1] = nums[i-1], nums[tmp]\n",
    "    return nums[len(nums)-k]\n",
    "    \n",
    "# O(k+(n-k)lgk) time, min-heap\n",
    "def findKthLargest4(self, nums, k):\n",
    "    heap = []\n",
    "    for num in nums:\n",
    "        heapq.heappush(heap, num)\n",
    "    for _ in xrange(len(nums)-k):\n",
    "        heapq.heappop(heap)\n",
    "    return heapq.heappop(heap)\n",
    "\n",
    "# O(k+(n-k)lgk) time, min-heap        \n",
    "def findKthLargest5(self, nums, k):\n",
    "    return heapq.nlargest(k, nums)[k-1]\n",
    "    \n",
    "# O(n) time, quick selection\n",
    "def findKthLargest(self, nums, k):\n",
    "    # convert the kth largest to smallest\n",
    "    return self.findKthSmallest(nums, len(nums)+1-k)\n",
    "    \n",
    "def findKthSmallest(self, nums, k):\n",
    "    if nums:\n",
    "        pos = self.partition(nums, 0, len(nums)-1)\n",
    "        if k > pos+1:\n",
    "            return self.findKthSmallest(nums[pos+1:], k-pos-1)\n",
    "        elif k < pos+1:\n",
    "            return self.findKthSmallest(nums[:pos], k)\n",
    "        else:\n",
    "            return nums[pos]\n",
    "\n",
    "# choose the right-most element as pivot   \n",
    "def partition(self, nums, l, r):\n",
    "    low = l\n",
    "    while l < r:\n",
    "        if nums[l] < nums[r]:\n",
    "            nums[l], nums[low] = nums[low], nums[l]\n",
    "            low += 1\n",
    "        l += 1\n",
    "    nums[low], nums[r] = nums[r], nums[low]\n",
    "    return low"
   ]
  },
  {
   "cell_type": "markdown",
   "metadata": {},
   "source": [
    "* **Third Maximum Number**\n",
    "\n",
    "Given a non-empty array of integers, return the third maximum number in this array. If it does not exist, return the maximum number. The time complexity must be in O(n).\n",
    "\n",
    "Example 1:\n",
    "Input: [3, 2, 1]\n",
    "\n",
    "Output: 1\n",
    "\n",
    "Explanation: The third maximum is 1.\n",
    "Example 2:\n",
    "Input: [1, 2]\n",
    "\n",
    "Output: 2\n",
    "\n",
    "Explanation: The third maximum does not exist, so the maximum (2) is returned instead.\n",
    "Example 3:\n",
    "Input: [2, 2, 3, 1]\n",
    "\n",
    "Output: 1\n",
    "\n",
    "Explanation: Note that the third maximum here means the third maximum distinct number.\n",
    "Both numbers with value 2 are both considered as second maximum."
   ]
  },
  {
   "cell_type": "code",
   "execution_count": 94,
   "metadata": {
    "collapsed": true
   },
   "outputs": [],
   "source": [
    "class Solution(object):\n",
    "    def thirdMax(self, nums):\n",
    "        \"\"\"\n",
    "        :type nums: List[int]\n",
    "        :rtype: int\n",
    "        \"\"\"\n",
    "        nums = set(nums)   ## this is important!!\n",
    "        if len(nums) < 3:\n",
    "            return max(nums)\n",
    "        nums.remove(max(nums))\n",
    "        nums.remove(max(nums))\n",
    "        return max(nums)"
   ]
  },
  {
   "cell_type": "markdown",
   "metadata": {},
   "source": [
    "* **Top K Frequent Elements**\n",
    "\n",
    "Given a non-empty array of integers, return the k most frequent elements.\n",
    "\n",
    "For example,\n",
    "Given [1,1,1,2,2,3] and k = 2, return [1,2].\n",
    "\n",
    "Note: \n",
    "You may assume k is always valid, 1 ≤ k ≤ number of unique elements.\n",
    "Your algorithm's time complexity must be better than O(n log n), where n is the array's size.\n",
    "Show Company Tags\n",
    "Show Tags\n",
    "Show Similar Problems\n"
   ]
  },
  {
   "cell_type": "code",
   "execution_count": 95,
   "metadata": {
    "collapsed": true
   },
   "outputs": [],
   "source": [
    "class Solution(object):\n",
    "    def topKFrequent(self, nums, k):\n",
    "        \"\"\"\n",
    "        :type nums: List[int]\n",
    "        :type k: int\n",
    "        :rtype: List[int]\n",
    "        \"\"\"\n",
    "        dic, ans = {}, []\n",
    "        for i in range(len(nums)):\n",
    "            dic[nums[i]] = dic.get(nums[i], 0) + 1\n",
    "        for num in dic:\n",
    "            if len(ans) == 0 or dic[num] <= dic[ans[-1]]:\n",
    "                ans.append(num)\n",
    "            elif dic[num] >= dic[ans[0]]:\n",
    "                ans = [num] + ans\n",
    "            else:\n",
    "                l, r = 0, len(ans)-1\n",
    "                while l < r:\n",
    "                    m = (l+r)/2\n",
    "                    if dic[ans[m]] >= dic[num]:\n",
    "                        l = m + 1\n",
    "                    else:\n",
    "                        r = m - 1\n",
    "                if dic[ans[l]] >= dic[num]:\n",
    "                    ans = ans[:l+1] + [num] + ans[l+1:]\n",
    "                else:\n",
    "                    ans = ans[:l] + [num] + ans[l:]\n",
    "            if len(ans) > k:\n",
    "                ans.pop()\n",
    "        return ans"
   ]
  },
  {
   "cell_type": "markdown",
   "metadata": {},
   "source": [
    "* **Sort Colors**\n",
    "https://leetcode.com/problems/sort-colors/?tab=Description"
   ]
  },
  {
   "cell_type": "code",
   "execution_count": 102,
   "metadata": {
    "collapsed": true
   },
   "outputs": [],
   "source": [
    "class Solution(object):\n",
    "    def sortColors(self, nums):\n",
    "        \"\"\"\n",
    "        :type nums: List[int]\n",
    "        :rtype: void Do not return anything, modify nums in-place instead.\n",
    "        \"\"\"\n",
    "        dic = {0: 0, 1: 0, 2: 0}\n",
    "        for num in nums:\n",
    "            dic[num] = dic.get(num, 0) + 1\n",
    "        print dic\n",
    "        for i in range(len(nums)):\n",
    "            if i < dic[0]:\n",
    "                nums[i] = 0\n",
    "            elif i < dic[0] + dic[1]:\n",
    "                nums[i] = 1\n",
    "            else:\n",
    "                nums[i] = 2\n",
    "        "
   ]
  },
  {
   "cell_type": "code",
   "execution_count": 103,
   "metadata": {
    "collapsed": true
   },
   "outputs": [],
   "source": [
    "s = Solution()"
   ]
  },
  {
   "cell_type": "code",
   "execution_count": 104,
   "metadata": {
    "collapsed": false
   },
   "outputs": [
    {
     "name": "stdout",
     "output_type": "stream",
     "text": [
      "{0: 0, 1: 1, 2: 0}\n"
     ]
    }
   ],
   "source": [
    "s.sortColors([1])"
   ]
  },
  {
   "cell_type": "markdown",
   "metadata": {},
   "source": [
    "* **merge two sorted lists**\n",
    "\n",
    "Merge two sorted linked lists and return it as a new list. The new list should be made by splicing together the nodes of the first two lists."
   ]
  },
  {
   "cell_type": "code",
   "execution_count": 105,
   "metadata": {
    "collapsed": true
   },
   "outputs": [],
   "source": [
    "# Definition for singly-linked list.\n",
    "# class ListNode(object):\n",
    "#     def __init__(self, x):\n",
    "#         self.val = x\n",
    "#         self.next = None\n",
    "\n",
    "class Solution(object):\n",
    "    def mergeTwoLists(self, l1, l2):\n",
    "        \"\"\"\n",
    "        :type l1: ListNode\n",
    "        :type l2: ListNode\n",
    "        :rtype: ListNode\n",
    "        \"\"\"\n",
    "        \n",
    "        dummy = node = ListNode(0)\n",
    "        while l1 and l2:\n",
    "            if l1.val <= l2.val:\n",
    "                node.next = l1\n",
    "                l1 = l1.next\n",
    "            else:\n",
    "                node.next = l2\n",
    "                l2 = l2.next\n",
    "            node = node.next\n",
    "        node.next = l1 or l2\n",
    "        \n",
    "        return dummy.next\n",
    "        \n",
    "        \n",
    "        # if not l1:\n",
    "        #     return l2\n",
    "        # elif not l2:\n",
    "        #     return l1\n",
    "        \n",
    "        # head = ListNode(0)\n",
    "        # node = head\n",
    "        \n",
    "        # while l1 and l2:\n",
    "        #     if l1.val <= l2.val:\n",
    "        #         node.next = l1\n",
    "        #         l1 = l1.next\n",
    "        #     else:\n",
    "        #         node.next = l2\n",
    "        #         l2 = l2.next\n",
    "        #     node = node.next\n",
    "        # node.next = l1 if not l2 else l2\n",
    "        # head = head.next\n",
    "        \n",
    "        # return head"
   ]
  },
  {
   "cell_type": "markdown",
   "metadata": {},
   "source": [
    "* **Sort List**\n",
    "\n",
    "Sort a linked list in O(n log n) time using constant space complexity."
   ]
  },
  {
   "cell_type": "code",
   "execution_count": 107,
   "metadata": {
    "collapsed": true
   },
   "outputs": [],
   "source": [
    "# Definition for singly-linked list.\n",
    "# class ListNode(object):\n",
    "#     def __init__(self, x):\n",
    "#         self.val = x\n",
    "#         self.next = None\n",
    "\n",
    "class Solution(object):\n",
    "    def sortList(self, head):\n",
    "        \"\"\"\n",
    "        :type head: ListNode\n",
    "        :rtype: ListNode\n",
    "        \"\"\"\n",
    "        if not head or not head.next:\n",
    "            return head\n",
    "        fast, slow = head.next, head\n",
    "        while fast and fast.next:\n",
    "            fast, slow = fast.next.next, slow.next\n",
    "        second = slow.next\n",
    "        slow.next = None\n",
    "        l1 = self.sortList(head)\n",
    "        l2 = self.sortList(second)\n",
    "        return self.merge(l1, l2)\n",
    "        \n",
    "\n",
    "    def merge(self, l1, l2):\n",
    "        dummy = node = ListNode(0)\n",
    "        while l1 and l2:\n",
    "            if l1.val <= l2.val:\n",
    "                node.next = l1\n",
    "                l1 = l1.next\n",
    "            else:\n",
    "                node.next = l2\n",
    "                l2 = l2.next\n",
    "            node = node.next\n",
    "        node.next = l1 or l2\n",
    "        \n",
    "        return dummy.next"
   ]
  },
  {
   "cell_type": "code",
   "execution_count": null,
   "metadata": {
    "collapsed": true
   },
   "outputs": [],
   "source": []
  }
 ],
 "metadata": {
  "anaconda-cloud": {},
  "kernelspec": {
   "display_name": "Python [default]",
   "language": "python",
   "name": "python2"
  },
  "language_info": {
   "codemirror_mode": {
    "name": "ipython",
    "version": 2
   },
   "file_extension": ".py",
   "mimetype": "text/x-python",
   "name": "python",
   "nbconvert_exporter": "python",
   "pygments_lexer": "ipython2",
   "version": "2.7.12"
  }
 },
 "nbformat": 4,
 "nbformat_minor": 1
}
