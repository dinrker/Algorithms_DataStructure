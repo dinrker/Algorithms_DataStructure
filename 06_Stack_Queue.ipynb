{
 "cells": [
  {
   "cell_type": "markdown",
   "metadata": {},
   "source": [
    "#  Implement One by Other(s)"
   ]
  },
  {
   "cell_type": "markdown",
   "metadata": {},
   "source": [
    "* **Implement Queue by Two Stacks**\n",
    "\n",
    "http://www.lintcode.com/en/problem/implement-queue-by-two-stacks/"
   ]
  },
  {
   "cell_type": "code",
   "execution_count": 1,
   "metadata": {
    "collapsed": true
   },
   "outputs": [],
   "source": [
    "class MyQueue:\n",
    "\n",
    "    def __init__(self):\n",
    "        self.stack1 = []\n",
    "        self.stack2 = []\n",
    "        \n",
    "    def push(self, element):\n",
    "        # write your code here\n",
    "        self.stack1.append(element)\n",
    "\n",
    "    def top(self):\n",
    "        # write your code here\n",
    "        # return the top element\n",
    "        if len(self.stack2) == 0:\n",
    "            while self.stack1:\n",
    "                self.stack2.append(self.stack1.pop())\n",
    "        return self.stack2[-1]\n",
    "        \n",
    "\n",
    "    def pop(self):\n",
    "        # write your code here\n",
    "        # pop and return the top element\n",
    "        if len(self.stack2) == 0:\n",
    "            while self.stack1:\n",
    "                self.stack2.append(self.stack1.pop())\n",
    "        return self.stack2.pop()\n",
    "        \n"
   ]
  },
  {
   "cell_type": "markdown",
   "metadata": {},
   "source": [
    "* **Implement Stack by Two Queues**\n",
    "\n",
    "http://www.lintcode.com/en/problem/implement-stack-by-two-queues/"
   ]
  },
  {
   "cell_type": "code",
   "execution_count": 2,
   "metadata": {
    "collapsed": true
   },
   "outputs": [],
   "source": [
    "class Stack:\n",
    "    # initialize your data structure here.\n",
    "    def __init__(self):\n",
    "        self.queue = []\n",
    "\n",
    "    # @param x, an integer, push a new item into the stack\n",
    "    # @return nothing\n",
    "    def push(self, x):\n",
    "        # Write your code here\n",
    "        self.queue.append(x)\n",
    "\n",
    "    # @return nothing, pop the top of the stack\n",
    "    def pop(self):\n",
    "        # Write your code here\n",
    "        n = len(self.queue)\n",
    "        for i in range(n-1):\n",
    "            self.queue.append(self.queue.pop(0))\n",
    "        return self.queue.pop(0)\n",
    "        \n",
    "\n",
    "    # @return an integer, return the top of the stack\n",
    "    def top(self):\n",
    "        # Write your code here\n",
    "        top = None\n",
    "        n = len(self.queue)\n",
    "        for i in range(n):\n",
    "            top = self.queue.pop(0)\n",
    "            self.queue.append(top)\n",
    "        return top\n",
    "\n",
    "    # @return an boolean, check the stack is empty or not.\n",
    "    def isEmpty(self):\n",
    "        # Write your code here\n",
    "        return self.queue == []"
   ]
  },
  {
   "cell_type": "markdown",
   "metadata": {},
   "source": [
    "# Min Stack\n",
    "\n",
    "Implement a stack with min() function, which will return the smallest number in the stack.\n",
    "\n",
    "It should support push, pop and min operation all in O(1) cost.\n",
    "\n",
    "http://www.lintcode.com/en/problem/min-stack/\n",
    "\n",
    "https://leetcode.com/problems/min-stack/#/description"
   ]
  },
  {
   "cell_type": "code",
   "execution_count": 3,
   "metadata": {
    "collapsed": true
   },
   "outputs": [],
   "source": [
    "class MinStack(object):\n",
    "\n",
    "    def __init__(self):\n",
    "        # do some intialize if necessary\n",
    "        self.stack = []\n",
    "\n",
    "    def push(self, number):\n",
    "        # write yout code here\n",
    "        curMin = self.min()\n",
    "        if curMin is None or number < curMin:\n",
    "            curMin = number\n",
    "        self.stack.append([number, curMin])\n",
    "\n",
    "    def pop(self):\n",
    "        # pop and return the top item in stack\n",
    "        pop = self.stack.pop()\n",
    "        return pop[0]\n",
    "\n",
    "    def min(self):\n",
    "        # return the minimum number in stack\n",
    "        if len(self.stack) == 0:\n",
    "            return None\n",
    "        else:\n",
    "            return self.stack[-1][1]"
   ]
  },
  {
   "cell_type": "code",
   "execution_count": null,
   "metadata": {
    "collapsed": true
   },
   "outputs": [],
   "source": []
  }
 ],
 "metadata": {
  "kernelspec": {
   "display_name": "Python [default]",
   "language": "python",
   "name": "python2"
  },
  "language_info": {
   "codemirror_mode": {
    "name": "ipython",
    "version": 2
   },
   "file_extension": ".py",
   "mimetype": "text/x-python",
   "name": "python",
   "nbconvert_exporter": "python",
   "pygments_lexer": "ipython2",
   "version": "2.7.12"
  }
 },
 "nbformat": 4,
 "nbformat_minor": 1
}
