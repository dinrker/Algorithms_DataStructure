{
 "cells": [
  {
   "cell_type": "markdown",
   "metadata": {},
   "source": [
    "# 1.  Target string in source string"
   ]
  },
  {
   "cell_type": "markdown",
   "metadata": {},
   "source": [
    "### strStr\n",
    "\n",
    "For a given source string and a target string, you should output the first index(from 0) of target string in source string.\n",
    "\n",
    "If target does not exist in source, just return -1. http://www.lintcode.com/en/problem/strstr/#"
   ]
  },
  {
   "cell_type": "code",
   "execution_count": 1,
   "metadata": {
    "collapsed": false
   },
   "outputs": [
    {
     "data": {
      "text/plain": [
       "False"
      ]
     },
     "execution_count": 1,
     "metadata": {},
     "output_type": "execute_result"
    }
   ],
   "source": [
    "# Corner case!!!\n",
    "\"\" is None"
   ]
  },
  {
   "cell_type": "code",
   "execution_count": 2,
   "metadata": {
    "collapsed": true
   },
   "outputs": [],
   "source": [
    "class Solution:\n",
    "    def strStr(self, source, target):\n",
    "        # write your code here\n",
    "        if source is None or target is None:\n",
    "            return -1\n",
    "        m = len(source)\n",
    "        n = len(target)\n",
    "        for i in range(m-n+1):\n",
    "            j = 0\n",
    "            while j < n:\n",
    "                if source[i+j] != target[j]:\n",
    "                    break\n",
    "                j += 1\n",
    "            if j == n:\n",
    "                return i\n",
    "        return -1"
   ]
  },
  {
   "cell_type": "code",
   "execution_count": 5,
   "metadata": {
    "collapsed": false
   },
   "outputs": [
    {
     "data": {
      "text/plain": [
       "1"
      ]
     },
     "execution_count": 5,
     "metadata": {},
     "output_type": "execute_result"
    }
   ],
   "source": [
    "Solution().strStr('abssss', 'bs')"
   ]
  },
  {
   "cell_type": "markdown",
   "metadata": {},
   "source": [
    "### Implement strStr function in O(n + m) time.\n",
    "\n",
    "strStr return the first index of the target string in a source string. The length of the target string is m and the length of the source string is n.\n",
    "If target does not exist in source, just return -1."
   ]
  },
  {
   "cell_type": "code",
   "execution_count": null,
   "metadata": {
    "collapsed": true
   },
   "outputs": [],
   "source": []
  },
  {
   "cell_type": "markdown",
   "metadata": {},
   "source": [
    "# 2. Subsets\n",
    "\n",
    "Given a set of distinct integers, return all possible subsets."
   ]
  },
  {
   "cell_type": "code",
   "execution_count": 12,
   "metadata": {
    "collapsed": false
   },
   "outputs": [],
   "source": [
    "class Solution:\n",
    "    \"\"\"\n",
    "    @param S: The set of numbers.\n",
    "    @return: A list of lists. See example.\n",
    "    \"\"\"\n",
    "    def subsets(self, S):\n",
    "        # write your code here\n",
    "        if len(S) == 0:\n",
    "            return [[]]\n",
    "        S.sort()\n",
    "        res = self.subsets(S[:-1])\n",
    "        ans = []\n",
    "        for s in res:\n",
    "            ans.append(s)\n",
    "            ans.append(s + [S[-1]])\n",
    "        return  ans"
   ]
  },
  {
   "cell_type": "code",
   "execution_count": 14,
   "metadata": {
    "collapsed": false
   },
   "outputs": [
    {
     "data": {
      "text/plain": [
       "[[], [2], [1], [1, 2]]"
      ]
     },
     "execution_count": 14,
     "metadata": {},
     "output_type": "execute_result"
    }
   ],
   "source": [
    "Solution().subsets([1,2])"
   ]
  },
  {
   "cell_type": "code",
   "execution_count": 15,
   "metadata": {
    "collapsed": true
   },
   "outputs": [],
   "source": [
    "class Solution:\n",
    "    \"\"\"\n",
    "    @param S: The set of numbers.\n",
    "    @return: A list of lists. See example.\n",
    "    \"\"\"\n",
    "    def subsets(self, S):\n",
    "        # write your code here\n",
    "        \n",
    "        self.results = []\n",
    "        self.subset = []\n",
    "        S.sort()\n",
    "        self.search(S, [], 0)\n",
    "        return self.results\n",
    "        \n",
    "        \n",
    "    def search(self, S, subset, index):\n",
    "        if index == len(S):\n",
    "            self.results.append(subset)\n",
    "            return\n",
    "        \n",
    "        self.search(S, subset + [S[index]], index + 1)\n",
    "        self.search(S, subset, index + 1)"
   ]
  },
  {
   "cell_type": "code",
   "execution_count": null,
   "metadata": {
    "collapsed": true
   },
   "outputs": [],
   "source": [
    "class Solution:\n",
    "    \"\"\"\n",
    "    @param S: The set of numbers.\n",
    "    @return: A list of lists. See example.\n",
    "    \"\"\"\n",
    "    def subsets(self, S):\n",
    "        # write your code here\n",
    "        \n",
    "        res = [[]]\n",
    "        S.sort()\n",
    "        for i in range(len(S)):\n",
    "            for j in range(len(res)):\n",
    "                res.append(res[j] + [S[i]])\n",
    "        return res\n",
    "        "
   ]
  },
  {
   "cell_type": "markdown",
   "metadata": {},
   "source": [
    "* Given a list of numbers that may has duplicate numbers, return all possible subsets"
   ]
  },
  {
   "cell_type": "code",
   "execution_count": 21,
   "metadata": {
    "collapsed": true
   },
   "outputs": [],
   "source": [
    "class Solution:\n",
    "    \"\"\"\n",
    "    @param S: A set of numbers.\n",
    "    @return: A list of lists. All valid subsets.\n",
    "    \"\"\"\n",
    "    def subsetsWithDup(self, S):\n",
    "        # write your code here\n",
    "        res = [[]]\n",
    "        S.sort()\n",
    "        for i in range(len(S)):\n",
    "            if i == 0 or S[i] != S[i-1]:\n",
    "                l = len(res)\n",
    "            for j in range(len(res)-l, len(res)):\n",
    "                res.append(res[j] + [S[i]])\n",
    "        return res"
   ]
  },
  {
   "cell_type": "code",
   "execution_count": 22,
   "metadata": {
    "collapsed": false
   },
   "outputs": [
    {
     "data": {
      "text/plain": [
       "[[], [1], [2], [1, 2], [2, 2], [1, 2, 2]]"
      ]
     },
     "execution_count": 22,
     "metadata": {},
     "output_type": "execute_result"
    }
   ],
   "source": [
    "Solution().subsetsWithDup([1,2,2])"
   ]
  },
  {
   "cell_type": "markdown",
   "metadata": {},
   "source": [
    "# 3. Permutations\n",
    "\n",
    "Given a list of numbers, return all possible permutations.\n"
   ]
  },
  {
   "cell_type": "code",
   "execution_count": null,
   "metadata": {
    "collapsed": true
   },
   "outputs": [],
   "source": []
  },
  {
   "cell_type": "code",
   "execution_count": null,
   "metadata": {
    "collapsed": true
   },
   "outputs": [],
   "source": []
  },
  {
   "cell_type": "code",
   "execution_count": null,
   "metadata": {
    "collapsed": true
   },
   "outputs": [],
   "source": []
  },
  {
   "cell_type": "code",
   "execution_count": null,
   "metadata": {
    "collapsed": true
   },
   "outputs": [],
   "source": []
  },
  {
   "cell_type": "code",
   "execution_count": null,
   "metadata": {
    "collapsed": true
   },
   "outputs": [],
   "source": []
  },
  {
   "cell_type": "code",
   "execution_count": null,
   "metadata": {
    "collapsed": true
   },
   "outputs": [],
   "source": []
  }
 ],
 "metadata": {
  "anaconda-cloud": {},
  "kernelspec": {
   "display_name": "Python [conda root]",
   "language": "python",
   "name": "conda-root-py"
  },
  "language_info": {
   "codemirror_mode": {
    "name": "ipython",
    "version": 2
   },
   "file_extension": ".py",
   "mimetype": "text/x-python",
   "name": "python",
   "nbconvert_exporter": "python",
   "pygments_lexer": "ipython2",
   "version": "2.7.12"
  }
 },
 "nbformat": 4,
 "nbformat_minor": 1
}
