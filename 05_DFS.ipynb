{
 "cells": [
  {
   "cell_type": "markdown",
   "metadata": {},
   "source": [
    "# Subsets"
   ]
  },
  {
   "cell_type": "markdown",
   "metadata": {},
   "source": [
    "Given a set of distinct integers, return all possible subsets.\n",
    "\n",
    "http://www.lintcode.com/en/problem/subsets/\n",
    "\n",
    " Notice\n",
    "\n",
    "Elements in a subset must be in non-descending order.\n",
    "The solution set must not contain duplicate subsets.\n",
    "\n",
    "Example\n",
    "If S = [1,2,3], a solution is:\n",
    "\n",
    "[\n",
    "  [3],\n",
    "  [1],\n",
    "  [2],\n",
    "  [1,2,3],\n",
    "  [1,3],\n",
    "  [2,3],\n",
    "  [1,2],\n",
    "  []\n",
    "]"
   ]
  },
  {
   "cell_type": "code",
   "execution_count": 7,
   "metadata": {
    "collapsed": true
   },
   "outputs": [],
   "source": [
    "class Solution:\n",
    "    \"\"\"\n",
    "    @param S: The set of numbers.\n",
    "    @return: A list of lists. See example.\n",
    "    \"\"\"\n",
    "    def subsets(self, S):\n",
    "        # write your code here\n",
    "        \n",
    "        self.ans = []\n",
    "        S.sort()\n",
    "        self.search(S, [], 0)\n",
    "        return self.ans\n",
    "        \n",
    "    def search(self, S, subset, index):\n",
    "        if index == len(S):\n",
    "            self.ans.append(subset)\n",
    "            return \n",
    "        \n",
    "        self.search(S, subset + [S[index]], index + 1)\n",
    "        self.search(S, subset, index + 1)\n",
    "        "
   ]
  },
  {
   "cell_type": "markdown",
   "metadata": {},
   "source": [
    "# Permutations"
   ]
  },
  {
   "cell_type": "markdown",
   "metadata": {},
   "source": [
    "Given a list of numbers, return all possible permutations. \n",
    "\n",
    "http://www.lintcode.com/en/problem/permutations/\n",
    "\n",
    "https://leetcode.com/problems/permutations/#/description\n",
    "\n",
    "You can assume that there is no duplicate numbers in the list.\n",
    "\n",
    "Example\n",
    "For nums = [1,2,3], the permutations are:\n",
    "\n",
    "[\n",
    "  [1,2,3],\n",
    "  [1,3,2],\n",
    "  [2,1,3],\n",
    "  [2,3,1],\n",
    "  [3,1,2],\n",
    "  [3,2,1]\n",
    "]"
   ]
  },
  {
   "cell_type": "code",
   "execution_count": 10,
   "metadata": {
    "collapsed": true
   },
   "outputs": [],
   "source": [
    "class Solution:\n",
    "    \"\"\"\n",
    "    @param nums: A list of Integers.\n",
    "    @return: A list of permutations.\n",
    "    \"\"\"\n",
    "    def permute(self, nums):\n",
    "        # write your code here\n",
    "        \n",
    "        \n",
    "        if nums is None:\n",
    "            return []\n",
    "        \n",
    "        if len(nums) == 0:\n",
    "            return [[]]\n",
    "        \n",
    "        def helper(ans, temp, nums):\n",
    "            if len(nums) == 0:\n",
    "                ans += [temp]\n",
    "            else:\n",
    "                for i in range(len(nums)):\n",
    "                    helper(ans, temp + [nums[i]], nums[:i] + nums[i+1:])\n",
    "        \n",
    "        ans = []\n",
    "        helper(ans, [], sorted(nums))\n",
    "        return ans\n",
    "        "
   ]
  },
  {
   "cell_type": "code",
   "execution_count": 8,
   "metadata": {},
   "outputs": [
    {
     "data": {
      "text/plain": [
       "[]"
      ]
     },
     "execution_count": 8,
     "metadata": {},
     "output_type": "execute_result"
    }
   ],
   "source": [
    "nums = [1,2,3]\n",
    "i = 2\n",
    "nums[i+1:]"
   ]
  },
  {
   "cell_type": "code",
   "execution_count": null,
   "metadata": {
    "collapsed": true
   },
   "outputs": [],
   "source": []
  }
 ],
 "metadata": {
  "anaconda-cloud": {},
  "kernelspec": {
   "display_name": "Python 3",
   "language": "python",
   "name": "python3"
  },
  "language_info": {
   "codemirror_mode": {
    "name": "ipython",
    "version": 3
   },
   "file_extension": ".py",
   "mimetype": "text/x-python",
   "name": "python",
   "nbconvert_exporter": "python",
   "pygments_lexer": "ipython3",
   "version": "3.6.2"
  }
 },
 "nbformat": 4,
 "nbformat_minor": 1
}
