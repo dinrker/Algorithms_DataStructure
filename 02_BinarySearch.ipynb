{
 "cells": [
  {
   "cell_type": "markdown",
   "metadata": {},
   "source": [
    "# Rotated Sorted Array"
   ]
  },
  {
   "cell_type": "markdown",
   "metadata": {},
   "source": [
    "* **Find Minimum in Rotated Sorted Array**\n",
    "\n",
    "Suppose an array sorted in ascending order is rotated at some pivot unknown to you beforehand.\n",
    "\n",
    "(i.e., 0 1 2 4 5 6 7 might become 4 5 6 7 0 1 2).\n",
    "\n",
    "Find the minimum element.\n",
    "\n",
    "You may assume no duplicate exists in the array.\n",
    "\n",
    "https://leetcode.com/problems/find-minimum-in-rotated-sorted-array/#/description"
   ]
  },
  {
   "cell_type": "code",
   "execution_count": 4,
   "metadata": {
    "collapsed": true
   },
   "outputs": [],
   "source": [
    "class Solution(object):\n",
    "    def findMin(self, nums):\n",
    "        \"\"\"\n",
    "        :type nums: List[int]\n",
    "        :rtype: int\n",
    "        \"\"\"\n",
    "        if nums is None or len(nums) == 0:\n",
    "            return -1\n",
    "        \n",
    "        start, end = 0, len(nums)-1\n",
    "        x = nums[-1]\n",
    "        while start + 1 < end:\n",
    "            mid = start + (end - start) / 2\n",
    "            if nums[mid] <= x:\n",
    "                end = mid\n",
    "            else:\n",
    "                start = mid\n",
    "        \n",
    "        return nums[start] if nums[start] < nums[end] else nums[end]       "
   ]
  },
  {
   "cell_type": "code",
   "execution_count": 5,
   "metadata": {
    "collapsed": true
   },
   "outputs": [],
   "source": [
    "class Solution(object):\n",
    "    def findMin(self, nums):\n",
    "        \"\"\"\n",
    "        :type nums: List[int]\n",
    "        :rtype: int\n",
    "        \"\"\"\n",
    "        if nums is None or len(nums) == 0:\n",
    "            return -1\n",
    "        \n",
    "        start, end = 0, len(nums)-1\n",
    "        while start < end:\n",
    "            mid = start + (end - start) / 2\n",
    "            if nums[mid] > nums[end]:\n",
    "                start = mid + 1\n",
    "            else:\n",
    "                end = mid\n",
    "        \n",
    "        return nums[start]"
   ]
  },
  {
   "cell_type": "markdown",
   "metadata": {},
   "source": [
    "* **Follow up: Find Minimum in Rotated Sorted Array II**\n",
    "\n",
    "What if duplicates are allowed?\n",
    "\n",
    "Would this affect the run-time complexity? How and why?"
   ]
  },
  {
   "cell_type": "code",
   "execution_count": 7,
   "metadata": {
    "collapsed": true
   },
   "outputs": [],
   "source": [
    "class Solution(object):\n",
    "    def findMin(self, nums):\n",
    "        \"\"\"\n",
    "        :type nums: List[int]\n",
    "        :rtype: int\n",
    "        \"\"\"\n",
    "        n = len(nums)\n",
    "        if nums is None or n == 0:\n",
    "            return -1\n",
    "        \n",
    "        start, end = 0, n-1\n",
    "        while start + 1 < end:\n",
    "            mid = start + (end - start) / 2\n",
    "            if nums[mid] == nums[end]:\n",
    "                end -= 1   ## pretty smart and simple!!\n",
    "            elif nums[mid] > nums[end]:\n",
    "                start = mid \n",
    "            else:\n",
    "                end = mid\n",
    "        \n",
    "        return nums[start] if nums[start] <= nums[end] else nums[end]\n",
    "        "
   ]
  },
  {
   "cell_type": "markdown",
   "metadata": {},
   "source": [
    "* **Search in Rotated Sorted Array**\n",
    "\n",
    "You are given a target value to search. If found in the array return its index, otherwise return -1.\n",
    "\n",
    "https://leetcode.com/problems/search-in-rotated-sorted-array/#/description"
   ]
  },
  {
   "cell_type": "code",
   "execution_count": 6,
   "metadata": {
    "collapsed": false
   },
   "outputs": [],
   "source": [
    "# trival way\n",
    "class Solution(object):\n",
    "    def search(self, nums, target):\n",
    "        \"\"\"\n",
    "        :type nums: List[int]\n",
    "        :type target: int\n",
    "        :rtype: int\n",
    "        \"\"\"\n",
    "        n = len(nums)\n",
    "        if nums is None or n == 0:\n",
    "            return -1\n",
    "        \n",
    "        # find the minimun index\n",
    "        start, end = 0, n-1\n",
    "        while start < end:\n",
    "            mid = start + (end - start) / 2\n",
    "            if nums[mid] > nums[end]:\n",
    "                start = mid + 1\n",
    "            else:\n",
    "                end = mid\n",
    "        mark = start\n",
    "        \n",
    "        # binary search\n",
    "        start, end = 0, n-1\n",
    "        while start + 1 < end:\n",
    "            mid = start + (end - start) / 2\n",
    "            realmid = (mid + mark) % n\n",
    "            if nums[realmid] == target:\n",
    "                return realmid    ## important !!\n",
    "            elif nums[realmid] < target:\n",
    "                start = mid + 1\n",
    "            else:\n",
    "                end = mid - 1\n",
    "        \n",
    "        if nums[(start + mark) % n] == target:\n",
    "            return (start + mark) % n\n",
    "        if nums[(end + mark) % n] == target:\n",
    "            return (end + mark) % n \n",
    "        return -1        "
   ]
  },
  {
   "cell_type": "code",
   "execution_count": 8,
   "metadata": {
    "collapsed": false
   },
   "outputs": [],
   "source": [
    "# good way: beats 96.13%  key of bisection: shirink the interval !!\n",
    "class Solution(object):\n",
    "    def search(self, nums, target):\n",
    "        \"\"\"\n",
    "        :type nums: List[int]\n",
    "        :type target: int\n",
    "        :rtype: int\n",
    "        \"\"\"\n",
    "        n = len(nums)\n",
    "        if nums is None or n == 0:\n",
    "            return -1\n",
    "        \n",
    "        # binary search\n",
    "        start, end = 0, n-1\n",
    "        while start + 1 < end:\n",
    "            mid = start + (end - start) / 2\n",
    "            if nums[mid] == target:\n",
    "                return mid\n",
    "            elif nums[mid] > nums[end]:\n",
    "                if nums[end] < target < nums[mid]:\n",
    "                    end = mid - 1\n",
    "                else:\n",
    "                    start = mid\n",
    "            else:\n",
    "                if nums[mid] < target <= nums[end]:\n",
    "                    start = mid + 1\n",
    "                else:\n",
    "                    end = mid\n",
    "        \n",
    "        if nums[start] == target:\n",
    "            return start\n",
    "        if nums[end] == target:\n",
    "            return end\n",
    "        return -1\n",
    "                    "
   ]
  },
  {
   "cell_type": "markdown",
   "metadata": {},
   "source": [
    "* **Follow up for \"Search in Rotated Sorted Array\":**\n",
    "    \n",
    "What if duplicates are allowed?\n",
    "\n",
    "Would this affect the run-time complexity? How and why?"
   ]
  },
  {
   "cell_type": "code",
   "execution_count": 9,
   "metadata": {
    "collapsed": true
   },
   "outputs": [],
   "source": [
    "class Solution(object):\n",
    "    def search(self, nums, target):\n",
    "        \"\"\"\n",
    "        :type nums: List[int]\n",
    "        :type target: int\n",
    "        :rtype: bool\n",
    "        \"\"\"\n",
    "        if nums is None or len(nums) == 0:\n",
    "            return False\n",
    "        \n",
    "        start, end = 0, len(nums)-1\n",
    "        while start + 1 < end:\n",
    "            mid = start + (end - start) / 2\n",
    "            if nums[mid] == target:\n",
    "                return True\n",
    "            if nums[mid] == nums[end]:\n",
    "                end -= 1\n",
    "            elif nums[mid] > nums[end]:\n",
    "                if nums[end] < target < nums[mid]:\n",
    "                    end = mid - 1\n",
    "                else:\n",
    "                    start = mid\n",
    "            else:\n",
    "                if nums[mid] < target <= nums[end]:\n",
    "                    start = mid + 1\n",
    "                else:\n",
    "                    end = mid\n",
    "        \n",
    "        return True if nums[start] == target or nums[end] == target else False\n",
    "        "
   ]
  },
  {
   "cell_type": "markdown",
   "metadata": {},
   "source": [
    "* **Recover Rotated Sorted Array**\n",
    "\n",
    "Given a rotated sorted array, recover it to sorted array in-place.\n",
    "\n",
    "Example\n",
    "[4, 5, 1, 2, 3] -> [1, 2, 3, 4, 5]"
   ]
  },
  {
   "cell_type": "code",
   "execution_count": 15,
   "metadata": {
    "collapsed": true
   },
   "outputs": [],
   "source": [
    "class Solution:\n",
    "    \"\"\"\n",
    "    @param nums: The rotated sorted array\n",
    "    @return: nothing\n",
    "    \"\"\"\n",
    "    def recoverRotatedSortedArray(self, nums):\n",
    "        # write your code here\n",
    "        def rev(nums, start, end):\n",
    "            for i in range((end - start) / 2 + 1):\n",
    "                nums[start+i], nums[end-i] = nums[end-i], nums[start+i]\n",
    "        \n",
    "        n = len(nums)\n",
    "        for i in range(n-1):\n",
    "            if nums[i] > nums[i+1]:\n",
    "                rev(nums, 0, i)\n",
    "                rev(nums, i+1, n-1)\n",
    "                rev(nums, 0, n-1)\n",
    "                break    "
   ]
  },
  {
   "cell_type": "markdown",
   "metadata": {},
   "source": [
    "*  **Rotate String**\n",
    "Given a string and an offset, rotate string by offset. (rotate from left to right)\n",
    "\n",
    "Given \"abcdefg\".\n",
    "\n",
    "offset=0 => \"abcdefg\"\n",
    "offset=1 => \"gabcdef\"\n",
    "offset=2 => \"fgabcde\"\n",
    "offset=3 => \"efgabcd\""
   ]
  },
  {
   "cell_type": "code",
   "execution_count": 19,
   "metadata": {
    "collapsed": false
   },
   "outputs": [],
   "source": [
    "class Solution:\n",
    "    # @param s: a list of char\n",
    "    # @param offset: an integer \n",
    "    # @return: nothing\n",
    "    def rotateString(self, s, offset):\n",
    "        # write you code here\n",
    "        def rev(s, start, end):\n",
    "            for i in range((end - start) / 2 + 1):\n",
    "                s[start+i], s[end-i] = s[end-i], s[start+i]\n",
    "\n",
    "        if s is not None and len(s) > 0:\n",
    "            n = len(s)\n",
    "        offset %= n\n",
    "            if 0 < offset < n-1:\n",
    "                rev(s, 0, n - offset - 1)\n",
    "                rev(s, n - offset, n - 1)\n",
    "                rev(s, 0, n-1)\n",
    "            elif offset == n-1:\n",
    "                rev(s, 0 , n-1)"
   ]
  },
  {
   "cell_type": "markdown",
   "metadata": {},
   "source": [
    "# Search a 2D Matrix "
   ]
  },
  {
   "cell_type": "markdown",
   "metadata": {},
   "source": [
    "Write an efficient algorithm with O(m + n) that searches for a value in an m x n matrix. This matrix has the following properties:\n",
    "\n",
    "Integers in each row are sorted in ascending from left to right.\n",
    "Integers in each column are sorted in ascending from top to bottom."
   ]
  },
  {
   "cell_type": "code",
   "execution_count": 10,
   "metadata": {
    "collapsed": true
   },
   "outputs": [],
   "source": [
    "class Solution(object):\n",
    "    def searchMatrix(self, matrix, target):\n",
    "        \"\"\"\n",
    "        :type matrix: List[List[int]]\n",
    "        :type target: int\n",
    "        :rtype: bool\n",
    "        \"\"\"\n",
    "        if not matrix or len(matrix) == 0:\n",
    "            return False\n",
    "        if len(matrix[0]) == 0:\n",
    "            return False\n",
    "        \n",
    "        m, n = len(matrix), len(matrix[0])\n",
    "        \n",
    "        # O(m + n)\n",
    "        r, c = 0, n-1\n",
    "        while r <= m-1 and c >= 0:\n",
    "            if matrix[r][c] == target:\n",
    "                return True\n",
    "            elif matrix[r][c] > target:\n",
    "                c -= 1\n",
    "            else:\n",
    "                r += 1\n",
    "        \n",
    "        return False\n",
    "        \n",
    "        \n",
    "        # O(mlogn)\n",
    "        for i in range(m):\n",
    "            if matrix[i][0] <= target <= matrix[i][-1]:\n",
    "                start, end = 0, n-1\n",
    "                while start + 1 < end:\n",
    "                    mid = start + (end - start) / 2\n",
    "                    if matrix[i][mid] == target:\n",
    "                        return True\n",
    "                    elif matrix[i][mid] < target:\n",
    "                        start  = mid + 1\n",
    "                    else:\n",
    "                        end = mid - 1\n",
    "                if matrix[i][start] == target or matrix[i][end] == target:\n",
    "                    return True\n",
    "        return False\n",
    "        "
   ]
  },
  {
   "cell_type": "markdown",
   "metadata": {},
   "source": [
    "* **Smallest Rectangle Enclosing Black Pixels**\n",
    "\n",
    "https://leetcode.com/problems/smallest-rectangle-enclosing-black-pixels/#/description"
   ]
  },
  {
   "cell_type": "code",
   "execution_count": 20,
   "metadata": {
    "collapsed": true
   },
   "outputs": [],
   "source": [
    "class Solution(object):\n",
    "    def minArea(self, image, x, y):\n",
    "        \"\"\"\n",
    "        :type image: List[List[str]]\n",
    "        :type x: int\n",
    "        :type y: int\n",
    "        :rtype: int\n",
    "        \"\"\"\n",
    "        \n",
    "        def isBlackCol(image, col):\n",
    "            for i in range(len(image)):\n",
    "                if image[i][col] == '1':\n",
    "                    return True\n",
    "            return False\n",
    "        \n",
    "        def isBlackRow(image, row):\n",
    "            for j in range(len(image[row])):\n",
    "                if image[row][j] == '1':\n",
    "                    return True\n",
    "            return False\n",
    "        \n",
    "        if image is None or len(image) == 0:\n",
    "            return 0\n",
    "        \n",
    "        m, n = len(image), len(image[0])\n",
    "        \n",
    "        # left\n",
    "        start, end = 0, y\n",
    "        while start + 1 < end:\n",
    "            mid = start + (end - start) / 2\n",
    "            if isBlackCol(image, mid):\n",
    "                end = mid\n",
    "            else:\n",
    "                start = mid\n",
    "        \n",
    "        if isBlackCol(image, start):\n",
    "            left = start\n",
    "        else:\n",
    "            left = end\n",
    "        \n",
    "        # right\n",
    "        start, end = y, n-1\n",
    "        while start + 1 < end:\n",
    "            mid = start + (end - start) / 2\n",
    "            if isBlackCol(image, mid):\n",
    "                start = mid\n",
    "            else:\n",
    "                end = mid\n",
    "        \n",
    "        if isBlackCol(image, end):\n",
    "            right = end\n",
    "        else:\n",
    "            right = start\n",
    "        \n",
    "        # up\n",
    "        start, end = 0, x\n",
    "        while start + 1 < end:\n",
    "            mid = start + (end - start) / 2\n",
    "            if isBlackRow(image, mid):\n",
    "                end = mid\n",
    "            else:\n",
    "                start = mid\n",
    "        \n",
    "        if isBlackRow(image, start):\n",
    "            up = start\n",
    "        else:\n",
    "            up = end\n",
    "        \n",
    "        # bottom\n",
    "        start, end = x, m-1\n",
    "        while start + 1 < end:\n",
    "            mid = start + (end - start) / 2\n",
    "            if isBlackRow(image, mid):\n",
    "                start = mid\n",
    "            else:\n",
    "                end = mid\n",
    "        \n",
    "        if isBlackRow(image, end):\n",
    "            bottom = end\n",
    "        else:\n",
    "            bottom = start\n",
    "            \n",
    "        \n",
    "        return (right - left + 1) * (bottom - up + 1)\n",
    "        "
   ]
  },
  {
   "cell_type": "markdown",
   "metadata": {},
   "source": [
    "# Maximum Number in Mountain Sequence"
   ]
  },
  {
   "cell_type": "markdown",
   "metadata": {},
   "source": [
    "Given a mountain sequence of n integers which increase firstly and then decrease, find the mountain top.\n",
    "\n",
    "Example\n",
    "Given nums = [1, 2, 4, 8, 6, 3] return 8\n",
    "Given nums = [10, 9, 8, 7], return 10\n",
    "\n",
    "https://www.lintcode.com/en/problem/maximum-number-in-mountain-sequence/#"
   ]
  },
  {
   "cell_type": "code",
   "execution_count": 11,
   "metadata": {
    "collapsed": true
   },
   "outputs": [],
   "source": [
    "class Solution:\n",
    "    # @param {int[]} nums a mountain sequence which increase firstly and then decrease\n",
    "    # @return {int} then mountain top\n",
    "    def mountainSequence(self, nums):\n",
    "        # Write your code here\n",
    "        if nums is None or len(nums) == 0:\n",
    "            return -1\n",
    "        \n",
    "        n = len(nums)\n",
    "        if n <= 2:\n",
    "            return max(nums)\n",
    "        start, end = 0, n-1\n",
    "        while start + 1 < end:\n",
    "            mid = start + (end - start) / 2\n",
    "            if 0 < mid < n-1:\n",
    "                if nums[mid] > nums[mid-1] and nums[mid] > nums[mid+1]:\n",
    "                    return nums[mid]\n",
    "                elif nums[mid] <= nums[mid-1]:\n",
    "                    end = mid - 1\n",
    "                else:\n",
    "                    start = mid + 1\n",
    "            \n",
    "        return nums[start] if nums[start] > nums[end] else nums[end]"
   ]
  },
  {
   "cell_type": "code",
   "execution_count": 12,
   "metadata": {
    "collapsed": true
   },
   "outputs": [],
   "source": [
    "class Solution:\n",
    "    # @param {int[]} nums a mountain sequence which increase firstly and then decrease\n",
    "    # @return {int} then mountain top\n",
    "    def mountainSequence(self, nums):\n",
    "        # Write your code here\n",
    "        left, right = 0, len(nums) - 1\n",
    "        while left + 1 < right:\n",
    "            m1 = left + (right - left) / 2\n",
    "            m2 = right - (right - m1) / 2\n",
    "            if nums[m1] < nums[m2]:\n",
    "                left = m1 + 1\n",
    "            elif nums[m1] > nums[m2]:\n",
    "                right = m2 - 1\n",
    "            else:\n",
    "                left = m1\n",
    "                right = m2\n",
    "            \n",
    "        return max(nums[left], nums[right])"
   ]
  },
  {
   "cell_type": "markdown",
   "metadata": {},
   "source": [
    "* **Related: Find Peak Element**\n",
    "    \n",
    "https://leetcode.com/problems/find-peak-element/#/description"
   ]
  },
  {
   "cell_type": "code",
   "execution_count": 13,
   "metadata": {
    "collapsed": true
   },
   "outputs": [],
   "source": [
    "class Solution(object):\n",
    "    def findPeakElement(self, nums):\n",
    "        \"\"\"\n",
    "        :type nums: List[int]\n",
    "        :rtype: int\n",
    "        \"\"\"\n",
    "        if nums is None or len(nums) == 0:\n",
    "            return -1\n",
    "        n = len(nums)\n",
    "        if n == 1:\n",
    "            return 0\n",
    "        \n",
    "        start, end = 0, n-1\n",
    "        while start + 1 < end:\n",
    "            mid = start + (end - start) / 2\n",
    "            if nums[mid] > nums[mid-1] and nums[mid] > nums[mid+1]:\n",
    "                return mid\n",
    "            elif nums[mid] < nums[mid+1]:\n",
    "                start = mid\n",
    "            else:\n",
    "                end = mid\n",
    "        \n",
    "        return start if nums[start] > nums[end] else end\n",
    "        "
   ]
  },
  {
   "cell_type": "markdown",
   "metadata": {},
   "source": [
    "# See more at:\n",
    "\n",
    "https://leetcode.com/tag/binary-search/\n",
    "\n",
    "http://www.jiuzhang.com/qa/974/"
   ]
  },
  {
   "cell_type": "code",
   "execution_count": null,
   "metadata": {
    "collapsed": true
   },
   "outputs": [],
   "source": []
  }
 ],
 "metadata": {
  "kernelspec": {
   "display_name": "Python [default]",
   "language": "python",
   "name": "python2"
  },
  "language_info": {
   "codemirror_mode": {
    "name": "ipython",
    "version": 2
   },
   "file_extension": ".py",
   "mimetype": "text/x-python",
   "name": "python",
   "nbconvert_exporter": "python",
   "pygments_lexer": "ipython2",
   "version": "2.7.12"
  }
 },
 "nbformat": 4,
 "nbformat_minor": 0
}
