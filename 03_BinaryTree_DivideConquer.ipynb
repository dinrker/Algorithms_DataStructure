{
 "cells": [
  {
   "cell_type": "markdown",
   "metadata": {},
   "source": [
    "# Traverse a Binary Tree"
   ]
  },
  {
   "cell_type": "markdown",
   "metadata": {},
   "source": [
    "* **Binary Tree Preorder Traversal**\n",
    "\n",
    "https://leetcode.com/problems/binary-tree-preorder-traversal/#/description\n",
    "\n",
    "Recursive solution is trivial, could you do it iteratively?"
   ]
  },
  {
   "cell_type": "code",
   "execution_count": 4,
   "metadata": {
    "collapsed": true
   },
   "outputs": [],
   "source": [
    "# Definition for a binary tree node.\n",
    "# class TreeNode(object):\n",
    "#     def __init__(self, x):\n",
    "#         self.val = x\n",
    "#         self.left = None\n",
    "#         self.right = None\n",
    "\n",
    "class Solution(object):\n",
    "    def preorderTraversal(self, root):\n",
    "        \"\"\"\n",
    "        :type root: TreeNode\n",
    "        :rtype: List[int]\n",
    "        \"\"\"\n",
    "        \n",
    "        ans = []\n",
    "        if not root:\n",
    "            return ans\n",
    "            \n",
    "        # iterative\n",
    "        stack = [root]\n",
    "        while stack:\n",
    "            node = stack.pop()\n",
    "            ans += [node.val]\n",
    "            if node.right:\n",
    "                stack.append(node.right)\n",
    "            if node.left:\n",
    "                stack.append(node.left)\n",
    "        return ans\n",
    "            \n",
    "        \n",
    "        # recursive\n",
    "        ans.append(root.val)\n",
    "        ans += self.preorderTraversal(root.left)\n",
    "        ans += self.preorderTraversal(root.right)\n",
    "        return ans\n",
    "        "
   ]
  },
  {
   "cell_type": "markdown",
   "metadata": {},
   "source": [
    "* **Binary Tree Inorder Traversal**\n",
    "\n",
    "https://leetcode.com/problems/binary-tree-inorder-traversal/#/description\n",
    "\n",
    "Given a binary tree, return the inorder traversal of its nodes' values.\n",
    "\n",
    "For example:\n",
    "Given binary tree [1,null,2,3],\n",
    "   1\n",
    "    \\\n",
    "     2\n",
    "    /\n",
    "   3\n",
    "return [1,3,2].\n",
    "\n",
    "Note: Recursive solution is trivial, could you do it iteratively?"
   ]
  },
  {
   "cell_type": "code",
   "execution_count": 5,
   "metadata": {
    "collapsed": true
   },
   "outputs": [],
   "source": [
    "# Definition for a binary tree node.\n",
    "# class TreeNode(object):\n",
    "#     def __init__(self, x):\n",
    "#         self.val = x\n",
    "#         self.left = None\n",
    "#         self.right = None\n",
    "\n",
    "class Solution(object):\n",
    "    def inorderTraversal(self, root):\n",
    "        \"\"\"\n",
    "        :type root: TreeNode\n",
    "        :rtype: List[int]\n",
    "        \"\"\"\n",
    "        ans = []\n",
    "        if root is None:\n",
    "            return ans\n",
    "        \n",
    "        # iterative\n",
    "        stack = []\n",
    "        while True:\n",
    "            while root:\n",
    "                stack.append(root)\n",
    "                root = root.left\n",
    "            if not stack:\n",
    "                return ans\n",
    "            node = stack.pop()\n",
    "            ans.append(node.val)\n",
    "            root = node.right\n",
    "        \n",
    "        # recursive \n",
    "        return self.inorderTraversal(root.left) + [root.val] + self.inorderTraversal(root.right)\n",
    "        "
   ]
  },
  {
   "cell_type": "markdown",
   "metadata": {},
   "source": [
    "* **Binary Tree Postorder Traversal**\n",
    "\n",
    "https://leetcode.com/problems/binary-tree-postorder-traversal/#/description\n",
    "    \n",
    "Note: Recursive solution is trivial, could you do it iteratively?\n"
   ]
  },
  {
   "cell_type": "code",
   "execution_count": 6,
   "metadata": {
    "collapsed": true
   },
   "outputs": [],
   "source": [
    "# Definition for a binary tree node.\n",
    "# class TreeNode(object):\n",
    "#     def __init__(self, x):\n",
    "#         self.val = x\n",
    "#         self.left = None\n",
    "#         self.right = None\n",
    "\n",
    "class Solution(object):\n",
    "    def postorderTraversal(self, root):\n",
    "        \"\"\"\n",
    "        :type root: TreeNode\n",
    "        :rtype: List[int]\n",
    "        \"\"\"\n",
    "        ans = []\n",
    "        if root is None:\n",
    "            return ans\n",
    "        \n",
    "        # iterative\n",
    "        stack, lastVist = [root], root\n",
    "        while stack:\n",
    "            top = stack[-1]\n",
    "            if (not top.left and not top.right) or top.left == lastVist or top.right == lastVist:\n",
    "                lastVist = stack.pop()\n",
    "                ans.append(lastVist.val)\n",
    "            else:\n",
    "                if top.right:\n",
    "                    stack.append(top.right)\n",
    "                if top.left:\n",
    "                    stack.append(top.left)\n",
    "        return ans\n",
    "        \n",
    "        \n",
    "        # recursive\n",
    "        return self.postorderTraversal(root.left) + self.postorderTraversal(root.right) + [root.val]"
   ]
  },
  {
   "cell_type": "markdown",
   "metadata": {},
   "source": [
    "# Quick Sort vs Merge Sort"
   ]
  },
  {
   "cell_type": "markdown",
   "metadata": {},
   "source": [
    "比较快速排序与归并排序的联系与区别：\n",
    "\n",
    "时间复杂度：都是 O(nlogn) 但是快速排序是平均 O(nlogn)，归并排序是最好最坏都是 O(nlogn)\n",
    "\n",
    "空间复杂度：快速排序耗费 O(1) 的额外空间，归并排序不得不耗费 O(n) 的额外空间。\n",
    "\n",
    "排序稳定性：快速排序是不稳定的排序算法。归并排序是稳定的排序算法。http://baike.baidu.com/view/547325.htm \n",
    "\n",
    "分治的思想：快速排序先整体有序再局部有序。归并排序先局部有序再整体有序。"
   ]
  },
  {
   "cell_type": "markdown",
   "metadata": {},
   "source": [
    "* Given an integer array, sort it in ascending order. Use quick sort, merge sort, heap sort or any O(nlogn) algorithm.\n",
    "\n",
    "https://www.lintcode.com/en/problem/sort-integers-ii/"
   ]
  },
  {
   "cell_type": "code",
   "execution_count": 7,
   "metadata": {
    "collapsed": true
   },
   "outputs": [],
   "source": [
    "## Quick Sort\n",
    "\n",
    "class Solution:\n",
    "    # @param {int[]} A an integer array\n",
    "    # @return nothing\n",
    "    def sortIntegers2(self, A):\n",
    "        # Write your code here\n",
    "        \n",
    "        def quicksort(A, start, end):\n",
    "            if start >= end:\n",
    "                return \n",
    "        \n",
    "            left, right = start, end\n",
    "            # pivot, the middle value, not A[0], A[-1]\n",
    "            pivot = A[start + (end-start)/2]                 # get the value not the index\n",
    "            while left <= right:                             # here is left <= right, not <, aviod overflow!!\n",
    "                while left <= right and A[left] < pivot:     # here is A[left] < pivot, not <=, allocation is more homogeneous\n",
    "                    left += 1\n",
    "                while left <= right and A[right] > pivot:\n",
    "                    right -= 1\n",
    "                if left <= right:\n",
    "                    A[left], A[right] = A[right], A[left]\n",
    "                    left += 1\n",
    "                    right -= 1\n",
    "            \n",
    "            quicksort(A, start, right)\n",
    "            quicksort(A, left, end)\n",
    "        \n",
    "        if A is None or len(A) == 0:\n",
    "            return\n",
    "        quicksort(A, 0, len(A)-1)"
   ]
  },
  {
   "cell_type": "code",
   "execution_count": 8,
   "metadata": {
    "collapsed": true
   },
   "outputs": [],
   "source": [
    "## Merge Sort\n",
    "\n",
    "class Solution:\n",
    "    # @param {int[]} A an integer array\n",
    "    # @return nothing\n",
    "    def sortIntegers2(self, A):\n",
    "        # Write your code here\n",
    "        \n",
    "        \n",
    "        def mergeSort(A, start, end, temp):\n",
    "            if start >= end:\n",
    "                return\n",
    "            mergeSort(A, start, (start + end)/2, temp)\n",
    "            mergeSort(A, (start + end)/2 + 1, end, temp)\n",
    "            merge(A, start, end, temp)\n",
    "            \n",
    "        def merge(A, start, end, temp):\n",
    "            mid = (start + end)/2\n",
    "            leftstart, rightstart = start, mid+1\n",
    "            tempstart = start\n",
    "            while leftstart <= mid and rightstart <= end:\n",
    "                if A[leftstart] <= A[rightstart]:\n",
    "                    temp[tempstart] = A[leftstart]\n",
    "                    leftstart += 1\n",
    "                else:\n",
    "                    temp[tempstart] = A[rightstart]\n",
    "                    rightstart += 1\n",
    "                tempstart += 1\n",
    "            \n",
    "            while leftstart <= mid:\n",
    "                temp[tempstart] = A[leftstart]\n",
    "                leftstart += 1\n",
    "                tempstart += 1\n",
    "            \n",
    "            while rightstart <= end:\n",
    "                temp[tempstart] = A[rightstart]\n",
    "                rightstart += 1\n",
    "                tempstart += 1\n",
    "            \n",
    "            for i in xrange(start, end+1):\n",
    "                A[i] = temp[i]\n",
    "                \n",
    "        \n",
    "        \n",
    "        \n",
    "        if A is None or len(A) == 0:\n",
    "            return\n",
    "        \n",
    "        temp = [0 for i in A]\n",
    "        mergeSort(A, 0, len(A)-1, temp)\n",
    "        "
   ]
  },
  {
   "cell_type": "markdown",
   "metadata": {},
   "source": [
    "# Minimum/Maximum Subtree"
   ]
  },
  {
   "cell_type": "markdown",
   "metadata": {},
   "source": [
    "* **Minimum Subtree**\n",
    "\n",
    "Given a binary tree, find the subtree with minimum sum. Return the root of the subtree.\n",
    "\n",
    "https://www.lintcode.com/en/problem/minimum-subtree/\n",
    " \n",
    "Example\n",
    "Given a binary tree:\n",
    "\n",
    "     1\n",
    "   /   \\\n",
    " -5     2\n",
    " / \\   /  \\\n",
    "0   2 -4  -5 \n",
    "return the node 1.\n",
    "\n"
   ]
  },
  {
   "cell_type": "code",
   "execution_count": 9,
   "metadata": {
    "collapsed": true
   },
   "outputs": [],
   "source": [
    "\"\"\"\n",
    "Definition of TreeNode:\n",
    "class TreeNode:\n",
    "    def __init__(self, val):\n",
    "        this.val = val\n",
    "        this.left, this.right = None, None\n",
    "\"\"\"\n",
    "class Solution:\n",
    "    # @param {TreeNode} root the root of binary tree\n",
    "    # @return {TreeNode} the root of the minimum subtree\n",
    "    def __init__(self):\n",
    "        self.node = None\n",
    "        self.minsum = 0x7FFFFFFF\n",
    "    \n",
    "    def findSubtree(self, root):\n",
    "        # Write your code here\n",
    "        \n",
    "        def helper(root):\n",
    "            if not root:\n",
    "                return 0\n",
    "            newsum = helper(root.left) + helper(root.right) + root.val\n",
    "            if newsum < self.minsum:\n",
    "                self.minsum = newsum\n",
    "                self.node = root\n",
    "            return newsum\n",
    "        \n",
    "        helper(root)\n",
    "        return self.node\n",
    "            \n",
    "        "
   ]
  },
  {
   "cell_type": "markdown",
   "metadata": {
    "collapsed": true
   },
   "source": [
    "* **Subtree with Maximum Average**\n",
    "\n",
    "https://www.lintcode.com/en/problem/subtree-with-maximum-average/"
   ]
  },
  {
   "cell_type": "code",
   "execution_count": 2,
   "metadata": {
    "collapsed": false
   },
   "outputs": [],
   "source": [
    "\"\"\"\n",
    "Definition of TreeNode:\n",
    "class TreeNode:\n",
    "    def __init__(self, val):\n",
    "        this.val = val\n",
    "        this.left, this.right = None, None\n",
    "\"\"\"\n",
    "class Solution:\n",
    "    # @param {TreeNode} root the root of binary tree\n",
    "    # @return {TreeNode} the root of the maximum average of subtree\n",
    "    \n",
    "    node, average = None, -0x80000000          ## note this value!!\n",
    "    \n",
    "    def findSubtree2(self, root):\n",
    "        # Write your code here\n",
    "        self.helper(root)\n",
    "        return self.node\n",
    "        \n",
    "        \n",
    "    def helper(self, root):\n",
    "        if not root:\n",
    "            return 0, 0\n",
    "            \n",
    "        left_sum, left_size = self.helper(root.left)\n",
    "        right_sum, right_size = self.helper(root.right)\n",
    "        sum = left_sum + right_sum + root.val\n",
    "        size = left_size + right_size + 1\n",
    "        ave = sum*1.0 / size\n",
    "        if ave >= self.average:\n",
    "            self.average = ave\n",
    "            self.node = root\n",
    "        \n",
    "        return sum, size"
   ]
  },
  {
   "cell_type": "code",
   "execution_count": 3,
   "metadata": {
    "collapsed": true
   },
   "outputs": [],
   "source": [
    "## instead of using minimun value!!\n",
    "\n",
    "\"\"\"\n",
    "Definition of TreeNode:\n",
    "class TreeNode:\n",
    "    def __init__(self, val):\n",
    "        this.val = val\n",
    "        this.left, this.right = None, None\n",
    "\"\"\"\n",
    "class Solution:\n",
    "    # @param {TreeNode} root the root of binary tree\n",
    "    # @return {TreeNode} the root of the maximum average of subtree\n",
    "    \n",
    "    node, average = None, 0\n",
    "    \n",
    "    def findSubtree2(self, root):\n",
    "        # Write your code here\n",
    "        self.helper(root)\n",
    "        return self.node\n",
    "        \n",
    "        \n",
    "    def helper(self, root):\n",
    "        if not root:\n",
    "            return 0, 0\n",
    "            \n",
    "        left_sum, left_size = self.helper(root.left)\n",
    "        right_sum, right_size = self.helper(root.right)\n",
    "        sum = left_sum + right_sum + root.val\n",
    "        size = left_size + right_size + 1\n",
    "        ave = sum*1.0 / size\n",
    "        if self.node is None or ave >= self.average:\n",
    "            self.average = ave\n",
    "            self.node = root\n",
    "        \n",
    "        return sum, size"
   ]
  },
  {
   "cell_type": "markdown",
   "metadata": {},
   "source": [
    "# Flatten Binary Tree to Linked List\n",
    "\n",
    "https://leetcode.com/problems/flatten-binary-tree-to-linked-list/#/description"
   ]
  },
  {
   "cell_type": "code",
   "execution_count": 4,
   "metadata": {
    "collapsed": true
   },
   "outputs": [],
   "source": [
    "# Definition for a binary tree node.\n",
    "# class TreeNode(object):\n",
    "#     def __init__(self, x):\n",
    "#         self.val = x\n",
    "#         self.left = None\n",
    "#         self.right = None\n",
    "\n",
    "class Solution(object):\n",
    "    def flatten(self, root):\n",
    "        \"\"\"\n",
    "        :type root: TreeNode\n",
    "        :rtype: void Do not return anything, modify root in-place instead.\n",
    "        \"\"\"\n",
    "        if root is None:\n",
    "            return \n",
    "        self.flatten(root.left)\n",
    "        self.flatten(root.right)\n",
    "        \n",
    "        p = root\n",
    "        if p.left is None:\n",
    "            return\n",
    "        p = p.left\n",
    "        while p.right:\n",
    "            p = p.right\n",
    "        p.right = root.right\n",
    "        root.right = root.left\n",
    "        root.left = None\n",
    "        "
   ]
  },
  {
   "cell_type": "markdown",
   "metadata": {},
   "source": [
    "# Lowest Common Ancestor"
   ]
  },
  {
   "cell_type": "markdown",
   "metadata": {},
   "source": [
    "Given the root and two nodes in a Binary Tree. Find the lowest common ancestor(LCA) of the two nodes.\n",
    "\n",
    "The lowest common ancestor is the node with largest depth which is the ancestor of both nodes.\n",
    "\n",
    "https://www.lintcode.com/en/problem/lowest-common-ancestor/\n",
    "\n",
    "Example\n",
    "For the following binary tree:\n",
    "\n",
    "  4\n",
    " / \\\n",
    "3   7\n",
    "   / \\\n",
    "  5   6\n",
    "LCA(3, 5) = 4\n",
    "\n",
    "LCA(5, 6) = 7\n",
    "\n",
    "LCA(6, 7) = 7"
   ]
  },
  {
   "cell_type": "code",
   "execution_count": 5,
   "metadata": {
    "collapsed": true
   },
   "outputs": [],
   "source": [
    "\"\"\"\n",
    "Definition of TreeNode:\n",
    "class TreeNode:\n",
    "    def __init__(self, val):\n",
    "        self.val = val\n",
    "        self.left, self.right = None, None\n",
    "\"\"\"\n",
    "import copy\n",
    "class Solution:\n",
    "    \"\"\"\n",
    "    @param root: The root of the binary search tree.\n",
    "    @param A and B: two nodes in a Binary.\n",
    "    @return: Return the least common ancestor(LCA) of the two nodes.\n",
    "    \"\"\" \n",
    "    def lowestCommonAncestor(self, root, A, B):\n",
    "        # write your code here\n",
    "        if not root or root == A or root == B:\n",
    "            return root\n",
    "        \n",
    "        left = self.lowestCommonAncestor(root.left, A, B)\n",
    "        right = self.lowestCommonAncestor(root.right, A, B)\n",
    "        \n",
    "        if left and right:\n",
    "            return root\n",
    "        if left:\n",
    "            return left\n",
    "        if right:\n",
    "            return right\n",
    "        return None"
   ]
  },
  {
   "cell_type": "markdown",
   "metadata": {},
   "source": [
    "* **Lowest Common Ancestor II: with parent pointer**\n",
    "\n",
    "https://www.lintcode.com/en/problem/lowest-common-ancestor-ii/"
   ]
  },
  {
   "cell_type": "code",
   "execution_count": 6,
   "metadata": {
    "collapsed": true
   },
   "outputs": [],
   "source": [
    "\"\"\"\n",
    "Definition of ParentTreeNode:\n",
    "class ParentTreeNode:\n",
    "    def __init__(self, val):\n",
    "        self.val = val\n",
    "        self.parent, self.left, self.right = None, None, None\n",
    "\"\"\"\n",
    "class Solution:\n",
    "    \"\"\"\n",
    "    @param root: The root of the tree\n",
    "    @param A and B: Two node in the tree\n",
    "    @return: The lowest common ancestor of A and B\n",
    "    \"\"\" \n",
    "    def lowestCommonAncestorII(self, root, A, B):\n",
    "        # Write your code here\n",
    "        if not root:\n",
    "            return root\n",
    "        \n",
    "        dic = {}\n",
    "        while A:\n",
    "            dic[A] = True\n",
    "            A = A.parent\n",
    "            \n",
    "        while B:\n",
    "            if B in dic:\n",
    "                return B\n",
    "            B = B.parent\n",
    "        "
   ]
  },
  {
   "cell_type": "markdown",
   "metadata": {},
   "source": [
    "* **Lowest Common Ancestor III: Return null if LCA does not exist**\n",
    "\n",
    "https://www.lintcode.com/en/problem/lowest-common-ancestor-iii/"
   ]
  },
  {
   "cell_type": "code",
   "execution_count": 7,
   "metadata": {
    "collapsed": true
   },
   "outputs": [],
   "source": [
    "\"\"\"\n",
    "Definition of TreeNode:\n",
    "class TreeNode:\n",
    "    def __init__(self, val):\n",
    "        this.val = val\n",
    "        this.left, this.right = None, None\n",
    "\"\"\"\n",
    "import copy\n",
    "class Solution:\n",
    "    \"\"\"\n",
    "    @param {TreeNode} root The root of the binary tree.\n",
    "    @param {TreeNode} A and {TreeNode} B two nodes\n",
    "    @return Return the LCA of the two nodes.\n",
    "    \"\"\" \n",
    "    def lowestCommonAncestor3(self, root, A, B):\n",
    "        # write your code here\n",
    "        node, a, b = self.helper(root, A, B)\n",
    "        return node\n",
    "        \n",
    "        \n",
    "    def helper(self, root, A, B):\n",
    "        if root is None:\n",
    "            return None, False, False\n",
    "            \n",
    "        leftNode, leftA, leftB = self.helper(root.left, A, B)\n",
    "        rightNode, rightA, rightB = self.helper(root.right, A, B)\n",
    "        \n",
    "        a = leftA or rightA or root == A\n",
    "        b = leftB or rightB or root == B\n",
    "        \n",
    "        if not a or not b:\n",
    "            return None, a, b\n",
    "        elif leftNode:\n",
    "            return leftNode, a, b\n",
    "        elif rightNode:\n",
    "            return rightNode, a, b\n",
    "        else:\n",
    "            return root, a, b\n"
   ]
  },
  {
   "cell_type": "markdown",
   "metadata": {},
   "source": [
    "# Binary Tree Longest Consecutive Sequence\n",
    "\n",
    "http://www.lintcode.com/en/problem/binary-tree-longest-consecutive-sequence/"
   ]
  },
  {
   "cell_type": "code",
   "execution_count": 8,
   "metadata": {
    "collapsed": true
   },
   "outputs": [],
   "source": [
    "# Definition for a binary tree node.\n",
    "# class TreeNode(object):\n",
    "#     def __init__(self, x):\n",
    "#         self.val = x\n",
    "#         self.left = None\n",
    "#         self.right = None\n",
    "\n",
    "class Solution:\n",
    "    # @param {TreeNode} root the root of binary tree\n",
    "    # @return {int} the length of the longest consecutive sequence path\n",
    "    def longestConsecutive(self, root):\n",
    "        # Write your code here\n",
    "        start, longest = self.helper(root)\n",
    "        return longest\n",
    "        \n",
    "    def helper(self, root):\n",
    "        if root is None:\n",
    "            return 0, 0\n",
    "        \n",
    "        left_start, left_longest = self.helper(root.left)\n",
    "        right_start, right_longest = self.helper(root.right)\n",
    "        \n",
    "        if root.left and root.val+1 == root.left.val:\n",
    "            if left_start:\n",
    "                left_start += 1\n",
    "            else:\n",
    "                left_start = 2\n",
    "            left_longest = max(left_start, left_longest)\n",
    "        else:\n",
    "            left_start = 0\n",
    "        \n",
    "        if root.right and root.val+1 == root.right.val:\n",
    "            if right_start:\n",
    "                right_start += 1\n",
    "            else:\n",
    "                right_start = 2\n",
    "            right_longest = max(right_start, right_longest)\n",
    "        else:\n",
    "            right_start = 0\n",
    "            \n",
    "        return max(left_start, right_start), max(left_longest, right_longest, 1)\n",
    "                "
   ]
  },
  {
   "cell_type": "code",
   "execution_count": 9,
   "metadata": {
    "collapsed": true
   },
   "outputs": [],
   "source": [
    "# Definition for a binary tree node.\n",
    "# class TreeNode(object):\n",
    "#     def __init__(self, x):\n",
    "#         self.val = x\n",
    "#         self.left = None\n",
    "#         self.right = None\n",
    "\n",
    "class Solution:\n",
    "    # @param {TreeNode} root the root of binary tree\n",
    "    # @return {int} the length of the longest consecutive sequence path\n",
    "    longest = 0\n",
    "    def longestConsecutive(self, root):\n",
    "        # Write your code here\n",
    "        self.helper(root)\n",
    "        return self.longest\n",
    "        \n",
    "        \n",
    "    def helper(self, root):\n",
    "        if root is None:\n",
    "            return 0\n",
    "        \n",
    "        left = self.helper(root.left)\n",
    "        right = self.helper(root.right)\n",
    "        sublongest = 1\n",
    "        \n",
    "        if root.left and root.val + 1 == root.left.val:\n",
    "            sublongest = max(sublongest, left+1)\n",
    "        if root.right and root.val + 1 == root.right.val:\n",
    "            sublongest = max(sublongest, right+1)\n",
    "        \n",
    "        self.longest = max(self.longest, sublongest)\n",
    "        \n",
    "        return sublongest"
   ]
  },
  {
   "cell_type": "markdown",
   "metadata": {
    "collapsed": true
   },
   "source": [
    "* **Follow up: Binary Tree Longest Consecutive Sequence II**\n",
    "\n",
    "Given a binary tree, find the length of the longest consecutive sequence path.\n",
    "The path could be start and end at any node in the tree"
   ]
  },
  {
   "cell_type": "code",
   "execution_count": 1,
   "metadata": {
    "collapsed": true
   },
   "outputs": [],
   "source": [
    "# Definition for a binary tree node.\n",
    "# class TreeNode(object):\n",
    "#     def __init__(self, x):\n",
    "#         self.val = x\n",
    "#         self.left = None\n",
    "#         self.right = None\n",
    "\n",
    "class Solution:\n",
    "    # @param {TreeNode} root the root of binary tree\n",
    "    # @return {int} the length of the longest consecutive sequence path\n",
    "    def longestConsecutive2(self, root):\n",
    "        # Write your code here\n",
    "        longest, _, _, = self.helper(root)\n",
    "        return longest\n",
    "        \n",
    "        \n",
    "    def helper(self, root):\n",
    "        if root is None:\n",
    "            return 0, 0, 0\n",
    "        \n",
    "        left_len, left_down, left_up = self.helper(root.left)\n",
    "        right_len, right_down, right_up = self.helper(root.right)\n",
    "        down, up = 0, 0 \n",
    "        \n",
    "        if root.left is not None and root.left.val + 1 == root.val:\n",
    "            down = max(down, left_down + 1)\n",
    "        if root.left is not None and root.left.val - 1 == root.val:\n",
    "            up = max(up, left_up + 1)\n",
    "        if root.right is not None and root.right.val + 1 == root.val:\n",
    "            down = max(down, right_down + 1)\n",
    "        if root.right is not None and root.right.val - 1 == root.val:\n",
    "            up = max(up, right_up + 1)\n",
    "        \n",
    "        len = down + up + 1\n",
    "        len = max(len, left_len, right_len)\n",
    "        \n",
    "        return len, down, up"
   ]
  },
  {
   "cell_type": "markdown",
   "metadata": {
    "collapsed": true
   },
   "source": [
    "* **Binary Tree Longest Consecutive Sequence III**\n",
    "\n",
    "It's follow up problem for Binary Tree Longest Consecutive Sequence II\n",
    "\n",
    "Given a k-ary tree, find the length of the longest consecutive sequence path.\n",
    "The path could be start and end at any node in the tree"
   ]
  },
  {
   "cell_type": "code",
   "execution_count": 2,
   "metadata": {
    "collapsed": true
   },
   "outputs": [],
   "source": [
    "# Definition for a multi tree node.\n",
    "# class MultiTreeNode(object):\n",
    "#     def __init__(self, x):\n",
    "#         self.val = x\n",
    "#         children = [] # children is a list of MultiTreeNode\n",
    "\n",
    "class Solution:\n",
    "    # @param {MultiTreeNode} root the root of k-ary tree\n",
    "    # @return {int} the length of the longest consecutive sequence path\n",
    "    def longestConsecutive3(self, root):\n",
    "        # Write your code here\n",
    "        longest, _, _ = self.helper(root)\n",
    "        return longest\n",
    "        \n",
    "        \n",
    "        \n",
    "    def helper(self, root):\n",
    "        if root is None:\n",
    "            return 0, 0, 0\n",
    "        \n",
    "        len, down, up = 0, 0, 0 \n",
    "        for child in root.children:\n",
    "            clen, cdown, cup = self.helper(child)\n",
    "            if child.val + 1 == root.val:\n",
    "                down = max(down, cdown + 1)\n",
    "            if child.val - 1 == root.val:\n",
    "                up = max(up, cup + 1)\n",
    "            len = max(len, clen)\n",
    "        \n",
    "        len = max(len, down + up + 1)\n",
    "        \n",
    "        return len, down, up"
   ]
  },
  {
   "cell_type": "markdown",
   "metadata": {},
   "source": [
    "# Binary Tree Path Sum\n",
    "\n",
    "Given a binary tree, find all paths that sum of the nodes in the path equals to a given number target.\n",
    "\n",
    "A valid path is from root node to any of the leaf nodes.\n",
    "\n",
    "https://www.lintcode.com/en/problem/binary-tree-path-sum/\n",
    "\n",
    "https://leetcode.com/problems/path-sum-ii/#/description"
   ]
  },
  {
   "cell_type": "code",
   "execution_count": 10,
   "metadata": {
    "collapsed": true
   },
   "outputs": [],
   "source": [
    "\"\"\"\n",
    "Definition of TreeNode:\n",
    "class TreeNode:\n",
    "    def __init__(self, val):\n",
    "        self.val = val\n",
    "        self.left, self.right = None, None\n",
    "\"\"\"\n",
    "class Solution:\n",
    "    # @param {TreeNode} root the root of binary tree\n",
    "    # @param {int} target an integer\n",
    "    # @return {int[][]} all valid paths\n",
    "    def binaryTreePathSum(self, root, target):\n",
    "        # Write your code here\n",
    "        \n",
    "        if root is None:\n",
    "            return []\n",
    "            \n",
    "        if root.left is None and root.right is None and root.val == target:\n",
    "            return [[root.val]]\n",
    "        \n",
    "        left = self.binaryTreePathSum(root.left, target - root.val)\n",
    "        right = self.binaryTreePathSum(root.right, target - root.val)\n",
    "        \n",
    "        paths = []\n",
    "        for p in left:\n",
    "            paths += [[root.val] + p]\n",
    "        for p in right:\n",
    "            paths += [[root.val] + p]\n",
    "        return paths"
   ]
  },
  {
   "cell_type": "markdown",
   "metadata": {
    "collapsed": true
   },
   "source": [
    "* **Binary Tree Path Sum II**\n",
    "\n",
    "Your are given a binary tree in which each node contains a value. Design an algorithm to get all paths which sum to a given value. The path does not need to start or end at the root or a leaf, but it must go in a straight line down.\n",
    "\n",
    "http://www.lintcode.com/en/problem/binary-tree-path-sum-ii/"
   ]
  },
  {
   "cell_type": "code",
   "execution_count": 8,
   "metadata": {
    "collapsed": false
   },
   "outputs": [],
   "source": [
    "\"\"\"\n",
    "Definition of TreeNode:\n",
    "class TreeNode:\n",
    "    def __init__(self, val):\n",
    "        self.val = val\n",
    "        self.left, self.right = None, None\n",
    "\"\"\"\n",
    "class Solution:\n",
    "    # @param {TreeNode} root the root of binary tree\n",
    "    # @param {int} target an integer\n",
    "    # @return {int[][]} all valid paths\n",
    "    def binaryTreePathSum2(self, root, target):\n",
    "        # Write your code here\n",
    "        path, result = [], []\n",
    "        self.dfs(root, path, result, 0, target)\n",
    "        return result\n",
    "        \n",
    "        \n",
    "        \n",
    "    def dfs(self, root, path, result, l, target):\n",
    "        if root is None:\n",
    "            return \n",
    "        path.append(root.val)\n",
    "        temp = target\n",
    "        for i in xrange(l, -1, -1):\n",
    "            temp -= path[i]\n",
    "            if temp == 0:\n",
    "                result.append(path[i:])\n",
    "        \n",
    "        self.dfs(root.left, path, result, l + 1, target)\n",
    "        self.dfs(root.right, path, result, l + 1, target)\n",
    "        \n",
    "        path.pop()"
   ]
  },
  {
   "cell_type": "markdown",
   "metadata": {
    "collapsed": true
   },
   "source": [
    "* **Binary Tree Path Sum III**\n",
    "\n",
    "Give a binary tree, and a target number, find all path that the sum of nodes equal to target, the path could be start and end at any node in the tree.\n",
    "\n",
    "http://www.lintcode.com/en/problem/binary-tree-path-sum-iii/"
   ]
  },
  {
   "cell_type": "code",
   "execution_count": null,
   "metadata": {
    "collapsed": true
   },
   "outputs": [],
   "source": []
  },
  {
   "cell_type": "markdown",
   "metadata": {},
   "source": [
    "# Validate Binary Search Tree\n",
    "\n",
    "https://leetcode.com/problems/validate-binary-search-tree/#/description\n",
    "\n",
    "https://www.lintcode.com/en/problem/validate-binary-search-tree/#"
   ]
  },
  {
   "cell_type": "code",
   "execution_count": 11,
   "metadata": {
    "collapsed": true
   },
   "outputs": [],
   "source": [
    "## brilliant solver!!\n",
    "\n",
    "\"\"\"\n",
    "Definition of TreeNode:\n",
    "class TreeNode:\n",
    "    def __init__(self, val):\n",
    "        self.val = val\n",
    "        self.left, self.right = None, None\n",
    "\"\"\"\n",
    "class Solution:\n",
    "    \"\"\"\n",
    "    @param root: The root of binary tree.\n",
    "    @return: True if the binary tree is BST, or false\n",
    "    \"\"\"  \n",
    "    def isValidBST(self, root):\n",
    "        # write your code here\n",
    "        return self.helper(root, -0x80000000-1, 0x7FFFFFFF+1)\n",
    "        \n",
    "    def helper(self, root, min, max):\n",
    "        if root is None:\n",
    "            return True\n",
    "        elif root.val <= min or root.val >= max:\n",
    "            return False\n",
    "        else:\n",
    "            return self.helper(root.left, min, root.val) \\\n",
    "            and self.helper(root.right, root.val, max)\n",
    "            "
   ]
  },
  {
   "cell_type": "code",
   "execution_count": null,
   "metadata": {
    "collapsed": true
   },
   "outputs": [],
   "source": []
  }
 ],
 "metadata": {
  "anaconda-cloud": {},
  "kernelspec": {
   "display_name": "Python [Root]",
   "language": "python",
   "name": "Python [Root]"
  },
  "language_info": {
   "codemirror_mode": {
    "name": "ipython",
    "version": 2
   },
   "file_extension": ".py",
   "mimetype": "text/x-python",
   "name": "python",
   "nbconvert_exporter": "python",
   "pygments_lexer": "ipython2",
   "version": "2.7.12"
  }
 },
 "nbformat": 4,
 "nbformat_minor": 0
}
