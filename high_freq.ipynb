{
 "cells": [
  {
   "cell_type": "markdown",
   "metadata": {},
   "source": [
    "# Lecture 1: Interview Style of FLAG"
   ]
  },
  {
   "cell_type": "markdown",
   "metadata": {},
   "source": [
    "### Check Word Abbreviation\n",
    "http://www.lintcode.com/en/problem/check-word-abbreviation/\n",
    "\n"
   ]
  },
  {
   "cell_type": "code",
   "execution_count": 1,
   "metadata": {
    "collapsed": true
   },
   "outputs": [],
   "source": [
    "class Solution:\n",
    "    \"\"\"\n",
    "    @param: word: a non-empty string\n",
    "    @param: abbr: an abbreviation\n",
    "    @return: true if string matches with the given abbr or false\n",
    "    \"\"\"\n",
    "    def validWordAbbreviation(self, word, abbr):\n",
    "        # write your code here\n",
    "        i, n = 0, '0'\n",
    "        \n",
    "        for c in abbr:\n",
    "            if c.isdigit():\n",
    "                if c == n:\n",
    "                    return False\n",
    "                n += c\n",
    "            else:\n",
    "                i += int(n)\n",
    "                if i >= len(word) or word[i] != c:\n",
    "                    return False\n",
    "                i += 1\n",
    "                n = '0'\n",
    "        \n",
    "        return len(word[i:]) == int(n)                "
   ]
  },
  {
   "cell_type": "markdown",
   "metadata": {},
   "source": [
    "### Words Abbreviation\n",
    "http://www.lintcode.com/en/problem/words-abbreviation/\n",
    "\n",
    "* glist[abrr] = list of words\n",
    "* if len(glist[abrr]) > 1 --> solve until len == 1, record dic[word] = abbr\n",
    "* return map(dic.get, dict)"
   ]
  },
  {
   "cell_type": "code",
   "execution_count": 16,
   "metadata": {
    "collapsed": true
   },
   "outputs": [],
   "source": [
    "import collections"
   ]
  },
  {
   "cell_type": "code",
   "execution_count": 24,
   "metadata": {
    "collapsed": true
   },
   "outputs": [],
   "source": [
    "class Solution:\n",
    "    \"\"\"\n",
    "    @param: dict: an array of n distinct non-empty strings\n",
    "    @return: an array of minimal possible abbreviations for every word\n",
    "    \"\"\"\n",
    "    def wordsAbbreviation(self, dict):\n",
    "        # write your code here\n",
    "        self.dic = {}\n",
    "        self.solve(dict, 0)\n",
    "        return map(self.dic.get, dict)\n",
    "        \n",
    "    def abbr(self, word, size):\n",
    "        if len(word) - size <= 3:\n",
    "            return word\n",
    "        else:\n",
    "            return word[: size + 1] + str(len(word) - size - 2) + word[-1]\n",
    "    \n",
    "    def solve(self, dict, size):\n",
    "        glist = collections.defaultdict(list)\n",
    "        for word in dict:\n",
    "            glist[self.abbr(word, size)].append(word)\n",
    "        for abbr, words in glist.items():\n",
    "            if len(words) == 1:\n",
    "                self.dic[words[0]] = abbr\n",
    "            else:\n",
    "                self.solve(words, size+1)"
   ]
  },
  {
   "cell_type": "code",
   "execution_count": 10,
   "metadata": {
    "collapsed": true
   },
   "outputs": [],
   "source": [
    "dict = [\"like\", \"god\", \"internal\", \"me\", \"internet\", \"interval\", \"intension\", \"face\", \"intrusion\"]\n",
    "dic = {\"like\": \"l2e\", \"face\": \"f2e\"}"
   ]
  },
  {
   "cell_type": "code",
   "execution_count": 13,
   "metadata": {},
   "outputs": [
    {
     "data": {
      "text/plain": [
       "['l2e', None, None, None, None, None, None, 'f2e', None]"
      ]
     },
     "execution_count": 13,
     "metadata": {},
     "output_type": "execute_result"
    }
   ],
   "source": [
    "list(map(dic.get, dict))"
   ]
  },
  {
   "cell_type": "code",
   "execution_count": 14,
   "metadata": {},
   "outputs": [
    {
     "data": {
      "text/plain": [
       "'l2e'"
      ]
     },
     "execution_count": 14,
     "metadata": {},
     "output_type": "execute_result"
    }
   ],
   "source": [
    "dic.get(\"like\")"
   ]
  },
  {
   "cell_type": "code",
   "execution_count": 18,
   "metadata": {
    "collapsed": true
   },
   "outputs": [],
   "source": [
    "def abbr(word, size):\n",
    "    if len(word) - size <= 3:\n",
    "        return word\n",
    "    return word[:size+1] + str(len(word) - size - 2) + word[-1]"
   ]
  },
  {
   "cell_type": "code",
   "execution_count": 20,
   "metadata": {
    "collapsed": true
   },
   "outputs": [],
   "source": [
    "glist = collections.defaultdict(list)\n",
    "for word in dict:\n",
    "    glist[abbr(word, 0)].append(word)"
   ]
  },
  {
   "cell_type": "code",
   "execution_count": 21,
   "metadata": {},
   "outputs": [
    {
     "data": {
      "text/plain": [
       "defaultdict(list,\n",
       "            {'f2e': ['face'],\n",
       "             'god': ['god'],\n",
       "             'i6l': ['internal', 'interval'],\n",
       "             'i6t': ['internet'],\n",
       "             'i7n': ['intension', 'intrusion'],\n",
       "             'l2e': ['like'],\n",
       "             'me': ['me']})"
      ]
     },
     "execution_count": 21,
     "metadata": {},
     "output_type": "execute_result"
    }
   ],
   "source": [
    "glist"
   ]
  },
  {
   "cell_type": "code",
   "execution_count": 23,
   "metadata": {},
   "outputs": [
    {
     "name": "stdout",
     "output_type": "stream",
     "text": [
      "l2e ['like']\n",
      "god ['god']\n",
      "i6l ['internal', 'interval']\n",
      "me ['me']\n",
      "i6t ['internet']\n",
      "i7n ['intension', 'intrusion']\n",
      "f2e ['face']\n"
     ]
    }
   ],
   "source": [
    "for abbr, words in glist.items():\n",
    "    print(abbr, words)"
   ]
  },
  {
   "cell_type": "code",
   "execution_count": 25,
   "metadata": {
    "collapsed": true
   },
   "outputs": [],
   "source": [
    "Solu = Solution()"
   ]
  },
  {
   "cell_type": "code",
   "execution_count": 26,
   "metadata": {},
   "outputs": [
    {
     "data": {
      "text/plain": [
       "<map at 0x10c7b3c50>"
      ]
     },
     "execution_count": 26,
     "metadata": {},
     "output_type": "execute_result"
    }
   ],
   "source": [
    "Solu.wordsAbbreviation(dict)"
   ]
  },
  {
   "cell_type": "code",
   "execution_count": 27,
   "metadata": {},
   "outputs": [
    {
     "data": {
      "text/plain": [
       "['l2e', 'god', 'internal', 'me', 'i6t', 'interval', 'inte4n', 'f2e', 'intr4n']"
      ]
     },
     "execution_count": 27,
     "metadata": {},
     "output_type": "execute_result"
    }
   ],
   "source": [
    "list(Solu.wordsAbbreviation(dict))"
   ]
  },
  {
   "cell_type": "code",
   "execution_count": 28,
   "metadata": {},
   "outputs": [
    {
     "data": {
      "text/plain": [
       "['l2e', 'god', 'internal', 'me', 'i6t', 'interval', 'inte4n', 'f2e', 'intr4n']"
      ]
     },
     "execution_count": 28,
     "metadata": {},
     "output_type": "execute_result"
    }
   ],
   "source": [
    "list(Solu.wordsAbbreviation(dict))"
   ]
  },
  {
   "cell_type": "markdown",
   "metadata": {},
   "source": [
    "# Lecture 2: Simulation Algorithms & String Manipulation Skills"
   ]
  },
  {
   "cell_type": "markdown",
   "metadata": {
    "collapsed": true
   },
   "source": [
    "### Sliding window\n",
    "http://www.lintcode.com/zh-cn/problem/sliding-window-average-from-data-stream/\n",
    "\n",
    "https://leetcode.com/problems/moving-average-from-data-stream/description/"
   ]
  },
  {
   "cell_type": "code",
   "execution_count": 1,
   "metadata": {
    "collapsed": true
   },
   "outputs": [],
   "source": [
    "## straight foreward\n",
    "class MovingAverage:\n",
    "    \"\"\"\n",
    "    @param: size: An integer\n",
    "    \"\"\"\n",
    "    def __init__(self, size):\n",
    "        # do intialization if necessary\n",
    "        self.idx = 0\n",
    "        self.sum = 0\n",
    "        self.list = []\n",
    "        self.size = size\n",
    "\n",
    "    \"\"\"\n",
    "    @param: val: An integer\n",
    "    @return:  \n",
    "    \"\"\"\n",
    "    def next(self, val):\n",
    "        # write your code here\n",
    "        self.sum += val\n",
    "        self.idx += 1\n",
    "        if self.idx <= self.size:\n",
    "            self.list += [self.sum]\n",
    "            return float(self.list[-1]) / self.idx\n",
    "        else:\n",
    "            j = self.idx % self.size - 1\n",
    "            prev = self.list[j]\n",
    "            self.list[j] = self.sum\n",
    "            return float(self.list[j] - prev) / self.size\n",
    "\n",
    "\n",
    "# Your MovingAverage object will be instantiated and called as such:\n",
    "# obj = MovingAverage(size)\n",
    "# param = obj.next(val)"
   ]
  },
  {
   "cell_type": "markdown",
   "metadata": {},
   "source": [
    "* the usage of collcections, deque, deque.popleft()"
   ]
  },
  {
   "cell_type": "code",
   "execution_count": 99,
   "metadata": {
    "collapsed": true
   },
   "outputs": [],
   "source": [
    "## data structure: queue\n",
    "class MovingAverage(object):\n",
    "\n",
    "    def __init__(self, size):\n",
    "        \"\"\"\n",
    "        Initialize your data structure here.\n",
    "        :type size: int\n",
    "        \"\"\"\n",
    "        self.queue = collections.deque(maxlen=size)\n",
    "        self.size = size\n",
    "        self.sum = 0\n",
    "        \n",
    "\n",
    "    def next(self, val):\n",
    "        \"\"\"\n",
    "        :type val: int\n",
    "        :rtype: float\n",
    "        \"\"\"\n",
    "        self.sum += val\n",
    "        if len(self.queue) == self.size:\n",
    "            self.sum -= self.queue.popleft()\n",
    "        self.queue.append(val)\n",
    "        return float(self.sum) / len(self.queue)\n",
    "            \n",
    "        \n",
    "\n",
    "\n",
    "# Your MovingAverage object will be instantiated and called as such:\n",
    "# obj = MovingAverage(size)\n",
    "# param_1 = obj.next(val)"
   ]
  },
  {
   "cell_type": "code",
   "execution_count": 100,
   "metadata": {
    "collapsed": true
   },
   "outputs": [],
   "source": [
    "import collections"
   ]
  },
  {
   "cell_type": "code",
   "execution_count": 101,
   "metadata": {
    "collapsed": true
   },
   "outputs": [],
   "source": [
    "collections.deque.popleft"
   ]
  },
  {
   "cell_type": "markdown",
   "metadata": {},
   "source": [
    "### One Edit Distance\n",
    "\n",
    "https://leetcode.com/problems/one-edit-distance/description/"
   ]
  },
  {
   "cell_type": "markdown",
   "metadata": {},
   "source": [
    "### Read N Characters Given Read4  (not clear)\n",
    "\n",
    "https://leetcode.com/problems/read-n-characters-given-read4/description/"
   ]
  },
  {
   "cell_type": "code",
   "execution_count": 102,
   "metadata": {
    "collapsed": true
   },
   "outputs": [],
   "source": [
    "# The read4 API is already defined for you.\n",
    "# @param buf, a list of characters\n",
    "# @return an integer\n",
    "# def read4(buf):\n",
    "\n",
    "class Solution(object):\n",
    "    def read(self, buf, n):\n",
    "        \"\"\"\n",
    "        :type buf: Destination buffer (List[str])\n",
    "        :type n: Maximum number of characters to read (int)\n",
    "        :rtype: The number of characters read (int)\n",
    "        \"\"\"\n",
    "        idx = 0\n",
    "        while True:\n",
    "            buf4 = [\"\"]*4\n",
    "            curr = min(read4(buf4), n-idx)\n",
    "            for i in range(curr):\n",
    "                buf[idx] = buf4[i]\n",
    "                idx += 1\n",
    "            if curr != 4 or idx == n:\n",
    "                return idx"
   ]
  },
  {
   "cell_type": "markdown",
   "metadata": {},
   "source": [
    "### Read Characters From File - multiple calls\n",
    "\n",
    "https://leetcode.com/problems/read-n-characters-given-read4-ii-call-multiple-times/description/"
   ]
  },
  {
   "cell_type": "code",
   "execution_count": 103,
   "metadata": {
    "collapsed": true
   },
   "outputs": [],
   "source": [
    "# The read4 API is already defined for you.\n",
    "# @param buf, a list of characters\n",
    "# @return an integer\n",
    "# def read4(buf):\n",
    "\n",
    "class Solution(object):\n",
    "    def __init__(self):\n",
    "        self.queue = []\n",
    "    \n",
    "    \n",
    "    def read(self, buf, n):\n",
    "        \"\"\"\n",
    "        :type buf: Destination buffer (List[str])\n",
    "        :type n: Maximum number of characters to read (int)\n",
    "        :rtype: The number of characters read (int)\n",
    "        \"\"\"\n",
    "        idx = 0\n",
    "        while True:\n",
    "            buf4 = [\"\"]*4\n",
    "            l = read4(buf4)\n",
    "            self.queue.extend(buf4)\n",
    "            curr = min(len(self.queue), n-idx)\n",
    "            for i in range(curr):\n",
    "                buf[idx] = self.queue.pop(0)\n",
    "                idx += 1\n",
    "            if curr == 0:\n",
    "                break\n",
    "        \n",
    "        return idx"
   ]
  },
  {
   "cell_type": "markdown",
   "metadata": {},
   "source": [
    "### Strings Serialization\n",
    "\n",
    "http://www.lintcode.com/zh-cn/problem/strings-serialization/"
   ]
  },
  {
   "cell_type": "code",
   "execution_count": 114,
   "metadata": {
    "collapsed": true
   },
   "outputs": [],
   "source": [
    "class Solution:\n",
    "    \"\"\"\n",
    "    @param: strs: a list of strings\n",
    "    @return: encodes a list of strings to a single string.\n",
    "    \"\"\"\n",
    "    def encode(self, strs):\n",
    "        # write your code here\n",
    "        res = ''\n",
    "        for s in strs:\n",
    "            for c in s:\n",
    "                if c == \":\":\n",
    "                    res += \"::\"\n",
    "                else:\n",
    "                    res += c\n",
    "            res += \":;\"\n",
    "        return res\n",
    "\n",
    "    \"\"\"\n",
    "    @param: str: A string\n",
    "    @return: dcodes a single string to a list of strings\n",
    "    \"\"\"\n",
    "    def decode(self, str):\n",
    "        # write your code here\n",
    "        res = []\n",
    "        s = ''\n",
    "        i = 0\n",
    "        while i < len(str) - 1:\n",
    "            if str[i] == \":\":\n",
    "                if str[i+1] == \";\":\n",
    "                    res += [s]\n",
    "                    s = ''\n",
    "                else:\n",
    "                    s += str[i+1]\n",
    "                i += 2\n",
    "            else:\n",
    "                s += str[i]\n",
    "                i += 1\n",
    "        return res"
   ]
  },
  {
   "cell_type": "markdown",
   "metadata": {},
   "source": [
    "### System Longest File Path\n",
    "\n",
    "https://leetcode.com/problems/longest-absolute-file-path/description/\n",
    "\n",
    "* splitlines() and lstrip('\\t')"
   ]
  },
  {
   "cell_type": "code",
   "execution_count": 26,
   "metadata": {},
   "outputs": [
    {
     "data": {
      "text/plain": [
       "32"
      ]
     },
     "execution_count": 26,
     "metadata": {},
     "output_type": "execute_result"
    }
   ],
   "source": [
    "len(\"dir/subdir2/subsubdir2/file2.ext\")"
   ]
  },
  {
   "cell_type": "code",
   "execution_count": 27,
   "metadata": {
    "collapsed": true
   },
   "outputs": [],
   "source": [
    "s = \"dir\\n\\tsubdir1\\n\\tsubdir2\\n\\t\\tfile.ext\""
   ]
  },
  {
   "cell_type": "code",
   "execution_count": 31,
   "metadata": {},
   "outputs": [
    {
     "data": {
      "text/plain": [
       "['dir', '\\tsubdir1', '\\tsubdir2', '\\t\\tfile.ext']"
      ]
     },
     "execution_count": 31,
     "metadata": {},
     "output_type": "execute_result"
    }
   ],
   "source": [
    "s.splitlines()"
   ]
  },
  {
   "cell_type": "code",
   "execution_count": 32,
   "metadata": {},
   "outputs": [
    {
     "data": {
      "text/plain": [
       "'file.ext'"
      ]
     },
     "execution_count": 32,
     "metadata": {},
     "output_type": "execute_result"
    }
   ],
   "source": [
    "line = '\\t\\tfile.ext'\n",
    "line.lstrip('\\t')"
   ]
  },
  {
   "cell_type": "code",
   "execution_count": 115,
   "metadata": {
    "collapsed": true
   },
   "outputs": [],
   "source": [
    "class Solution(object):\n",
    "    def lengthLongestPath(self, input):\n",
    "        \"\"\"\n",
    "        :type input: str\n",
    "        :rtype: int\n",
    "        \"\"\"\n",
    "        maxlen = 0\n",
    "        pathlen = {0:0}\n",
    "        for line in input.splitlines():\n",
    "            name = line.lstrip('\\t')\n",
    "            depth = len(line) - len(name)\n",
    "            if '.' in name:\n",
    "                maxlen = max(maxlen, pathlen[depth] + len(name))\n",
    "            else:\n",
    "                pathlen[depth+1] = pathlen[depth] + len(name) + 1\n",
    "        \n",
    "        return maxlen"
   ]
  },
  {
   "cell_type": "markdown",
   "metadata": {},
   "source": [
    "### Roman to Integer\n",
    "\n",
    "https://leetcode.com/problems/roman-to-integer/description/"
   ]
  },
  {
   "cell_type": "code",
   "execution_count": 116,
   "metadata": {
    "collapsed": true
   },
   "outputs": [],
   "source": [
    "class Solution(object):\n",
    "    def romanToInt(self, s):\n",
    "        \"\"\"\n",
    "        :type s: str\n",
    "        :rtype: int\n",
    "        \"\"\"\n",
    "        roman = {\"I\": 1, \"V\": 5, \"X\": 10, \"L\": 50, \"C\": 100, \"D\": 500, \"M\": 1000}\n",
    "        if len(s) == 0:\n",
    "            return 0\n",
    "        res = roman[s[-1]]\n",
    "        idx = len(s) - 2\n",
    "        while idx >= 0:\n",
    "            if roman[s[idx]] < roman[s[idx+1]]:\n",
    "                res -= roman[s[idx]] \n",
    "            else:\n",
    "                res += roman[s[idx]] \n",
    "            idx -= 1\n",
    "        \n",
    "        return res"
   ]
  },
  {
   "cell_type": "markdown",
   "metadata": {},
   "source": [
    "### Integer to Roman\n",
    "\n",
    "https://leetcode.com/problems/roman-to-integer/description/"
   ]
  },
  {
   "cell_type": "code",
   "execution_count": 117,
   "metadata": {
    "collapsed": true
   },
   "outputs": [],
   "source": [
    "class Solution(object):\n",
    "    def parse(self, digit, index):\n",
    "        nums = {1: \"I\", 2: \"II\", 3: \"III\", 4: \"IV\", 5: \"V\", 6: \"VI\", 7: \"VII\", 8: \"VIII\", 9: \"IX\"}\n",
    "        roman = {\n",
    "            \"I\": [\"I\", \"X\", \"C\", \"M\"],\n",
    "            \"V\": [\"V\", \"L\", \"D\", \"?\"],\n",
    "            \"X\": [\"X\", \"C\", \"M\", \"?\"]\n",
    "        }\n",
    "        s = nums[digit]\n",
    "        return s.replace(\"X\", roman[\"X\"][index]).replace(\"V\", roman[\"V\"][index]).replace(\"I\", roman[\"I\"][index])\n",
    "  \n",
    "    \n",
    "    def intToRoman(self, num):\n",
    "        \"\"\"\n",
    "        :type num: int\n",
    "        :rtype: str\n",
    "        \"\"\"\n",
    "        \n",
    "        ans = \"\"\n",
    "        index = 0\n",
    "        while num > 0:\n",
    "            digit = num % 10\n",
    "            if digit != 0:\n",
    "                ans = self.parse(digit, index) + ans\n",
    "            num = int(num / 10)\n",
    "            index += 1\n",
    "        \n",
    "        return ans\n",
    "\n",
    "    \n",
    "#         # solution 1\n",
    "#         nums = [\n",
    "#             [\"I\", \"II\", \"III\", \"IV\", \"V\", \"VI\", \"VII\", \"VIII\", \"IX\"],\n",
    "#             [\"X\", \"XX\", \"XXX\", \"XL\", \"L\", \"LX\", \"LXX\", \"LXXX\", \"XC\"],\n",
    "#             [\"C\", \"CC\", \"CCC\", \"CD\", \"D\", \"DC\", \"DCC\", \"DCCC\", \"CM\"],\n",
    "#             [\"M\", \"MM\", \"MMM\"]\n",
    "#         ]\n",
    "        \n",
    "#         ans = \"\"\n",
    "#         row = 0\n",
    "#         while num > 0:\n",
    "#             digit = num % 10\n",
    "#             if digit != 0:\n",
    "#                 ans = nums[row][digit-1] + ans\n",
    "#             num = num / 10\n",
    "#             row += 1\n",
    "#         return ans"
   ]
  },
  {
   "cell_type": "markdown",
   "metadata": {},
   "source": [
    "### Find the Celebrity\n",
    "\n",
    "https://leetcode.com/problems/find-the-celebrity/description/"
   ]
  },
  {
   "cell_type": "code",
   "execution_count": 118,
   "metadata": {
    "collapsed": true
   },
   "outputs": [],
   "source": [
    "# The knows API is already defined for you.\n",
    "# @param a, person a\n",
    "# @param b, person b\n",
    "# @return a boolean, whether a knows b\n",
    "# def knows(a, b):\n",
    "\n",
    "class Solution(object):\n",
    "    def findCelebrity(self, n):\n",
    "        \"\"\"\n",
    "        :type n: int\n",
    "        :rtype: int\n",
    "        \"\"\"\n",
    "        candidate = 0\n",
    "        for i in range(1, n):\n",
    "            if knows(candidate, i):\n",
    "                candidate = i\n",
    "        \n",
    "        for i in range(candidate):\n",
    "            if not knows(i, candidate) or knows(candidate, i):\n",
    "                return -1\n",
    "        \n",
    "        for i in range(candidate+1, n):\n",
    "            if not knows(i, candidate) or knows(candidate, i):\n",
    "                return -1\n",
    "        \n",
    "        return candidate\n",
    "                \n",
    "        "
   ]
  },
  {
   "cell_type": "markdown",
   "metadata": {},
   "source": [
    "# Lecture 3: Basic Algorithms & Data Structure I"
   ]
  },
  {
   "cell_type": "markdown",
   "metadata": {},
   "source": [
    "### Missing Ranges\n",
    "\n",
    "https://leetcode.com/problems/missing-ranges/description/"
   ]
  },
  {
   "cell_type": "code",
   "execution_count": 120,
   "metadata": {
    "collapsed": true
   },
   "outputs": [],
   "source": [
    "nums = [0, 1, 3, 50, 75]"
   ]
  },
  {
   "cell_type": "code",
   "execution_count": 123,
   "metadata": {},
   "outputs": [
    {
     "name": "stdout",
     "output_type": "stream",
     "text": [
      "0 0 0\n",
      "1 1 1\n",
      "2 3 3\n",
      "3 50 50\n",
      "4 75 75\n"
     ]
    }
   ],
   "source": [
    "for k, v in enumerate(nums):\n",
    "    print(k, v, nums[k])"
   ]
  },
  {
   "cell_type": "code",
   "execution_count": 155,
   "metadata": {
    "collapsed": true
   },
   "outputs": [],
   "source": [
    "class Solution(object):\n",
    "    def findMissingRanges(self, nums, lower, upper):\n",
    "        \"\"\"\n",
    "        :type nums: List[int]\n",
    "        :type lower: int\n",
    "        :type upper: int\n",
    "        :rtype: List[str]\n",
    "        \"\"\"\n",
    "        res = []\n",
    "        start = lower\n",
    "        for k, v in enumerate(nums):  # 两端点和一头一尾形成的区间 + for循环扫描中间形成的区间\n",
    "            if v < start:\n",
    "                continue\n",
    "            elif v == start:\n",
    "                start += 1\n",
    "                continue\n",
    "            res.append(self.addRange(start, v-1))\n",
    "            start = v + 1\n",
    "        if start <= upper:   # corner case\n",
    "            res.append(self.addRange(start, upper))\n",
    "        return res\n",
    "                              \n",
    "    def addRange(self, start, end):  # – 利用函数让自己的代码更简洁 （见代码）\n",
    "        return str(start) if start == end else str(start) + \"->\" + str(end)"
   ]
  },
  {
   "cell_type": "markdown",
   "metadata": {},
   "source": [
    "### Merge Intervals\n",
    "\n",
    "https://leetcode.com/problems/merge-intervals/description/"
   ]
  },
  {
   "cell_type": "code",
   "execution_count": 124,
   "metadata": {},
   "outputs": [
    {
     "data": {
      "text/plain": [
       "[1, 0, 3, 2]"
      ]
     },
     "execution_count": 124,
     "metadata": {},
     "output_type": "execute_result"
    }
   ],
   "source": [
    "starts = [2, 1, 15, 8]\n",
    "idx = sorted(range(len(starts)), key=lambda x: starts[x])\n",
    "idx"
   ]
  },
  {
   "cell_type": "code",
   "execution_count": 125,
   "metadata": {
    "collapsed": true
   },
   "outputs": [],
   "source": [
    "intervals = [[8,10], [2,6]]\n",
    "intervals.sort()"
   ]
  },
  {
   "cell_type": "code",
   "execution_count": 126,
   "metadata": {},
   "outputs": [
    {
     "data": {
      "text/plain": [
       "[[2, 6], [8, 10]]"
      ]
     },
     "execution_count": 126,
     "metadata": {},
     "output_type": "execute_result"
    }
   ],
   "source": [
    "intervals"
   ]
  },
  {
   "cell_type": "code",
   "execution_count": 156,
   "metadata": {
    "collapsed": true
   },
   "outputs": [],
   "source": [
    "# Definition for an interval.\n",
    "# class Interval(object):\n",
    "#     def __init__(self, s=0, e=0):\n",
    "#         self.start = s\n",
    "#         self.end = e\n",
    "\n",
    "class Solution(object):\n",
    "    def merge(self, intervals):\n",
    "        \"\"\"\n",
    "        :type intervals: List[Interval]\n",
    "        :rtype: List[Interval]\n",
    "        \"\"\"\n",
    "        intervals = sorted(intervals, key=lambda x: x.start)  # sort skill !!!\n",
    "        res = []\n",
    "        for interval in intervals:\n",
    "            if len(res) == 0 or res[-1].end < interval.start:  # when to add interval\n",
    "                res.append(interval)\n",
    "            else:\n",
    "                res[-1].end = max(res[-1].end, interval.end)\n",
    "        return res"
   ]
  },
  {
   "cell_type": "markdown",
   "metadata": {},
   "source": [
    "### Insert Interval\n",
    "\n",
    "https://leetcode.com/problems/insert-interval/description/"
   ]
  },
  {
   "cell_type": "code",
   "execution_count": 157,
   "metadata": {
    "collapsed": true
   },
   "outputs": [],
   "source": [
    "# Definition for an interval.\n",
    "# class Interval(object):\n",
    "#     def __init__(self, s=0, e=0):\n",
    "#         self.start = s\n",
    "#         self.end = e\n",
    "\n",
    "class Solution(object):\n",
    "    def insert(self, intervals, newInterval):\n",
    "        \"\"\"\n",
    "        :type intervals: List[Interval]\n",
    "        :type newInterval: Interval\n",
    "        :rtype: List[Interval]\n",
    "        \"\"\"\n",
    "        intervals = intervals + [newInterval]\n",
    "        intervals = sorted(intervals, key=lambda x: x.start)\n",
    "        res = []\n",
    "        for interval in intervals:\n",
    "            if len(res) == 0 or res[-1].end < interval.start:\n",
    "                res.append(interval)\n",
    "            else:\n",
    "                res[-1].end = max(res[-1].end, interval.end)\n",
    "        return res\n",
    "        "
   ]
  },
  {
   "cell_type": "markdown",
   "metadata": {},
   "source": [
    "### First Position Unique Character\n",
    "\n",
    "http://www.lintcode.com/zh-cn/problem/first-position-unique-character/"
   ]
  },
  {
   "cell_type": "code",
   "execution_count": 127,
   "metadata": {
    "collapsed": true
   },
   "outputs": [],
   "source": [
    "dic = {'1':[1,5,8], '0':[2,4,3]}"
   ]
  },
  {
   "cell_type": "code",
   "execution_count": 128,
   "metadata": {},
   "outputs": [
    {
     "name": "stdout",
     "output_type": "stream",
     "text": [
      "1 [1, 5, 8]\n",
      "0 [2, 4, 3]\n"
     ]
    }
   ],
   "source": [
    "for key, value in dic.items():\n",
    "    print(key, value)"
   ]
  },
  {
   "cell_type": "code",
   "execution_count": 158,
   "metadata": {
    "collapsed": true
   },
   "outputs": [],
   "source": [
    "class Solution:\n",
    "    \"\"\"\n",
    "    @param: s: a string\n",
    "    @return: it's index\n",
    "    \"\"\"\n",
    "    def firstUniqChar(self, s):\n",
    "        # write your code here\n",
    "        dic = {}\n",
    "        for c in s:\n",
    "            dic[c] = dic.get(c, 0) + 1\n",
    "        for i in range(len(s)):\n",
    "            if dic[s[i]] == 1:\n",
    "                return i\n",
    "        return -1"
   ]
  },
  {
   "cell_type": "markdown",
   "metadata": {},
   "source": [
    "### Substring Anagrams\n",
    "\n",
    "http://www.lintcode.com/zh-cn/problem/substring-anagrams/\n",
    "\n",
    "https://leetcode.com/problems/find-all-anagrams-in-a-string/description/"
   ]
  },
  {
   "cell_type": "code",
   "execution_count": 135,
   "metadata": {
    "scrolled": true
   },
   "outputs": [
    {
     "data": {
      "text/plain": [
       "(97, 'a')"
      ]
     },
     "execution_count": 135,
     "metadata": {},
     "output_type": "execute_result"
    }
   ],
   "source": [
    "ord('a'), chr(97)"
   ]
  },
  {
   "cell_type": "code",
   "execution_count": 138,
   "metadata": {},
   "outputs": [
    {
     "ename": "TypeError",
     "evalue": "bad operand type for abs(): 'list'",
     "output_type": "error",
     "traceback": [
      "\u001b[0;31m---------------------------------------------------------------------------\u001b[0m",
      "\u001b[0;31mTypeError\u001b[0m                                 Traceback (most recent call last)",
      "\u001b[0;32m<ipython-input-138-880bf9d21676>\u001b[0m in \u001b[0;36m<module>\u001b[0;34m()\u001b[0m\n\u001b[0;32m----> 1\u001b[0;31m \u001b[0mabs\u001b[0m\u001b[0;34m(\u001b[0m\u001b[0;34m[\u001b[0m\u001b[0;36m1\u001b[0m\u001b[0;34m,\u001b[0m\u001b[0;36m2\u001b[0m\u001b[0;34m]\u001b[0m\u001b[0;34m)\u001b[0m\u001b[0;34m\u001b[0m\u001b[0m\n\u001b[0m",
      "\u001b[0;31mTypeError\u001b[0m: bad operand type for abs(): 'list'"
     ]
    }
   ],
   "source": [
    "abs([1,2])"
   ]
  },
  {
   "cell_type": "code",
   "execution_count": 139,
   "metadata": {},
   "outputs": [
    {
     "data": {
      "text/plain": [
       "Counter({'a': 2, 'b': 1})"
      ]
     },
     "execution_count": 139,
     "metadata": {},
     "output_type": "execute_result"
    }
   ],
   "source": [
    "from collections import Counter\n",
    "Counter('aba')"
   ]
  },
  {
   "cell_type": "code",
   "execution_count": 140,
   "metadata": {
    "collapsed": true
   },
   "outputs": [],
   "source": [
    "dic = {'a': 2, 'b': 1}"
   ]
  },
  {
   "cell_type": "code",
   "execution_count": 141,
   "metadata": {},
   "outputs": [
    {
     "data": {
      "text/plain": [
       "{'b': 1}"
      ]
     },
     "execution_count": 141,
     "metadata": {},
     "output_type": "execute_result"
    }
   ],
   "source": [
    "del dic['a']\n",
    "dic"
   ]
  },
  {
   "cell_type": "code",
   "execution_count": 159,
   "metadata": {
    "collapsed": true
   },
   "outputs": [],
   "source": [
    "# class Solution(object):\n",
    "#     def findAnagrams(self, s, p):\n",
    "#         \"\"\"\n",
    "#         :type s: str\n",
    "#         :type p: str\n",
    "#         :rtype: List[int]\n",
    "#         \"\"\"\n",
    "#         m, n = len(s), len(p)\n",
    "#         res = []\n",
    "#         if m < n:\n",
    "#             return res\n",
    "#         pc = collections.Counter(p)\n",
    "#         sc = collections.Counter(s[:n-1])\n",
    "#         for i in range(m-n+1):\n",
    "#             sc[s[n-1+i]] += 1\n",
    "#             if sc == pc:\n",
    "#                 res.append(i)\n",
    "#             sc[s[i]] -= 1\n",
    "#             if sc[s[i]] == 0:\n",
    "#                 del sc[s[i]]\n",
    "#         return res\n",
    "\n",
    "class Solution:\n",
    "    \"\"\"\n",
    "    @param: s: a string\n",
    "    @param: p: a string\n",
    "    @return: a list of index\n",
    "    \"\"\"\n",
    "    def findAnagrams(self, s, p):\n",
    "        # write your code here\n",
    "        m, n = len(s), len(p)\n",
    "        res = []\n",
    "        if m < n:\n",
    "            return res\n",
    "        det = [0 for i in range(26)]\n",
    "        for i in range(n):\n",
    "            jp = ord(p[i]) - ord('a')\n",
    "            det[jp] -= 1\n",
    "            js = ord(s[i]) - ord('a')\n",
    "            det[js] += 1\n",
    "        \n",
    "        \n",
    "        sum = 0\n",
    "        for d in det:\n",
    "            sum += abs(d)\n",
    "        if sum == 0:\n",
    "            res.append(0)\n",
    "        for i in range(0, m-n):\n",
    "            jl = ord(s[i]) - ord('a')\n",
    "            sum -= abs(det[jl])\n",
    "            det[jl] -= 1\n",
    "            sum += abs(det[jl])\n",
    "            jr = ord(s[i+n]) - ord('a')\n",
    "            sum -= abs(det[jr])\n",
    "            det[jr] += 1\n",
    "            sum += abs(det[jr])\n",
    "            if sum == 0:\n",
    "                res.append(i+1)\n",
    "        \n",
    "        return res"
   ]
  },
  {
   "cell_type": "markdown",
   "metadata": {},
   "source": [
    "### Word Abbreviation Set \n",
    "\n",
    "http://www.lintcode.com/zh-cn/problem/word-abbreviation-set/\n",
    "\n",
    "https://leetcode.com/problems/unique-word-abbreviation/description/"
   ]
  },
  {
   "cell_type": "code",
   "execution_count": 144,
   "metadata": {},
   "outputs": [
    {
     "data": {
      "text/plain": [
       "({'e', 'h'}, {'he'})"
      ]
     },
     "execution_count": 144,
     "metadata": {},
     "output_type": "execute_result"
    }
   ],
   "source": [
    "set().union('he'), set().union(['he'])"
   ]
  },
  {
   "cell_type": "code",
   "execution_count": 160,
   "metadata": {},
   "outputs": [
    {
     "data": {
      "text/plain": [
       "2"
      ]
     },
     "execution_count": 160,
     "metadata": {},
     "output_type": "execute_result"
    }
   ],
   "source": [
    "len(set().union('he'))"
   ]
  },
  {
   "cell_type": "code",
   "execution_count": 161,
   "metadata": {
    "collapsed": true
   },
   "outputs": [],
   "source": [
    "def getAbbr(word):\n",
    "    if len(word) > 2:\n",
    "        return word[0] + str(len(word) - 2) + word[-1]\n",
    "    return word"
   ]
  },
  {
   "cell_type": "code",
   "execution_count": 167,
   "metadata": {},
   "outputs": [
    {
     "data": {
      "text/plain": [
       "defaultdict(set, {'aa': {'aa'}, 'bb': {'bb'}, 'cc': {'cc'}})"
      ]
     },
     "execution_count": 167,
     "metadata": {},
     "output_type": "execute_result"
    }
   ],
   "source": [
    "d = collections.defaultdict(set)\n",
    "for word in ['aa', 'bb', 'cc', 'cc','bb']:\n",
    "    d[getAbbr(word)].add(word)\n",
    "d"
   ]
  },
  {
   "cell_type": "code",
   "execution_count": 164,
   "metadata": {
    "collapsed": true
   },
   "outputs": [],
   "source": [
    "collections.defaultdict?"
   ]
  },
  {
   "cell_type": "code",
   "execution_count": 168,
   "metadata": {
    "collapsed": true
   },
   "outputs": [],
   "source": [
    "class ValidWordAbbr(object):\n",
    "\n",
    "    def __init__(self, dictionary):\n",
    "        \"\"\"\n",
    "        :type dictionary: List[str]\n",
    "        \"\"\"\n",
    "        self.dic = collections.defaultdict(set)\n",
    "        for word in dictionary:\n",
    "            self.dic[self.getAbbr(word)].add(word)\n",
    "        \n",
    "    \n",
    "    def getAbbr(self, word):\n",
    "        return word if len(word) < 3 else word[0] + str(len(word)-2) + word[-1]\n",
    "        \n",
    "\n",
    "    def isUnique(self, word):\n",
    "        \"\"\"\n",
    "        :type word: str\n",
    "        :rtype: bool\n",
    "        \"\"\"\n",
    "        abbr = self.getAbbr(word)\n",
    "        if abbr not in self.dic:\n",
    "            return True\n",
    "        else:\n",
    "            return len(self.dic[abbr]) == 1 and word in self.dic[abbr]\n",
    "        \n",
    "\n",
    "\n",
    "# class ValidWordAbbr(object):\n",
    "\n",
    "#     def __init__(self, dictionary):\n",
    "#         \"\"\"\n",
    "#         :type dictionary: List[str]\n",
    "#         \"\"\"\n",
    "#         self.dic = {}\n",
    "#         for word in dictionary:\n",
    "#             abrr = self.abrr(word)\n",
    "#             self.dic[abrr] = self.dic.get(abrr, set()).union([word])\n",
    "            \n",
    "            \n",
    "#     def abrr(self, word):\n",
    "#         return word if len(word) < 3 else word[0] + str(len(word)-2) + word[-1]\n",
    "    \n",
    "\n",
    "#     def isUnique(self, word):\n",
    "#         \"\"\"\n",
    "#         :type word: str\n",
    "#         :rtype: bool\n",
    "#         \"\"\"\n",
    "#         abrr = self.abrr(word)\n",
    "#         if abrr in self.dic:\n",
    "#             if len(self.dic[abrr]) > 1 or word not in self.dic[abrr]:\n",
    "#                 return False\n",
    "#         return True  \n",
    "        \n",
    "        \n",
    "\n",
    "\n",
    "# # Your ValidWordAbbr object will be instantiated and called as such:\n",
    "# # obj = ValidWordAbbr(dictionary)\n",
    "# # param_1 = obj.isUnique(word)"
   ]
  },
  {
   "cell_type": "markdown",
   "metadata": {},
   "source": [
    "### Longest Consecutive Sequence\n",
    "\n",
    "https://leetcode.com/problems/longest-consecutive-sequence/description/"
   ]
  },
  {
   "cell_type": "code",
   "execution_count": 169,
   "metadata": {
    "collapsed": true
   },
   "outputs": [],
   "source": [
    "class Solution(object):\n",
    "    def longestConsecutive(self, nums):\n",
    "        \"\"\"\n",
    "        :type nums: List[int]\n",
    "        :rtype: int\n",
    "        \"\"\"\n",
    "        dic = {}\n",
    "        for n in nums:\n",
    "            dic[n] = False\n",
    "        \n",
    "        maxlen = 0\n",
    "        for n in nums:\n",
    "            if dic[n]:\n",
    "                continue\n",
    "            length = 1\n",
    "            left, right = n - 1, n + 1\n",
    "            while left in dic:\n",
    "                length += 1\n",
    "                dic[left] = True\n",
    "                left -= 1\n",
    "            while right in dic:\n",
    "                length += 1\n",
    "                dic[right] = True\n",
    "                right += 1\n",
    "            maxlen = max(maxlen, length)\n",
    "        return maxlen"
   ]
  },
  {
   "cell_type": "markdown",
   "metadata": {},
   "source": [
    "### Load Balancer\n",
    "\n",
    "http://www.lintcode.com/en/problem/load-balancer/"
   ]
  },
  {
   "cell_type": "code",
   "execution_count": 145,
   "metadata": {
    "collapsed": true
   },
   "outputs": [],
   "source": [
    "a = set().union('he')"
   ]
  },
  {
   "cell_type": "code",
   "execution_count": 149,
   "metadata": {},
   "outputs": [
    {
     "data": {
      "text/plain": [
       "[0, 1]"
      ]
     },
     "execution_count": 149,
     "metadata": {},
     "output_type": "execute_result"
    }
   ],
   "source": [
    "a = [0, 1, 2]\n",
    "a.pop()\n",
    "a"
   ]
  },
  {
   "cell_type": "code",
   "execution_count": 154,
   "metadata": {},
   "outputs": [
    {
     "name": "stdout",
     "output_type": "stream",
     "text": [
      "2\n",
      "1\n",
      "3\n",
      "4\n",
      "2\n",
      "2\n",
      "1\n",
      "4\n",
      "2\n",
      "1\n",
      "0\n",
      "2\n",
      "2\n",
      "4\n",
      "2\n"
     ]
    }
   ],
   "source": [
    "import random\n",
    "for i in range(15):\n",
    "    print(random.randint(0, 5 - 1))"
   ]
  },
  {
   "cell_type": "code",
   "execution_count": 170,
   "metadata": {
    "collapsed": true
   },
   "outputs": [],
   "source": [
    "class LoadBalancer:\n",
    "    def __init__(self):\n",
    "        # do intialization if necessary\n",
    "        self.ids = []\n",
    "        self.index = {}\n",
    "\n",
    "    \"\"\"\n",
    "    @param: server_id: add a new server to the cluster\n",
    "    @return: nothing\n",
    "    \"\"\"\n",
    "    def add(self, server_id):\n",
    "        # write your code here\n",
    "        self.ids.append(server_id)\n",
    "        self.index[server_id] = len(self.ids) - 1\n",
    "\n",
    "    \"\"\"\n",
    "    @param: server_id: server_id remove a bad server from the cluster\n",
    "    @return: nothing\n",
    "    \"\"\"\n",
    "    def remove(self, server_id):\n",
    "        # write your code here\n",
    "        idx = self.index[server_id]\n",
    "        del self.index[server_id]\n",
    "        last_id = self.ids[-1]\n",
    "        self.index[last_id] = idx\n",
    "        self.ids[idx] = last_id\n",
    "        self.ids.pop()\n",
    "\n",
    "    \"\"\"\n",
    "    @return: pick a server in the cluster randomly with equal probability\n",
    "    \"\"\"\n",
    "    def pick(self):\n",
    "        # write your code here\n",
    "        import random\n",
    "        idx = random.randint(0, len(self.ids)-1)\n",
    "        return self.ids[idx]"
   ]
  },
  {
   "cell_type": "markdown",
   "metadata": {},
   "source": [
    "# Lecture 4: Basic Algorithms & Data Structure II\n",
    "\n",
    "### Binary Search "
   ]
  },
  {
   "cell_type": "markdown",
   "metadata": {
    "collapsed": true
   },
   "source": [
    "### Convert BST to Greater Tree\n",
    "\n",
    "https://leetcode.com/problems/convert-bst-to-greater-tree/description/"
   ]
  },
  {
   "cell_type": "code",
   "execution_count": 1,
   "metadata": {
    "collapsed": true
   },
   "outputs": [],
   "source": [
    "# Definition for a binary tree node.\n",
    "# class TreeNode(object):\n",
    "#     def __init__(self, x):\n",
    "#         self.val = x\n",
    "#         self.left = None\n",
    "#         self.right = None\n",
    "\n",
    "class Solution(object):\n",
    "    def convertBST(self, root):\n",
    "        \"\"\"\n",
    "        :type root: TreeNode\n",
    "        :rtype: TreeNode\n",
    "        \"\"\"\n",
    "        self.sum = 0\n",
    "        self.dfs(root)\n",
    "        return root\n",
    "        \n",
    "    def dfs(self, root):\n",
    "        if root is None:\n",
    "            return \n",
    "        if root.right:\n",
    "            self.dfs(root.right)\n",
    "        self.sum += root.val\n",
    "        root.val = self.sum\n",
    "        if root.left:\n",
    "            self.dfs(root.left)"
   ]
  },
  {
   "cell_type": "markdown",
   "metadata": {
    "collapsed": true
   },
   "source": [
    "### Inorder Successor in BST\n",
    "\n",
    "https://leetcode.com/problems/inorder-successor-in-bst/description/\n",
    "\n",
    "* [Depth First Traversals](http://www.geeksforgeeks.org/tree-traversals-inorder-preorder-and-postorder/): \n",
    "\n",
    "(a) Inorder (Left, Root, Right) : 4 2 5 1 3\n",
    "\n",
    "(b) Preorder (Root, Left, Right) : 1 2 4 5 3\n",
    "\n",
    "(c) Postorder (Left, Right, Root) : 4 5 2 3 1\n"
   ]
  },
  {
   "cell_type": "code",
   "execution_count": 2,
   "metadata": {
    "collapsed": true
   },
   "outputs": [],
   "source": [
    "# Definition for a binary tree node.\n",
    "# class TreeNode(object):\n",
    "#     def __init__(self, x):\n",
    "#         self.val = x\n",
    "#         self.left = None\n",
    "#         self.right = None\n",
    "\n",
    "class Solution(object):\n",
    "    def inorderSuccessor(self, root, p):\n",
    "        \"\"\"\n",
    "        :type root: TreeNode\n",
    "        :type p: TreeNode\n",
    "        :rtype: TreeNode\n",
    "        \"\"\"\n",
    "        succ = None\n",
    "        while root:\n",
    "            if root.val <= p.val:\n",
    "                root = root.right\n",
    "            else:\n",
    "                succ = root\n",
    "                root = root.left\n",
    "        return succ\n",
    "        "
   ]
  },
  {
   "cell_type": "markdown",
   "metadata": {
    "collapsed": true
   },
   "source": [
    "### Binary Tree Upside Down\n",
    "\n",
    "https://leetcode.com/problems/binary-tree-upside-down/description/"
   ]
  },
  {
   "cell_type": "markdown",
   "metadata": {},
   "source": [
    "### Find Leaves of Binary Tree\n",
    "\n",
    "https://leetcode.com/problems/find-leaves-of-binary-tree/description/"
   ]
  },
  {
   "cell_type": "markdown",
   "metadata": {},
   "source": [
    "### Binary Tree Vertical Order Traversal\n",
    "\n",
    "https://leetcode.com/problems/binary-tree-vertical-order-traversal/description/"
   ]
  },
  {
   "cell_type": "markdown",
   "metadata": {},
   "source": [
    "# Lecture 5: How to Implement Search Problem Effectively"
   ]
  },
  {
   "cell_type": "code",
   "execution_count": null,
   "metadata": {
    "collapsed": true
   },
   "outputs": [],
   "source": []
  },
  {
   "cell_type": "markdown",
   "metadata": {},
   "source": [
    "# Lecture 6: Math, Computational Graphic, Bit Operation "
   ]
  },
  {
   "cell_type": "markdown",
   "metadata": {},
   "source": [
    "### Search a 2D Matrix  (Binary search!!!)\n",
    "\n",
    "https://leetcode.com/problems/search-a-2d-matrix/description/"
   ]
  },
  {
   "cell_type": "code",
   "execution_count": null,
   "metadata": {
    "collapsed": true
   },
   "outputs": [],
   "source": [
    "# binary search template\n",
    "while start + 1 < end:\n",
    "    mid = start + (end - start) / 2\n",
    "    if ...."
   ]
  },
  {
   "cell_type": "code",
   "execution_count": 172,
   "metadata": {
    "collapsed": true
   },
   "outputs": [],
   "source": [
    "class Solution(object):\n",
    "    def searchMatrix(self, matrix, target):\n",
    "        \"\"\"\n",
    "        :type matrix: List[List[int]]\n",
    "        :type target: int\n",
    "        :rtype: bool\n",
    "        \"\"\"\n",
    "        if len(matrix) == 0 or len(matrix[0]) == 0:\n",
    "            return False\n",
    "        m, n = len(matrix), len(matrix[0])\n",
    "        start, end = 0, m*n - 1\n",
    "        while start + 1 < end:\n",
    "            mid = start + (end - start) / 2\n",
    "            i = mid / n\n",
    "            j = mid % n\n",
    "            if matrix[i][j] == target:\n",
    "                return True\n",
    "            elif matrix[i][j] > target:\n",
    "                end = mid - 1\n",
    "            else:\n",
    "                start = mid + 1\n",
    "        \n",
    "        i = start / n\n",
    "        j = start % n\n",
    "        if matrix[i][j] == target:\n",
    "            return True\n",
    "        \n",
    "        i = end / n\n",
    "        j = end % n\n",
    "        if matrix[i][j] == target:\n",
    "            return True\n",
    "        \n",
    "        return False"
   ]
  },
  {
   "cell_type": "markdown",
   "metadata": {},
   "source": [
    "### Search a 2D Matrix II\n",
    "\n",
    "https://leetcode.com/problems/search-a-2d-matrix-ii/description/"
   ]
  },
  {
   "cell_type": "code",
   "execution_count": 171,
   "metadata": {
    "collapsed": true
   },
   "outputs": [],
   "source": [
    "class Solution(object):\n",
    "    def searchMatrix(self, matrix, target):\n",
    "        \"\"\"\n",
    "        :type matrix: List[List[int]]\n",
    "        :type target: int\n",
    "        :rtype: bool\n",
    "        \"\"\"\n",
    "        if len(matrix) == 0 or len(matrix[0]) == 0:\n",
    "            return False\n",
    "        \n",
    "        m, n = len(matrix), len(matrix[0])\n",
    "        r, c = 0, n-1\n",
    "        while r < m and c >= 0:\n",
    "            if matrix[r][c] == target:\n",
    "                return True\n",
    "            elif matrix[r][c] > target:\n",
    "                c -= 1\n",
    "            else:\n",
    "                r += 1\n",
    "        \n",
    "        return False"
   ]
  },
  {
   "cell_type": "markdown",
   "metadata": {},
   "source": [
    "### Rotate Image\n",
    "\n",
    "https://leetcode.com/problems/rotate-image/description/"
   ]
  },
  {
   "cell_type": "code",
   "execution_count": 174,
   "metadata": {
    "collapsed": true
   },
   "outputs": [],
   "source": [
    "for i in range(-1):\n",
    "    print(i)"
   ]
  },
  {
   "cell_type": "code",
   "execution_count": 175,
   "metadata": {
    "collapsed": true
   },
   "outputs": [],
   "source": [
    "class Solution(object):\n",
    "    def rotate(self, matrix):\n",
    "        \"\"\"\n",
    "        :type matrix: List[List[int]]\n",
    "        :rtype: void Do not return anything, modify matrix in-place instead.\n",
    "        \"\"\"\n",
    "        m, n = len(matrix), len(matrix[0])\n",
    "        for i in range(m):\n",
    "            for j in range(i):\n",
    "                matrix[i][j], matrix[j][i] = matrix[j][i], matrix[i][j]\n",
    "        \n",
    "        for i in range(m):\n",
    "            for j in range(n/2):\n",
    "                matrix[i][j], matrix[i][n-1-j] = matrix[i][n-1-j], matrix[i][j]\n"
   ]
  },
  {
   "cell_type": "markdown",
   "metadata": {},
   "source": [
    "### Sparse Matrix Multiplication\n",
    "\n",
    "https://leetcode.com/problems/sparse-matrix-multiplication/description/"
   ]
  },
  {
   "cell_type": "code",
   "execution_count": 176,
   "metadata": {
    "collapsed": true
   },
   "outputs": [],
   "source": [
    "class Solution(object):\n",
    "    def multiply(self, A, B):\n",
    "        \"\"\"\n",
    "        :type A: List[List[int]]\n",
    "        :type B: List[List[int]]\n",
    "        :rtype: List[List[int]]\n",
    "        \"\"\"\n",
    "        \n",
    "        m, n, l = len(A), len(B), len(B[0])\n",
    "        dicA, dicB = {}, {}\n",
    "        for i in range(m):\n",
    "            for j in range(n):\n",
    "                if A[i][j] != 0:\n",
    "                    dicA[i] = dicA.get(i, []) + [(j, A[i][j])]\n",
    "                \n",
    "        for i in range(n):\n",
    "            for j in range(l):\n",
    "                if B[i][j] != 0:\n",
    "                    dicB[i] = dicB.get(i, []) + [(j, B[i][j])]\n",
    "        \n",
    "        C = [[0 for j in range(l)] for i in range(m)]\n",
    "        \n",
    "        for i in dicA:\n",
    "            for a in dicA[i]:\n",
    "                j = a[0]\n",
    "                if j in dicB:\n",
    "                    for b in dicB[j]:\n",
    "                        k = b[0]\n",
    "                        C[i][k] += a[1]*b[1]\n",
    "        return C\n",
    "        \n",
    "        \n",
    "#         # faster       \n",
    "#         m, n, l = len(A), len(B), len(B[0])\n",
    "#         C = [[0 for j in range(l)] for i in range(m)]\n",
    "        \n",
    "#         for i in range(m):\n",
    "#             for j in range(n):\n",
    "#                 if A[i][j] != 0:\n",
    "#                     for k in range(l):\n",
    "#                         C[i][k] += A[i][j]*B[j][k]\n",
    "#         return C\n",
    "        "
   ]
  },
  {
   "cell_type": "markdown",
   "metadata": {},
   "source": [
    "## Bit operation"
   ]
  },
  {
   "cell_type": "markdown",
   "metadata": {},
   "source": [
    "#### Big Integer Addition \n",
    "\n",
    "http://www.lintcode.com/zh-cn/problem/big-integer-addition/\n",
    "\n",
    "https://leetcode.com/problems/add-strings/description/\n",
    "\n",
    "* ord(num1[i]) - ord('0') is faster than int(num1[i])\n",
    "\n",
    "* do not forget i -= 1"
   ]
  },
  {
   "cell_type": "code",
   "execution_count": 1,
   "metadata": {
    "collapsed": true
   },
   "outputs": [],
   "source": [
    "class Solution(object):\n",
    "    def addStrings(self, num1, num2):\n",
    "        \"\"\"\n",
    "        :type num1: str\n",
    "        :type num2: str\n",
    "        :rtype: str\n",
    "        \"\"\"\n",
    "        i, j = len(num1) - 1, len(num2) - 1\n",
    "        carry, res = 0, ''\n",
    "        while i >= 0 or j >= 0:\n",
    "            if i >= 0:\n",
    "                carry += ord(num1[i]) - ord('0')\n",
    "                i -= 1\n",
    "            if j >= 0:\n",
    "                carry += ord(num2[j]) - ord('0')\n",
    "                j -= 1\n",
    "            res = str(carry % 10) + res\n",
    "            carry /= 10\n",
    "        \n",
    "        return res if carry == 0 else str(carry) + res\n",
    "        "
   ]
  },
  {
   "cell_type": "markdown",
   "metadata": {},
   "source": [
    "#### Add Binary\n",
    "\n",
    "https://leetcode.com/problems/add-binary/description/"
   ]
  },
  {
   "cell_type": "code",
   "execution_count": 2,
   "metadata": {
    "collapsed": true
   },
   "outputs": [],
   "source": [
    "class Solution(object):\n",
    "    def addBinary(self, a, b):\n",
    "        \"\"\"\n",
    "        :type a: str\n",
    "        :type b: str\n",
    "        :rtype: str\n",
    "        \"\"\"\n",
    "        i, j = len(a) - 1, len(b) - 1\n",
    "        res, carry = '', 0\n",
    "        while i >= 0 or j >= 0:\n",
    "            if i >= 0:\n",
    "                if a[i] == '1':\n",
    "                    carry += 1\n",
    "                i -= 1\n",
    "            if j >= 0:\n",
    "                if b[j] == '1':\n",
    "                    carry += 1\n",
    "                j -= 1\n",
    "            res = str(carry % 2) + res\n",
    "            carry /= 2\n",
    "        return res if carry == 0 else '1' + res\n",
    "        "
   ]
  },
  {
   "cell_type": "markdown",
   "metadata": {},
   "source": [
    "#### Add Two Numbers\n",
    "\n",
    "http://www.lintcode.com/en/problem/add-two-numbers/\n",
    "\n",
    "https://leetcode.com/problems/add-two-numbers/description/"
   ]
  },
  {
   "cell_type": "code",
   "execution_count": 3,
   "metadata": {
    "collapsed": true
   },
   "outputs": [],
   "source": [
    "# Definition for singly-linked list.\n",
    "# class ListNode(object):\n",
    "#     def __init__(self, x):\n",
    "#         self.val = x\n",
    "#         self.next = None\n",
    "\n",
    "class Solution(object):\n",
    "    def addTwoNumbers(self, l1, l2):\n",
    "        \"\"\"\n",
    "        :type l1: ListNode\n",
    "        :type l2: ListNode\n",
    "        :rtype: ListNode\n",
    "        \"\"\"\n",
    "        dummy = ListNode(0)\n",
    "        p = dummy\n",
    "        carry = 0\n",
    "        while True:\n",
    "            if l1 is not None:\n",
    "                carry += l1.val\n",
    "                l1 = l1.next\n",
    "            if l2 is not None:\n",
    "                carry += l2.val\n",
    "                l2 = l2.next\n",
    "            p.val = carry % 10\n",
    "            carry /= 10\n",
    "            if l1 is not None or l2 is not None or carry != 0:\n",
    "                temp = ListNode(0)\n",
    "                p.next = temp\n",
    "                p = p.next\n",
    "            else:\n",
    "                break\n",
    "        \n",
    "        return dummy"
   ]
  },
  {
   "cell_type": "markdown",
   "metadata": {},
   "source": [
    "#### Add Two Numbers¶ II\n",
    "\n",
    "https://leetcode.com/problems/add-two-numbers-ii/description/\n",
    "\n",
    "* stack\n",
    "\n",
    "* reverse a linked list !!!"
   ]
  },
  {
   "cell_type": "code",
   "execution_count": 178,
   "metadata": {
    "collapsed": true
   },
   "outputs": [],
   "source": [
    "a = [1,2,3]"
   ]
  },
  {
   "cell_type": "code",
   "execution_count": 179,
   "metadata": {},
   "outputs": [
    {
     "data": {
      "text/plain": [
       "3"
      ]
     },
     "execution_count": 179,
     "metadata": {},
     "output_type": "execute_result"
    }
   ],
   "source": [
    "a.pop()"
   ]
  },
  {
   "cell_type": "code",
   "execution_count": 180,
   "metadata": {},
   "outputs": [
    {
     "data": {
      "text/plain": [
       "[1, 2]"
      ]
     },
     "execution_count": 180,
     "metadata": {},
     "output_type": "execute_result"
    }
   ],
   "source": [
    "a"
   ]
  },
  {
   "cell_type": "code",
   "execution_count": 181,
   "metadata": {},
   "outputs": [
    {
     "data": {
      "text/plain": [
       "1"
      ]
     },
     "execution_count": 181,
     "metadata": {},
     "output_type": "execute_result"
    }
   ],
   "source": [
    "a.pop(0)"
   ]
  },
  {
   "cell_type": "code",
   "execution_count": 183,
   "metadata": {},
   "outputs": [
    {
     "data": {
      "text/plain": [
       "2"
      ]
     },
     "execution_count": 183,
     "metadata": {},
     "output_type": "execute_result"
    }
   ],
   "source": [
    "a.pop()"
   ]
  },
  {
   "cell_type": "code",
   "execution_count": 4,
   "metadata": {
    "collapsed": true
   },
   "outputs": [],
   "source": [
    "# Definition for singly-linked list.\n",
    "# class ListNode(object):\n",
    "#     def __init__(self, x):\n",
    "#         self.val = x\n",
    "#         self.next = None\n",
    "\n",
    "class Solution(object):\n",
    "    def addTwoNumbers(self, l1, l2):\n",
    "        \"\"\"\n",
    "        :type l1: ListNode\n",
    "        :type l2: ListNode\n",
    "        :rtype: ListNode\n",
    "        \"\"\"\n",
    "        nums1, nums2 = [], []\n",
    "        while l1 is not None:\n",
    "            nums1.append(l1.val)\n",
    "            l1 = l1.next\n",
    "        while l2 is not None:\n",
    "            nums2.append(l2.val)\n",
    "            l2 = l2.next\n",
    "        \n",
    "        res = ListNode(0)\n",
    "        carry = 0\n",
    "        while len(nums1) > 0 or len(nums2) > 0:\n",
    "            if len(nums1) > 0:\n",
    "                carry += nums1.pop()\n",
    "            if len(nums2) > 0:\n",
    "                carry += nums2.pop()\n",
    "            res.val = carry % 10\n",
    "            carry /= 10\n",
    "            p = ListNode(carry)\n",
    "            p.next = res\n",
    "            res = p\n",
    "        return res if res.val != 0 else res.next\n",
    "        "
   ]
  },
  {
   "cell_type": "code",
   "execution_count": 8,
   "metadata": {
    "collapsed": true
   },
   "outputs": [],
   "source": [
    "# Definition for singly-linked list.\n",
    "# class ListNode(object):\n",
    "#     def __init__(self, x):\n",
    "#         self.val = x\n",
    "#         self.next = None\n",
    "\n",
    "class Solution(object):\n",
    "    def addTwoNumbers(self, l1, l2):\n",
    "        \"\"\"\n",
    "        :type l1: ListNode\n",
    "        :type l2: ListNode\n",
    "        :rtype: ListNode\n",
    "        \"\"\"\n",
    "        l1 = self.reverseList(l1)\n",
    "        l2 = self.reverseList(l2)\n",
    "        dummy = ListNode(0)\n",
    "        p = dummy\n",
    "        carry = 0\n",
    "        while True:\n",
    "            if l1 is not None:\n",
    "                carry += l1.val\n",
    "                l1 = l1.next\n",
    "            if l2 is not None:\n",
    "                carry += l2.val\n",
    "                l2 = l2.next\n",
    "            p.val = carry % 10\n",
    "            carry /= 10\n",
    "            if l1 is not None or l2 is not None or carry != 0:\n",
    "                p.next = ListNode(0)\n",
    "                p = p.next\n",
    "            else:\n",
    "                break\n",
    "        return self.reverseList(dummy)\n",
    "        \n",
    "        \n",
    "        \n",
    "    def reverseList(self, l):\n",
    "        prev = None\n",
    "        while l:\n",
    "            curr = l\n",
    "            l = l.next\n",
    "            curr.next = prev\n",
    "            prev = curr\n",
    "        return prev\n",
    "        "
   ]
  },
  {
   "cell_type": "markdown",
   "metadata": {},
   "source": [
    "#### Big Integer multiplication\n",
    "\n",
    "http://www.lintcode.com/en/problem/big-integer-multiplication/\n",
    "\n",
    "https://leetcode.com/problems/multiply-strings/description/"
   ]
  },
  {
   "cell_type": "code",
   "execution_count": 188,
   "metadata": {},
   "outputs": [
    {
     "data": {
      "text/plain": [
       "''"
      ]
     },
     "execution_count": 188,
     "metadata": {},
     "output_type": "execute_result"
    }
   ],
   "source": [
    "'0'*0"
   ]
  },
  {
   "cell_type": "code",
   "execution_count": 9,
   "metadata": {
    "collapsed": true
   },
   "outputs": [],
   "source": [
    "class Solution(object):\n",
    "    def multiply(self, num1, num2):\n",
    "        \"\"\"\n",
    "        :type num1: str\n",
    "        :type num2: str\n",
    "        :rtype: str\n",
    "        \"\"\"\n",
    "        len1, len2 = len(num1), len(num2)\n",
    "        num3 = [0] * (len1 + len2)\n",
    "        for i in range(len1-1, -1, -1):\n",
    "            carry = 0\n",
    "            for j in range(len2-1, -1, -1):\n",
    "                product = num3[i + j + 1] + carry + (ord(num1[i]) - ord('0')) * (ord(num2[j]) - ord('0'))\n",
    "                num3[i + j + 1] = product % 10\n",
    "                carry = product / 10\n",
    "            num3[i] = carry\n",
    "        \n",
    "        res = ''\n",
    "        i = 0\n",
    "        while i < len1 + len2 - 1 and num3[i] == 0:\n",
    "            i += 1\n",
    "        while i < len1 + len2:\n",
    "            res += str(num3[i])\n",
    "            i += 1\n",
    "        return res\n",
    "            \n",
    "                \n",
    "        "
   ]
  },
  {
   "cell_type": "markdown",
   "metadata": {},
   "source": [
    "### Pow(x, n)\n",
    "\n",
    "https://leetcode.com/problems/powx-n/description/"
   ]
  },
  {
   "cell_type": "code",
   "execution_count": 189,
   "metadata": {},
   "outputs": [
    {
     "data": {
      "text/plain": [
       "3"
      ]
     },
     "execution_count": 189,
     "metadata": {},
     "output_type": "execute_result"
    }
   ],
   "source": [
    "n = -3\n",
    "-n"
   ]
  },
  {
   "cell_type": "code",
   "execution_count": 10,
   "metadata": {
    "collapsed": true
   },
   "outputs": [],
   "source": [
    "class Solution(object):\n",
    "    def myPow(self, x, n):\n",
    "        \"\"\"\n",
    "        :type x: float\n",
    "        :type n: int\n",
    "        :rtype: float\n",
    "        \"\"\"\n",
    "        if n == 0:\n",
    "            return 1\n",
    "        if n < 0:\n",
    "            x = 1.0 / x\n",
    "            n = -n\n",
    "        \n",
    "        res = 1\n",
    "        temp = x\n",
    "        while n != 0:\n",
    "            if n % 2 == 1:\n",
    "                res *= temp\n",
    "            temp *= temp\n",
    "            n /= 2\n",
    "        \n",
    "        return res\n",
    "        "
   ]
  },
  {
   "cell_type": "markdown",
   "metadata": {},
   "source": [
    "### Reverse Linked List\n",
    "\n",
    "https://leetcode.com/problems/reverse-linked-list/description/\n",
    "\n",
    "* do not mass up the order !!!"
   ]
  },
  {
   "cell_type": "code",
   "execution_count": 6,
   "metadata": {
    "collapsed": true
   },
   "outputs": [],
   "source": [
    "# Definition for singly-linked list.\n",
    "# class ListNode(object):\n",
    "#     def __init__(self, x):\n",
    "#         self.val = x\n",
    "#         self.next = None\n",
    "\n",
    "class Solution(object):\n",
    "    def reverseList(self, head):\n",
    "        \"\"\"\n",
    "        :type head: ListNode\n",
    "        :rtype: ListNode\n",
    "        \"\"\"\n",
    "        prev = None\n",
    "        while head is not None:\n",
    "            curr = head\n",
    "            head = head.next  # do not mass up the order !!!\n",
    "            curr.next = prev\n",
    "            prev = curr\n",
    "        return prev\n",
    "        "
   ]
  },
  {
   "cell_type": "markdown",
   "metadata": {},
   "source": [
    "### Reverse Linked List II\n",
    "\n",
    "https://leetcode.com/problems/reverse-linked-list-ii/description/"
   ]
  },
  {
   "cell_type": "code",
   "execution_count": 7,
   "metadata": {
    "collapsed": true
   },
   "outputs": [],
   "source": [
    "# Definition for singly-linked list.\n",
    "# class ListNode(object):\n",
    "#     def __init__(self, x):\n",
    "#         self.val = x\n",
    "#         self.next = None\n",
    "\n",
    "class Solution(object):\n",
    "    def reverseBetween(self, head, m, n):\n",
    "        \"\"\"\n",
    "        :type head: ListNode\n",
    "        :type m: int\n",
    "        :type n: int\n",
    "        :rtype: ListNode\n",
    "        \"\"\"\n",
    "        dummy = ListNode(0)\n",
    "        dummy.next = head\n",
    "        mth_prev = self.find_kth(dummy, m-1)\n",
    "        mth = mth_prev.next\n",
    "        nth = self.find_kth(dummy, n)\n",
    "        nth_next = nth.next\n",
    "        nth.next = None\n",
    "        self.reverse(mth)\n",
    "        \n",
    "        mth_prev.next = nth\n",
    "        mth.next = nth_next\n",
    "        return dummy.next\n",
    "\n",
    "        \n",
    "    def reverse(self, head):\n",
    "        prev = None\n",
    "        while head is not None:\n",
    "            curr = head\n",
    "            head = head.next\n",
    "            curr.next = prev\n",
    "            prev = curr\n",
    "        return prev\n",
    "    \n",
    "    def find_kth(self, head, k):\n",
    "        for i in range(k):\n",
    "            if head is None:\n",
    "                return None\n",
    "            head = head.next\n",
    "        return head\n",
    "        "
   ]
  },
  {
   "cell_type": "markdown",
   "metadata": {},
   "source": [
    "### Remove Nth Node From End of List\n",
    "\n",
    "https://leetcode.com/problems/remove-nth-node-from-end-of-list/description/"
   ]
  },
  {
   "cell_type": "code",
   "execution_count": null,
   "metadata": {
    "collapsed": true
   },
   "outputs": [],
   "source": []
  }
 ],
 "metadata": {
  "anaconda-cloud": {},
  "kernelspec": {
   "display_name": "Python 3",
   "language": "python",
   "name": "python3"
  },
  "language_info": {
   "codemirror_mode": {
    "name": "ipython",
    "version": 3
   },
   "file_extension": ".py",
   "mimetype": "text/x-python",
   "name": "python",
   "nbconvert_exporter": "python",
   "pygments_lexer": "ipython3",
   "version": "3.6.2"
  }
 },
 "nbformat": 4,
 "nbformat_minor": 1
}
