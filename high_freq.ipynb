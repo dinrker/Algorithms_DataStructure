{
 "cells": [
  {
   "cell_type": "markdown",
   "metadata": {},
   "source": [
    "### Check Word Abbreviation\n",
    "http://www.lintcode.com/en/problem/check-word-abbreviation/\n",
    "\n"
   ]
  },
  {
   "cell_type": "code",
   "execution_count": 1,
   "metadata": {
    "collapsed": true
   },
   "outputs": [],
   "source": [
    "class Solution:\n",
    "    \"\"\"\n",
    "    @param: word: a non-empty string\n",
    "    @param: abbr: an abbreviation\n",
    "    @return: true if string matches with the given abbr or false\n",
    "    \"\"\"\n",
    "    def validWordAbbreviation(self, word, abbr):\n",
    "        # write your code here\n",
    "        i, n = 0, '0'\n",
    "        \n",
    "        for c in abbr:\n",
    "            if c.isdigit():\n",
    "                if c == n:\n",
    "                    return False\n",
    "                n += c\n",
    "            else:\n",
    "                i += int(n)\n",
    "                if i >= len(word) or word[i] != c:\n",
    "                    return False\n",
    "                i += 1\n",
    "                n = '0'\n",
    "        \n",
    "        return len(word[i:]) == int(n)                "
   ]
  },
  {
   "cell_type": "markdown",
   "metadata": {},
   "source": [
    "### Words Abbreviation\n",
    "http://www.lintcode.com/en/problem/words-abbreviation/\n",
    "\n",
    "* glist[abrr] = list of words\n",
    "* if len(glist[abrr]) > 1 --> solve until len == 1, record dic[word] = abbr\n",
    "* return map(dic.get, dict)"
   ]
  },
  {
   "cell_type": "code",
   "execution_count": 16,
   "metadata": {
    "collapsed": true
   },
   "outputs": [],
   "source": [
    "import collections"
   ]
  },
  {
   "cell_type": "code",
   "execution_count": 24,
   "metadata": {
    "collapsed": true
   },
   "outputs": [],
   "source": [
    "class Solution:\n",
    "    \"\"\"\n",
    "    @param: dict: an array of n distinct non-empty strings\n",
    "    @return: an array of minimal possible abbreviations for every word\n",
    "    \"\"\"\n",
    "    def wordsAbbreviation(self, dict):\n",
    "        # write your code here\n",
    "        self.dic = {}\n",
    "        self.solve(dict, 0)\n",
    "        return map(self.dic.get, dict)\n",
    "        \n",
    "    def abbr(self, word, size):\n",
    "        if len(word) - size <= 3:\n",
    "            return word\n",
    "        else:\n",
    "            return word[: size + 1] + str(len(word) - size - 2) + word[-1]\n",
    "    \n",
    "    def solve(self, dict, size):\n",
    "        glist = collections.defaultdict(list)\n",
    "        for word in dict:\n",
    "            glist[self.abbr(word, size)].append(word)\n",
    "        for abbr, words in glist.items():\n",
    "            if len(words) == 1:\n",
    "                self.dic[words[0]] = abbr\n",
    "            else:\n",
    "                self.solve(words, size+1)"
   ]
  },
  {
   "cell_type": "code",
   "execution_count": 10,
   "metadata": {
    "collapsed": true
   },
   "outputs": [],
   "source": [
    "dict = [\"like\", \"god\", \"internal\", \"me\", \"internet\", \"interval\", \"intension\", \"face\", \"intrusion\"]\n",
    "dic = {\"like\": \"l2e\", \"face\": \"f2e\"}"
   ]
  },
  {
   "cell_type": "code",
   "execution_count": 13,
   "metadata": {},
   "outputs": [
    {
     "data": {
      "text/plain": [
       "['l2e', None, None, None, None, None, None, 'f2e', None]"
      ]
     },
     "execution_count": 13,
     "metadata": {},
     "output_type": "execute_result"
    }
   ],
   "source": [
    "list(map(dic.get, dict))"
   ]
  },
  {
   "cell_type": "code",
   "execution_count": 14,
   "metadata": {},
   "outputs": [
    {
     "data": {
      "text/plain": [
       "'l2e'"
      ]
     },
     "execution_count": 14,
     "metadata": {},
     "output_type": "execute_result"
    }
   ],
   "source": [
    "dic.get(\"like\")"
   ]
  },
  {
   "cell_type": "code",
   "execution_count": 18,
   "metadata": {
    "collapsed": true
   },
   "outputs": [],
   "source": [
    "def abbr(word, size):\n",
    "    if len(word) - size <= 3:\n",
    "        return word\n",
    "    return word[:size+1] + str(len(word) - size - 2) + word[-1]"
   ]
  },
  {
   "cell_type": "code",
   "execution_count": 20,
   "metadata": {
    "collapsed": true
   },
   "outputs": [],
   "source": [
    "glist = collections.defaultdict(list)\n",
    "for word in dict:\n",
    "    glist[abbr(word, 0)].append(word)"
   ]
  },
  {
   "cell_type": "code",
   "execution_count": 21,
   "metadata": {},
   "outputs": [
    {
     "data": {
      "text/plain": [
       "defaultdict(list,\n",
       "            {'f2e': ['face'],\n",
       "             'god': ['god'],\n",
       "             'i6l': ['internal', 'interval'],\n",
       "             'i6t': ['internet'],\n",
       "             'i7n': ['intension', 'intrusion'],\n",
       "             'l2e': ['like'],\n",
       "             'me': ['me']})"
      ]
     },
     "execution_count": 21,
     "metadata": {},
     "output_type": "execute_result"
    }
   ],
   "source": [
    "glist"
   ]
  },
  {
   "cell_type": "code",
   "execution_count": 23,
   "metadata": {},
   "outputs": [
    {
     "name": "stdout",
     "output_type": "stream",
     "text": [
      "l2e ['like']\n",
      "god ['god']\n",
      "i6l ['internal', 'interval']\n",
      "me ['me']\n",
      "i6t ['internet']\n",
      "i7n ['intension', 'intrusion']\n",
      "f2e ['face']\n"
     ]
    }
   ],
   "source": [
    "for abbr, words in glist.items():\n",
    "    print(abbr, words)"
   ]
  },
  {
   "cell_type": "code",
   "execution_count": 25,
   "metadata": {
    "collapsed": true
   },
   "outputs": [],
   "source": [
    "Solu = Solution()"
   ]
  },
  {
   "cell_type": "code",
   "execution_count": 26,
   "metadata": {},
   "outputs": [
    {
     "data": {
      "text/plain": [
       "<map at 0x10c7b3c50>"
      ]
     },
     "execution_count": 26,
     "metadata": {},
     "output_type": "execute_result"
    }
   ],
   "source": [
    "Solu.wordsAbbreviation(dict)"
   ]
  },
  {
   "cell_type": "code",
   "execution_count": 27,
   "metadata": {},
   "outputs": [
    {
     "data": {
      "text/plain": [
       "['l2e', 'god', 'internal', 'me', 'i6t', 'interval', 'inte4n', 'f2e', 'intr4n']"
      ]
     },
     "execution_count": 27,
     "metadata": {},
     "output_type": "execute_result"
    }
   ],
   "source": [
    "list(Solu.wordsAbbreviation(dict))"
   ]
  },
  {
   "cell_type": "code",
   "execution_count": 28,
   "metadata": {},
   "outputs": [
    {
     "data": {
      "text/plain": [
       "['l2e', 'god', 'internal', 'me', 'i6t', 'interval', 'inte4n', 'f2e', 'intr4n']"
      ]
     },
     "execution_count": 28,
     "metadata": {},
     "output_type": "execute_result"
    }
   ],
   "source": [
    "list(Solu.wordsAbbreviation(dict))"
   ]
  },
  {
   "cell_type": "markdown",
   "metadata": {
    "collapsed": true
   },
   "source": [
    "### Sliding window\n",
    "http://www.lintcode.com/zh-cn/problem/sliding-window-average-from-data-stream/\n",
    "\n",
    "https://leetcode.com/problems/moving-average-from-data-stream/description/"
   ]
  },
  {
   "cell_type": "code",
   "execution_count": 1,
   "metadata": {
    "collapsed": true
   },
   "outputs": [],
   "source": [
    "## straight foreward\n",
    "class MovingAverage:\n",
    "    \"\"\"\n",
    "    @param: size: An integer\n",
    "    \"\"\"\n",
    "    def __init__(self, size):\n",
    "        # do intialization if necessary\n",
    "        self.idx = 0\n",
    "        self.sum = 0\n",
    "        self.list = []\n",
    "        self.size = size\n",
    "\n",
    "    \"\"\"\n",
    "    @param: val: An integer\n",
    "    @return:  \n",
    "    \"\"\"\n",
    "    def next(self, val):\n",
    "        # write your code here\n",
    "        self.sum += val\n",
    "        self.idx += 1\n",
    "        if self.idx <= self.size:\n",
    "            self.list += [self.sum]\n",
    "            return float(self.list[-1]) / self.idx\n",
    "        else:\n",
    "            j = self.idx % self.size - 1\n",
    "            prev = self.list[j]\n",
    "            self.list[j] = self.sum\n",
    "            return float(self.list[j] - prev) / self.size\n",
    "\n",
    "\n",
    "# Your MovingAverage object will be instantiated and called as such:\n",
    "# obj = MovingAverage(size)\n",
    "# param = obj.next(val)"
   ]
  },
  {
   "cell_type": "code",
   "execution_count": 9,
   "metadata": {},
   "outputs": [],
   "source": [
    "## data structure: queue\n",
    "class MovingAverage(object):\n",
    "\n",
    "    def __init__(self, size):\n",
    "        \"\"\"\n",
    "        Initialize your data structure here.\n",
    "        :type size: int\n",
    "        \"\"\"\n",
    "        self.queue = collections.deque(maxlen=size)\n",
    "        self.size = size\n",
    "        self.sum = 0\n",
    "        \n",
    "\n",
    "    def next(self, val):\n",
    "        \"\"\"\n",
    "        :type val: int\n",
    "        :rtype: float\n",
    "        \"\"\"\n",
    "        self.sum += val\n",
    "        if len(self.queue) == self.size:\n",
    "            self.sum -= self.queue.popleft()\n",
    "        self.queue.append(val)\n",
    "        return float(self.sum) / len(self.queue)\n",
    "            \n",
    "        \n",
    "\n",
    "\n",
    "# Your MovingAverage object will be instantiated and called as such:\n",
    "# obj = MovingAverage(size)\n",
    "# param_1 = obj.next(val)"
   ]
  },
  {
   "cell_type": "code",
   "execution_count": null,
   "metadata": {
    "collapsed": true
   },
   "outputs": [],
   "source": []
  }
 ],
 "metadata": {
  "anaconda-cloud": {},
  "kernelspec": {
   "display_name": "Python 3",
   "language": "python",
   "name": "python3"
  },
  "language_info": {
   "codemirror_mode": {
    "name": "ipython",
    "version": 3
   },
   "file_extension": ".py",
   "mimetype": "text/x-python",
   "name": "python",
   "nbconvert_exporter": "python",
   "pygments_lexer": "ipython3",
   "version": "3.6.1"
  }
 },
 "nbformat": 4,
 "nbformat_minor": 1
}
