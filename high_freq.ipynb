{
 "cells": [
  {
   "cell_type": "markdown",
   "metadata": {},
   "source": [
    "# Lecture 1: Interview Style of FLAG"
   ]
  },
  {
   "cell_type": "markdown",
   "metadata": {},
   "source": [
    "### Check Word Abbreviation\n",
    "http://www.lintcode.com/en/problem/check-word-abbreviation/\n",
    "\n"
   ]
  },
  {
   "cell_type": "code",
   "execution_count": 1,
   "metadata": {
    "collapsed": true
   },
   "outputs": [],
   "source": [
    "class Solution:\n",
    "    \"\"\"\n",
    "    @param: word: a non-empty string\n",
    "    @param: abbr: an abbreviation\n",
    "    @return: true if string matches with the given abbr or false\n",
    "    \"\"\"\n",
    "    def validWordAbbreviation(self, word, abbr):\n",
    "        # write your code here\n",
    "        i, n = 0, '0'\n",
    "        \n",
    "        for c in abbr:\n",
    "            if c.isdigit():\n",
    "                if c == n:\n",
    "                    return False\n",
    "                n += c\n",
    "            else:\n",
    "                i += int(n)\n",
    "                if i >= len(word) or word[i] != c:\n",
    "                    return False\n",
    "                i += 1\n",
    "                n = '0'\n",
    "        \n",
    "        return len(word[i:]) == int(n)                "
   ]
  },
  {
   "cell_type": "markdown",
   "metadata": {},
   "source": [
    "### Words Abbreviation\n",
    "http://www.lintcode.com/en/problem/words-abbreviation/\n",
    "\n",
    "* glist[abrr] = list of words\n",
    "* if len(glist[abrr]) > 1 --> solve until len == 1, record dic[word] = abbr\n",
    "* return map(dic.get, dict)"
   ]
  },
  {
   "cell_type": "code",
   "execution_count": 16,
   "metadata": {
    "collapsed": true
   },
   "outputs": [],
   "source": [
    "import collections"
   ]
  },
  {
   "cell_type": "code",
   "execution_count": 24,
   "metadata": {
    "collapsed": true
   },
   "outputs": [],
   "source": [
    "class Solution:\n",
    "    \"\"\"\n",
    "    @param: dict: an array of n distinct non-empty strings\n",
    "    @return: an array of minimal possible abbreviations for every word\n",
    "    \"\"\"\n",
    "    def wordsAbbreviation(self, dict):\n",
    "        # write your code here\n",
    "        self.dic = {}\n",
    "        self.solve(dict, 0)\n",
    "        return map(self.dic.get, dict)\n",
    "        \n",
    "    def abbr(self, word, size):\n",
    "        if len(word) - size <= 3:\n",
    "            return word\n",
    "        else:\n",
    "            return word[: size + 1] + str(len(word) - size - 2) + word[-1]\n",
    "    \n",
    "    def solve(self, dict, size):\n",
    "        glist = collections.defaultdict(list)\n",
    "        for word in dict:\n",
    "            glist[self.abbr(word, size)].append(word)\n",
    "        for abbr, words in glist.items():\n",
    "            if len(words) == 1:\n",
    "                self.dic[words[0]] = abbr\n",
    "            else:\n",
    "                self.solve(words, size+1)"
   ]
  },
  {
   "cell_type": "code",
   "execution_count": 10,
   "metadata": {
    "collapsed": true
   },
   "outputs": [],
   "source": [
    "dict = [\"like\", \"god\", \"internal\", \"me\", \"internet\", \"interval\", \"intension\", \"face\", \"intrusion\"]\n",
    "dic = {\"like\": \"l2e\", \"face\": \"f2e\"}"
   ]
  },
  {
   "cell_type": "code",
   "execution_count": 13,
   "metadata": {},
   "outputs": [
    {
     "data": {
      "text/plain": [
       "['l2e', None, None, None, None, None, None, 'f2e', None]"
      ]
     },
     "execution_count": 13,
     "metadata": {},
     "output_type": "execute_result"
    }
   ],
   "source": [
    "list(map(dic.get, dict))"
   ]
  },
  {
   "cell_type": "code",
   "execution_count": 14,
   "metadata": {},
   "outputs": [
    {
     "data": {
      "text/plain": [
       "'l2e'"
      ]
     },
     "execution_count": 14,
     "metadata": {},
     "output_type": "execute_result"
    }
   ],
   "source": [
    "dic.get(\"like\")"
   ]
  },
  {
   "cell_type": "code",
   "execution_count": 18,
   "metadata": {
    "collapsed": true
   },
   "outputs": [],
   "source": [
    "def abbr(word, size):\n",
    "    if len(word) - size <= 3:\n",
    "        return word\n",
    "    return word[:size+1] + str(len(word) - size - 2) + word[-1]"
   ]
  },
  {
   "cell_type": "code",
   "execution_count": 20,
   "metadata": {
    "collapsed": true
   },
   "outputs": [],
   "source": [
    "glist = collections.defaultdict(list)\n",
    "for word in dict:\n",
    "    glist[abbr(word, 0)].append(word)"
   ]
  },
  {
   "cell_type": "code",
   "execution_count": 21,
   "metadata": {},
   "outputs": [
    {
     "data": {
      "text/plain": [
       "defaultdict(list,\n",
       "            {'f2e': ['face'],\n",
       "             'god': ['god'],\n",
       "             'i6l': ['internal', 'interval'],\n",
       "             'i6t': ['internet'],\n",
       "             'i7n': ['intension', 'intrusion'],\n",
       "             'l2e': ['like'],\n",
       "             'me': ['me']})"
      ]
     },
     "execution_count": 21,
     "metadata": {},
     "output_type": "execute_result"
    }
   ],
   "source": [
    "glist"
   ]
  },
  {
   "cell_type": "code",
   "execution_count": 23,
   "metadata": {},
   "outputs": [
    {
     "name": "stdout",
     "output_type": "stream",
     "text": [
      "l2e ['like']\n",
      "god ['god']\n",
      "i6l ['internal', 'interval']\n",
      "me ['me']\n",
      "i6t ['internet']\n",
      "i7n ['intension', 'intrusion']\n",
      "f2e ['face']\n"
     ]
    }
   ],
   "source": [
    "for abbr, words in glist.items():\n",
    "    print(abbr, words)"
   ]
  },
  {
   "cell_type": "code",
   "execution_count": 25,
   "metadata": {
    "collapsed": true
   },
   "outputs": [],
   "source": [
    "Solu = Solution()"
   ]
  },
  {
   "cell_type": "code",
   "execution_count": 26,
   "metadata": {},
   "outputs": [
    {
     "data": {
      "text/plain": [
       "<map at 0x10c7b3c50>"
      ]
     },
     "execution_count": 26,
     "metadata": {},
     "output_type": "execute_result"
    }
   ],
   "source": [
    "Solu.wordsAbbreviation(dict)"
   ]
  },
  {
   "cell_type": "code",
   "execution_count": 27,
   "metadata": {},
   "outputs": [
    {
     "data": {
      "text/plain": [
       "['l2e', 'god', 'internal', 'me', 'i6t', 'interval', 'inte4n', 'f2e', 'intr4n']"
      ]
     },
     "execution_count": 27,
     "metadata": {},
     "output_type": "execute_result"
    }
   ],
   "source": [
    "list(Solu.wordsAbbreviation(dict))"
   ]
  },
  {
   "cell_type": "code",
   "execution_count": 28,
   "metadata": {},
   "outputs": [
    {
     "data": {
      "text/plain": [
       "['l2e', 'god', 'internal', 'me', 'i6t', 'interval', 'inte4n', 'f2e', 'intr4n']"
      ]
     },
     "execution_count": 28,
     "metadata": {},
     "output_type": "execute_result"
    }
   ],
   "source": [
    "list(Solu.wordsAbbreviation(dict))"
   ]
  },
  {
   "cell_type": "markdown",
   "metadata": {},
   "source": [
    "# Lecture 2: Simulation Algorithms & String Manipulation Skills"
   ]
  },
  {
   "cell_type": "markdown",
   "metadata": {
    "collapsed": true
   },
   "source": [
    "### Sliding window\n",
    "http://www.lintcode.com/zh-cn/problem/sliding-window-average-from-data-stream/\n",
    "\n",
    "https://leetcode.com/problems/moving-average-from-data-stream/description/"
   ]
  },
  {
   "cell_type": "code",
   "execution_count": 1,
   "metadata": {
    "collapsed": true
   },
   "outputs": [],
   "source": [
    "## straight foreward\n",
    "class MovingAverage:\n",
    "    \"\"\"\n",
    "    @param: size: An integer\n",
    "    \"\"\"\n",
    "    def __init__(self, size):\n",
    "        # do intialization if necessary\n",
    "        self.idx = 0\n",
    "        self.sum = 0\n",
    "        self.list = []\n",
    "        self.size = size\n",
    "\n",
    "    \"\"\"\n",
    "    @param: val: An integer\n",
    "    @return:  \n",
    "    \"\"\"\n",
    "    def next(self, val):\n",
    "        # write your code here\n",
    "        self.sum += val\n",
    "        self.idx += 1\n",
    "        if self.idx <= self.size:\n",
    "            self.list += [self.sum]\n",
    "            return float(self.list[-1]) / self.idx\n",
    "        else:\n",
    "            j = self.idx % self.size - 1\n",
    "            prev = self.list[j]\n",
    "            self.list[j] = self.sum\n",
    "            return float(self.list[j] - prev) / self.size\n",
    "\n",
    "\n",
    "# Your MovingAverage object will be instantiated and called as such:\n",
    "# obj = MovingAverage(size)\n",
    "# param = obj.next(val)"
   ]
  },
  {
   "cell_type": "markdown",
   "metadata": {},
   "source": [
    "* the usage of collcections, deque, deque.popleft()"
   ]
  },
  {
   "cell_type": "code",
   "execution_count": 99,
   "metadata": {
    "collapsed": true
   },
   "outputs": [],
   "source": [
    "## data structure: queue\n",
    "class MovingAverage(object):\n",
    "\n",
    "    def __init__(self, size):\n",
    "        \"\"\"\n",
    "        Initialize your data structure here.\n",
    "        :type size: int\n",
    "        \"\"\"\n",
    "        self.queue = collections.deque(maxlen=size)\n",
    "        self.size = size\n",
    "        self.sum = 0\n",
    "        \n",
    "\n",
    "    def next(self, val):\n",
    "        \"\"\"\n",
    "        :type val: int\n",
    "        :rtype: float\n",
    "        \"\"\"\n",
    "        self.sum += val\n",
    "        if len(self.queue) == self.size:\n",
    "            self.sum -= self.queue.popleft()\n",
    "        self.queue.append(val)\n",
    "        return float(self.sum) / len(self.queue)\n",
    "            \n",
    "        \n",
    "\n",
    "\n",
    "# Your MovingAverage object will be instantiated and called as such:\n",
    "# obj = MovingAverage(size)\n",
    "# param_1 = obj.next(val)"
   ]
  },
  {
   "cell_type": "code",
   "execution_count": 100,
   "metadata": {
    "collapsed": true
   },
   "outputs": [],
   "source": [
    "import collections"
   ]
  },
  {
   "cell_type": "code",
   "execution_count": 101,
   "metadata": {
    "collapsed": true
   },
   "outputs": [],
   "source": [
    "collections.deque.popleft"
   ]
  },
  {
   "cell_type": "markdown",
   "metadata": {},
   "source": [
    "### One Edit Distance\n",
    "\n",
    "https://leetcode.com/problems/one-edit-distance/description/"
   ]
  },
  {
   "cell_type": "markdown",
   "metadata": {},
   "source": [
    "### Read N Characters Given Read4  (not clear)\n",
    "\n",
    "https://leetcode.com/problems/read-n-characters-given-read4/description/"
   ]
  },
  {
   "cell_type": "code",
   "execution_count": 102,
   "metadata": {},
   "outputs": [],
   "source": [
    "# The read4 API is already defined for you.\n",
    "# @param buf, a list of characters\n",
    "# @return an integer\n",
    "# def read4(buf):\n",
    "\n",
    "class Solution(object):\n",
    "    def read(self, buf, n):\n",
    "        \"\"\"\n",
    "        :type buf: Destination buffer (List[str])\n",
    "        :type n: Maximum number of characters to read (int)\n",
    "        :rtype: The number of characters read (int)\n",
    "        \"\"\"\n",
    "        idx = 0\n",
    "        while True:\n",
    "            buf4 = [\"\"]*4\n",
    "            curr = min(read4(buf4), n-idx)\n",
    "            for i in range(curr):\n",
    "                buf[idx] = buf4[i]\n",
    "                idx += 1\n",
    "            if curr != 4 or idx == n:\n",
    "                return idx"
   ]
  },
  {
   "cell_type": "markdown",
   "metadata": {},
   "source": [
    "### Read Characters From File - multiple calls\n",
    "\n",
    "https://leetcode.com/problems/read-n-characters-given-read4-ii-call-multiple-times/description/"
   ]
  },
  {
   "cell_type": "code",
   "execution_count": 103,
   "metadata": {
    "collapsed": true
   },
   "outputs": [],
   "source": [
    "# The read4 API is already defined for you.\n",
    "# @param buf, a list of characters\n",
    "# @return an integer\n",
    "# def read4(buf):\n",
    "\n",
    "class Solution(object):\n",
    "    def __init__(self):\n",
    "        self.queue = []\n",
    "    \n",
    "    \n",
    "    def read(self, buf, n):\n",
    "        \"\"\"\n",
    "        :type buf: Destination buffer (List[str])\n",
    "        :type n: Maximum number of characters to read (int)\n",
    "        :rtype: The number of characters read (int)\n",
    "        \"\"\"\n",
    "        idx = 0\n",
    "        while True:\n",
    "            buf4 = [\"\"]*4\n",
    "            l = read4(buf4)\n",
    "            self.queue.extend(buf4)\n",
    "            curr = min(len(self.queue), n-idx)\n",
    "            for i in range(curr):\n",
    "                buf[idx] = self.queue.pop(0)\n",
    "                idx += 1\n",
    "            if curr == 0:\n",
    "                break\n",
    "        \n",
    "        return idx"
   ]
  },
  {
   "cell_type": "markdown",
   "metadata": {},
   "source": [
    "### Strings Serialization\n",
    "\n",
    "http://www.lintcode.com/zh-cn/problem/strings-serialization/"
   ]
  },
  {
   "cell_type": "code",
   "execution_count": 114,
   "metadata": {
    "collapsed": true
   },
   "outputs": [],
   "source": [
    "class Solution:\n",
    "    \"\"\"\n",
    "    @param: strs: a list of strings\n",
    "    @return: encodes a list of strings to a single string.\n",
    "    \"\"\"\n",
    "    def encode(self, strs):\n",
    "        # write your code here\n",
    "        res = ''\n",
    "        for s in strs:\n",
    "            for c in s:\n",
    "                if c == \":\":\n",
    "                    res += \"::\"\n",
    "                else:\n",
    "                    res += c\n",
    "            res += \":;\"\n",
    "        return res\n",
    "\n",
    "    \"\"\"\n",
    "    @param: str: A string\n",
    "    @return: dcodes a single string to a list of strings\n",
    "    \"\"\"\n",
    "    def decode(self, str):\n",
    "        # write your code here\n",
    "        res = []\n",
    "        s = ''\n",
    "        i = 0\n",
    "        while i < len(str) - 1:\n",
    "            if str[i] == \":\":\n",
    "                if str[i+1] == \";\":\n",
    "                    res += [s]\n",
    "                    s = ''\n",
    "                else:\n",
    "                    s += str[i+1]\n",
    "                i += 2\n",
    "            else:\n",
    "                s += str[i]\n",
    "                i += 1\n",
    "        return res"
   ]
  },
  {
   "cell_type": "markdown",
   "metadata": {},
   "source": [
    "### System Longest File Path\n",
    "\n",
    "https://leetcode.com/problems/longest-absolute-file-path/description/\n",
    "\n",
    "* splitlines() and lstrip('\\t')"
   ]
  },
  {
   "cell_type": "code",
   "execution_count": 26,
   "metadata": {},
   "outputs": [
    {
     "data": {
      "text/plain": [
       "32"
      ]
     },
     "execution_count": 26,
     "metadata": {},
     "output_type": "execute_result"
    }
   ],
   "source": [
    "len(\"dir/subdir2/subsubdir2/file2.ext\")"
   ]
  },
  {
   "cell_type": "code",
   "execution_count": 27,
   "metadata": {
    "collapsed": true
   },
   "outputs": [],
   "source": [
    "s = \"dir\\n\\tsubdir1\\n\\tsubdir2\\n\\t\\tfile.ext\""
   ]
  },
  {
   "cell_type": "code",
   "execution_count": 31,
   "metadata": {},
   "outputs": [
    {
     "data": {
      "text/plain": [
       "['dir', '\\tsubdir1', '\\tsubdir2', '\\t\\tfile.ext']"
      ]
     },
     "execution_count": 31,
     "metadata": {},
     "output_type": "execute_result"
    }
   ],
   "source": [
    "s.splitlines()"
   ]
  },
  {
   "cell_type": "code",
   "execution_count": 32,
   "metadata": {},
   "outputs": [
    {
     "data": {
      "text/plain": [
       "'file.ext'"
      ]
     },
     "execution_count": 32,
     "metadata": {},
     "output_type": "execute_result"
    }
   ],
   "source": [
    "line = '\\t\\tfile.ext'\n",
    "line.lstrip('\\t')"
   ]
  },
  {
   "cell_type": "code",
   "execution_count": 115,
   "metadata": {
    "collapsed": true
   },
   "outputs": [],
   "source": [
    "class Solution(object):\n",
    "    def lengthLongestPath(self, input):\n",
    "        \"\"\"\n",
    "        :type input: str\n",
    "        :rtype: int\n",
    "        \"\"\"\n",
    "        maxlen = 0\n",
    "        pathlen = {0:0}\n",
    "        for line in input.splitlines():\n",
    "            name = line.lstrip('\\t')\n",
    "            depth = len(line) - len(name)\n",
    "            if '.' in name:\n",
    "                maxlen = max(maxlen, pathlen[depth] + len(name))\n",
    "            else:\n",
    "                pathlen[depth+1] = pathlen[depth] + len(name) + 1\n",
    "        \n",
    "        return maxlen"
   ]
  },
  {
   "cell_type": "markdown",
   "metadata": {},
   "source": [
    "### Roman to Integer\n",
    "\n",
    "https://leetcode.com/problems/roman-to-integer/description/"
   ]
  },
  {
   "cell_type": "code",
   "execution_count": 116,
   "metadata": {
    "collapsed": true
   },
   "outputs": [],
   "source": [
    "class Solution(object):\n",
    "    def romanToInt(self, s):\n",
    "        \"\"\"\n",
    "        :type s: str\n",
    "        :rtype: int\n",
    "        \"\"\"\n",
    "        roman = {\"I\": 1, \"V\": 5, \"X\": 10, \"L\": 50, \"C\": 100, \"D\": 500, \"M\": 1000}\n",
    "        if len(s) == 0:\n",
    "            return 0\n",
    "        res = roman[s[-1]]\n",
    "        idx = len(s) - 2\n",
    "        while idx >= 0:\n",
    "            if roman[s[idx]] < roman[s[idx+1]]:\n",
    "                res -= roman[s[idx]] \n",
    "            else:\n",
    "                res += roman[s[idx]] \n",
    "            idx -= 1\n",
    "        \n",
    "        return res"
   ]
  },
  {
   "cell_type": "markdown",
   "metadata": {},
   "source": [
    "### Integer to Roman\n",
    "\n",
    "https://leetcode.com/problems/roman-to-integer/description/"
   ]
  },
  {
   "cell_type": "code",
   "execution_count": 117,
   "metadata": {
    "collapsed": true
   },
   "outputs": [],
   "source": [
    "class Solution(object):\n",
    "    def parse(self, digit, index):\n",
    "        nums = {1: \"I\", 2: \"II\", 3: \"III\", 4: \"IV\", 5: \"V\", 6: \"VI\", 7: \"VII\", 8: \"VIII\", 9: \"IX\"}\n",
    "        roman = {\n",
    "            \"I\": [\"I\", \"X\", \"C\", \"M\"],\n",
    "            \"V\": [\"V\", \"L\", \"D\", \"?\"],\n",
    "            \"X\": [\"X\", \"C\", \"M\", \"?\"]\n",
    "        }\n",
    "        s = nums[digit]\n",
    "        return s.replace(\"X\", roman[\"X\"][index]).replace(\"V\", roman[\"V\"][index]).replace(\"I\", roman[\"I\"][index])\n",
    "  \n",
    "    \n",
    "    def intToRoman(self, num):\n",
    "        \"\"\"\n",
    "        :type num: int\n",
    "        :rtype: str\n",
    "        \"\"\"\n",
    "        \n",
    "        ans = \"\"\n",
    "        index = 0\n",
    "        while num > 0:\n",
    "            digit = num % 10\n",
    "            if digit != 0:\n",
    "                ans = self.parse(digit, index) + ans\n",
    "            num = int(num / 10)\n",
    "            index += 1\n",
    "        \n",
    "        return ans\n",
    "\n",
    "    \n",
    "#         # solution 1\n",
    "#         nums = [\n",
    "#             [\"I\", \"II\", \"III\", \"IV\", \"V\", \"VI\", \"VII\", \"VIII\", \"IX\"],\n",
    "#             [\"X\", \"XX\", \"XXX\", \"XL\", \"L\", \"LX\", \"LXX\", \"LXXX\", \"XC\"],\n",
    "#             [\"C\", \"CC\", \"CCC\", \"CD\", \"D\", \"DC\", \"DCC\", \"DCCC\", \"CM\"],\n",
    "#             [\"M\", \"MM\", \"MMM\"]\n",
    "#         ]\n",
    "        \n",
    "#         ans = \"\"\n",
    "#         row = 0\n",
    "#         while num > 0:\n",
    "#             digit = num % 10\n",
    "#             if digit != 0:\n",
    "#                 ans = nums[row][digit-1] + ans\n",
    "#             num = num / 10\n",
    "#             row += 1\n",
    "#         return ans"
   ]
  },
  {
   "cell_type": "markdown",
   "metadata": {},
   "source": [
    "### Find the Celebrity\n",
    "\n",
    "https://leetcode.com/problems/find-the-celebrity/description/"
   ]
  },
  {
   "cell_type": "code",
   "execution_count": 118,
   "metadata": {
    "collapsed": true
   },
   "outputs": [],
   "source": [
    "# The knows API is already defined for you.\n",
    "# @param a, person a\n",
    "# @param b, person b\n",
    "# @return a boolean, whether a knows b\n",
    "# def knows(a, b):\n",
    "\n",
    "class Solution(object):\n",
    "    def findCelebrity(self, n):\n",
    "        \"\"\"\n",
    "        :type n: int\n",
    "        :rtype: int\n",
    "        \"\"\"\n",
    "        candidate = 0\n",
    "        for i in range(1, n):\n",
    "            if knows(candidate, i):\n",
    "                candidate = i\n",
    "        \n",
    "        for i in range(candidate):\n",
    "            if not knows(i, candidate) or knows(candidate, i):\n",
    "                return -1\n",
    "        \n",
    "        for i in range(candidate+1, n):\n",
    "            if not knows(i, candidate) or knows(candidate, i):\n",
    "                return -1\n",
    "        \n",
    "        return candidate\n",
    "                \n",
    "        "
   ]
  },
  {
   "cell_type": "code",
   "execution_count": null,
   "metadata": {
    "collapsed": true
   },
   "outputs": [],
   "source": []
  }
 ],
 "metadata": {
  "anaconda-cloud": {},
  "kernelspec": {
   "display_name": "Python 3",
   "language": "python",
   "name": "python3"
  },
  "language_info": {
   "codemirror_mode": {
    "name": "ipython",
    "version": 3
   },
   "file_extension": ".py",
   "mimetype": "text/x-python",
   "name": "python",
   "nbconvert_exporter": "python",
   "pygments_lexer": "ipython3",
   "version": "3.6.1"
  }
 },
 "nbformat": 4,
 "nbformat_minor": 1
}
